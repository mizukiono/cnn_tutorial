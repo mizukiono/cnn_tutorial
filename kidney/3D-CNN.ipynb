{
 "cells": [
  {
   "cell_type": "code",
   "execution_count": 25,
   "metadata": {},
   "outputs": [],
   "source": [
    "from keras.models import Sequential\n",
    "from keras.layers import Conv3D, MaxPooling3D\n",
    "from keras.layers import Activation, Dropout, Flatten, Dense\n",
    "from keras.preprocessing import image"
   ]
  },
  {
   "cell_type": "code",
   "execution_count": 31,
   "metadata": {},
   "outputs": [],
   "source": [
    "import matplotlib.pyplot as plt\n",
    "import numpy as np"
   ]
  },
  {
   "cell_type": "code",
   "execution_count": 22,
   "metadata": {},
   "outputs": [],
   "source": [
    "model = Sequential()\n",
    "model.add(Conv3D(32, (3, 3, 3), activation='relu', input_shape=(200, 200, 26, 1)))\n",
    "model.add(MaxPooling3D(pool_size=(2, 2, 1)))\n",
    "model.add(Conv3D(32, (3, 3, 3), activation='relu'))\n",
    "model.add(MaxPooling3D(pool_size=(2, 2, 1)))\n",
    "model.add(Conv3D(64, (3, 3, 3), activation='relu'))\n",
    "model.add(MaxPooling3D(pool_size=(2, 2, 1)))\n",
    "model.add(Conv3D(64, (3, 3, 3), activation='relu'))\n",
    "model.add(MaxPooling3D(pool_size = (2, 2, 2)))\n",
    "\n",
    "model.add(Flatten())\n",
    "model.add(Dense(64, activation='relu'))\n",
    "model.add(Dropout(0.5))\n",
    "model.add(Dense(1, activation='sigmoid'))"
   ]
  },
  {
   "cell_type": "code",
   "execution_count": 23,
   "metadata": {},
   "outputs": [
    {
     "name": "stdout",
     "output_type": "stream",
     "text": [
      "_________________________________________________________________\n",
      "Layer (type)                 Output Shape              Param #   \n",
      "=================================================================\n",
      "conv3d_25 (Conv3D)           (None, 198, 198, 24, 32)  896       \n",
      "_________________________________________________________________\n",
      "max_pooling3d_25 (MaxPooling (None, 99, 99, 24, 32)    0         \n",
      "_________________________________________________________________\n",
      "conv3d_26 (Conv3D)           (None, 97, 97, 22, 32)    27680     \n",
      "_________________________________________________________________\n",
      "max_pooling3d_26 (MaxPooling (None, 48, 48, 22, 32)    0         \n",
      "_________________________________________________________________\n",
      "conv3d_27 (Conv3D)           (None, 46, 46, 20, 64)    55360     \n",
      "_________________________________________________________________\n",
      "max_pooling3d_27 (MaxPooling (None, 23, 23, 20, 64)    0         \n",
      "_________________________________________________________________\n",
      "conv3d_28 (Conv3D)           (None, 21, 21, 18, 64)    110656    \n",
      "_________________________________________________________________\n",
      "max_pooling3d_28 (MaxPooling (None, 10, 10, 9, 64)     0         \n",
      "_________________________________________________________________\n",
      "flatten_6 (Flatten)          (None, 57600)             0         \n",
      "_________________________________________________________________\n",
      "dense_5 (Dense)              (None, 64)                3686464   \n",
      "_________________________________________________________________\n",
      "dropout_1 (Dropout)          (None, 64)                0         \n",
      "_________________________________________________________________\n",
      "dense_6 (Dense)              (None, 1)                 65        \n",
      "=================================================================\n",
      "Total params: 3,881,121\n",
      "Trainable params: 3,881,121\n",
      "Non-trainable params: 0\n",
      "_________________________________________________________________\n"
     ]
    }
   ],
   "source": [
    "model.summary()"
   ]
  },
  {
   "cell_type": "code",
   "execution_count": 24,
   "metadata": {},
   "outputs": [],
   "source": [
    "model.compile(loss='binary_crossentropy', optimizer='adam', metrics=['accuracy'])"
   ]
  },
  {
   "cell_type": "code",
   "execution_count": 49,
   "metadata": {},
   "outputs": [],
   "source": [
    "img00 = image.load_img('../data/kidney/R-0-000.jpg', grayscale=True, target_size=(100, 100))\n",
    "x00 = image.img_to_array(img00)\n",
    "img10 = image.load_img('../data/kidney/R-1-000.jpg', grayscale=True, target_size=(100, 100))\n",
    "x10 = image.img_to_array(img10)\n",
    "img20 = image.load_img('../data/kidney/R-2-000.jpg', grayscale=True, target_size=(100, 100))\n",
    "x20 = image.img_to_array(img20)\n",
    "img30 = image.load_img('../data/kidney/R-3-000.jpg', grayscale=True, target_size=(100, 100))\n",
    "x30 = image.img_to_array(img30)"
   ]
  },
  {
   "cell_type": "code",
   "execution_count": 65,
   "metadata": {},
   "outputs": [
    {
     "data": {
      "text/plain": [
       "numpy.ndarray"
      ]
     },
     "execution_count": 65,
     "metadata": {},
     "output_type": "execute_result"
    }
   ],
   "source": []
  },
  {
   "cell_type": "code",
   "execution_count": 52,
   "metadata": {},
   "outputs": [],
   "source": [
    "x00x10 = np.concatenate((x00, x10))\n",
    "x20x30 = np.concatenate((x20, x30))\n",
    "x = np.concatenate((x00x10, x20x30), axis=1)"
   ]
  },
  {
   "cell_type": "code",
   "execution_count": 67,
   "metadata": {},
   "outputs": [
    {
     "data": {
      "image/png": "[encoded data removed]",
      "text/plain": [
       "<PIL.Image.Image image mode=L size=200x200 at 0x143A93677F0>"
      ]
     },
     "execution_count": 67,
     "metadata": {},
     "output_type": "execute_result"
    }
   ],
   "source": [
    "image.array_to_img(x)"
   ]
  },
  {
   "cell_type": "code",
   "execution_count": null,
   "metadata": {},
   "outputs": [],
   "source": []
  }
 ],
 "metadata": {
  "kernelspec": {
   "display_name": "Python 3",
   "language": "python",
   "name": "python3"
  },
  "language_info": {
   "codemirror_mode": {
    "name": "ipython",
    "version": 3
   },
   "file_extension": ".py",
   "mimetype": "text/x-python",
   "name": "python",
   "nbconvert_exporter": "python",
   "pygments_lexer": "ipython3",
   "version": "3.6.5"
  }
 },
 "nbformat": 4,
 "nbformat_minor": 2
}
