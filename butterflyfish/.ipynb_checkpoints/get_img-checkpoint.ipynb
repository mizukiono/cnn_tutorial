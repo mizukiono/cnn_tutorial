{
 "cells": [
  {
   "cell_type": "code",
   "execution_count": 69,
   "metadata": {},
   "outputs": [],
   "source": [
    "import os\n",
    "import glob\n",
    "import pandas as pd\n",
    "import urllib\n",
    "import time"
   ]
  },
  {
   "cell_type": "code",
   "execution_count": 9,
   "metadata": {},
   "outputs": [],
   "source": [
    "df = pd.read_csv(\"butterfly.csv\",index_col=0)"
   ]
  },
  {
   "cell_type": "code",
   "execution_count": 12,
   "metadata": {
    "scrolled": true
   },
   "outputs": [
    {
     "data": {
      "text/plain": [
       "トゲチョウチョウウオ                            159\n",
       "ムレハタタテダイ                              140\n",
       "チョウチョウウオ                              136\n",
       "フウライチョウチョウウオ                          122\n",
       "チョウハン                                 106\n",
       "ミゾレチョウチョウウオ                            99\n",
       "シラコダイ                                  93\n",
       "アケボノチョウチョウウオ                           88\n",
       "フエヤッコダイ                                86\n",
       "ハタタテダイ                                 85\n",
       "ミナミハタタテダイ                              78\n",
       "ミスジチョウチョウウオ                            74\n",
       "ヤリカタギ                                  68\n",
       "タキゲンロクダイ                               68\n",
       "ユウゼン                                   59\n",
       "セグロチョウチョウウオ                            56\n",
       "シチセンチョウチョウウオ                           55\n",
       "ゲンロクダイ                                 53\n",
       "ゴマチョウチョウウオ                             53\n",
       "ウミヅキチョウチョウウオ                           52\n",
       "カガミチョウチョウウオ                            50\n",
       "イッテンチョウチョウウオ                           50\n",
       "ツノハタタテダイ                               48\n",
       "ハナグロチョウチョウウオ                           48\n",
       "スミツキトノサマダイ                             48\n",
       "トノサマダイ                                 43\n",
       "オニハタタテダイ                               41\n",
       "カスミチョウチョウウオ                            41\n",
       "ヤスジチョウチョウウオ                            39\n",
       "ニセフウライチョウチョウウオ                         38\n",
       "                                     ... \n",
       "ブラック・バタフライフィッシュ                         4\n",
       "ホワイトフェイス・バタフライフィッシュ                     4\n",
       "バージェスィズ・バタフライフィッシュ                      4\n",
       "バンデッド・バタフライフィッシュ                        4\n",
       "ハタタテダイ属未同定種                             3\n",
       "レインフォーズ・バタフライフィッシュ                      3\n",
       "オレンジフェイス・バタフライフィッシュ                     3\n",
       "シラコダイ×カガミチョウチョウウオ                       3\n",
       "インディアン・バタフライフィッシュ                       3\n",
       "キートドン・アンダマンエンシス                         2\n",
       "スポットフィン・バタフライフィッシュ                      2\n",
       "ヘッジホグ・バタフライフィッシュ                        2\n",
       "スリーバンド・バタフライフィッシュ                       2\n",
       "チョウチョウウオ×ニセフウライチョウチョウウオ                 2\n",
       "ハクテンカタギ×ハナグロチョウチョウウオ                    2\n",
       "ハクテンカタギ×オウギチョウチョウウオ                     2\n",
       "イエロークラウンド・バタフライフィッシュ                    2\n",
       "スミスズ・バタフライフィッシュ                         2\n",
       "マルケザン・バタフライフィッシュ                        2\n",
       "ユウゼン×コクテンカタギ                            2\n",
       "ティンカーズ・バタフライフィッシュ                       2\n",
       "チョウハン×チョウチョウウオ                          1\n",
       "スリーストライプ・バタフライフィッシュ                     1\n",
       "ゴールデンストライプト・バタフライフィッシュ                  1\n",
       "フウライチョウチョウウオ×ニセフウライチョウチョウウオ             1\n",
       "ドットアンドダッシュ・バタフライフィッシュ×シチセンチョウチョウウオ      1\n",
       "トライアンギュラー・バタフライフィッシュ                    1\n",
       "タルマ                                     1\n",
       "タヒチ・バタフライフィッシュ                          1\n",
       "ブラックバーンズ・バタフライフィッシュ                     1\n",
       "Name: name, Length: 107, dtype: int64"
      ]
     },
     "execution_count": 12,
     "metadata": {},
     "output_type": "execute_result"
    }
   ],
   "source": [
    "df['name'].value_counts()"
   ]
  },
  {
   "cell_type": "code",
   "execution_count": 66,
   "metadata": {
    "scrolled": true
   },
   "outputs": [],
   "source": [
    "url_base = \"http://fishpix.kahaku.go.jp\"\n",
    "\n",
    "target = \"ブラック・バタフライフィッシュ\"\n",
    "target_ind = list(df.query('name == @target')['URL'].values)\n",
    "len(target_ind)\n",
    "\n",
    "save_directory = \"../data/originaldata/%s\"%target\n",
    "os.makedirs(save_directory, exist_ok=True)"
   ]
  },
  {
   "cell_type": "code",
   "execution_count": 67,
   "metadata": {},
   "outputs": [
    {
     "data": {
      "text/html": [
       "<div>\n",
       "<style scoped>\n",
       "    .dataframe tbody tr th:only-of-type {\n",
       "        vertical-align: middle;\n",
       "    }\n",
       "\n",
       "    .dataframe tbody tr th {\n",
       "        vertical-align: top;\n",
       "    }\n",
       "\n",
       "    .dataframe thead th {\n",
       "        text-align: right;\n",
       "    }\n",
       "</style>\n",
       "<table border=\"1\" class=\"dataframe\">\n",
       "  <thead>\n",
       "    <tr style=\"text-align: right;\">\n",
       "      <th></th>\n",
       "      <th>name</th>\n",
       "      <th>nameEng</th>\n",
       "      <th>caption</th>\n",
       "      <th>URL</th>\n",
       "    </tr>\n",
       "  </thead>\n",
       "  <tbody>\n",
       "    <tr>\n",
       "      <th>4</th>\n",
       "      <td>ブラック・バタフライフィッシュ</td>\n",
       "      <td>Chaetodon flavirostris Gunther, 1874</td>\n",
       "      <td>KPM-NR 140897</td>\n",
       "      <td>../photos/NR0140/140897AI.jpg</td>\n",
       "    </tr>\n",
       "    <tr>\n",
       "      <th>5</th>\n",
       "      <td>ブラック・バタフライフィッシュ</td>\n",
       "      <td>Chaetodon flavirostris Gunther, 1874</td>\n",
       "      <td>KPM-NR 140898</td>\n",
       "      <td>../photos/NR0140/140898AI.jpg</td>\n",
       "    </tr>\n",
       "    <tr>\n",
       "      <th>8</th>\n",
       "      <td>ブラック・バタフライフィッシュ</td>\n",
       "      <td>Chaetodon flavirostris Gunther, 1874</td>\n",
       "      <td>KPM-NR 27451</td>\n",
       "      <td>../photos/NR0027/27451AI.jpg</td>\n",
       "    </tr>\n",
       "    <tr>\n",
       "      <th>5</th>\n",
       "      <td>ブラック・バタフライフィッシュ</td>\n",
       "      <td>Chaetodon flavirostris Gunther, 1874</td>\n",
       "      <td>KPM-NR 32909</td>\n",
       "      <td>../photos/NR0032/32909AI.jpg</td>\n",
       "    </tr>\n",
       "  </tbody>\n",
       "</table>\n",
       "</div>"
      ],
      "text/plain": [
       "              name                               nameEng        caption  \\\n",
       "4  ブラック・バタフライフィッシュ  Chaetodon flavirostris Gunther, 1874  KPM-NR 140897   \n",
       "5  ブラック・バタフライフィッシュ  Chaetodon flavirostris Gunther, 1874  KPM-NR 140898   \n",
       "8  ブラック・バタフライフィッシュ  Chaetodon flavirostris Gunther, 1874   KPM-NR 27451   \n",
       "5  ブラック・バタフライフィッシュ  Chaetodon flavirostris Gunther, 1874   KPM-NR 32909   \n",
       "\n",
       "                             URL  \n",
       "4  ../photos/NR0140/140897AI.jpg  \n",
       "5  ../photos/NR0140/140898AI.jpg  \n",
       "8   ../photos/NR0027/27451AI.jpg  \n",
       "5   ../photos/NR0032/32909AI.jpg  "
      ]
     },
     "execution_count": 67,
     "metadata": {},
     "output_type": "execute_result"
    }
   ],
   "source": [
    "df.query('name == @target')"
   ]
  },
  {
   "cell_type": "code",
   "execution_count": 70,
   "metadata": {
    "scrolled": true
   },
   "outputs": [],
   "source": [
    "for tar in target_ind:\n",
    "    tar = tar[2:]\n",
    "    url = urllib.parse.urljoin(url_base, tar)\n",
    "    \n",
    "    path = urllib.parse.urlsplit(url)[2]\n",
    "    savename = os.path.basename(path)\n",
    "    \n",
    "    savepath = os.path.join(save_directory, savename)\n",
    "    urllib.request.urlretrieve(url, savepath)\n",
    "    time.sleep(2)"
   ]
  },
  {
   "cell_type": "code",
   "execution_count": null,
   "metadata": {},
   "outputs": [],
   "source": []
  }
 ],
 "metadata": {
  "kernelspec": {
   "display_name": "Python 3",
   "language": "python",
   "name": "python3"
  },
  "language_info": {
   "codemirror_mode": {
    "name": "ipython",
    "version": 3
   },
   "file_extension": ".py",
   "mimetype": "text/x-python",
   "name": "python",
   "nbconvert_exporter": "python",
   "pygments_lexer": "ipython3",
   "version": "3.6.5"
  }
 },
 "nbformat": 4,
 "nbformat_minor": 2
}
