{
 "cells": [
  {
   "cell_type": "code",
   "execution_count": 1,
   "metadata": {},
   "outputs": [
    {
     "name": "stderr",
     "output_type": "stream",
     "text": [
      "Using TensorFlow backend.\n"
     ]
    }
   ],
   "source": [
    "from keras.models import Sequential\n",
    "from keras.layers import Convolution2D, MaxPooling2D\n",
    "from keras.layers import Activation, Dropout, Flatten, Dense\n",
    "from keras.preprocessing.image import ImageDataGenerator"
   ]
  },
  {
   "cell_type": "code",
   "execution_count": 10,
   "metadata": {},
   "outputs": [],
   "source": [
    "epochs = 100"
   ]
  },
  {
   "cell_type": "code",
   "execution_count": 3,
   "metadata": {},
   "outputs": [],
   "source": [
    "# データをつくる\n",
    "train_datagen = ImageDataGenerator(rescale=1.0/255)\n",
    "test_datagen = ImageDataGenerator(rescale=1.0/255)"
   ]
  },
  {
   "cell_type": "code",
   "execution_count": 4,
   "metadata": {},
   "outputs": [
    {
     "name": "stdout",
     "output_type": "stream",
     "text": [
      "Found 200 images belonging to 2 classes.\n"
     ]
    }
   ],
   "source": [
    "train_generator = train_datagen.flow_from_directory('../data/butterflyfish/train', target_size=(150,150), batch_size=32, class_mode='binary')"
   ]
  },
  {
   "cell_type": "code",
   "execution_count": 5,
   "metadata": {},
   "outputs": [
    {
     "name": "stdout",
     "output_type": "stream",
     "text": [
      "Found 60 images belonging to 2 classes.\n"
     ]
    }
   ],
   "source": [
    "validation_generator = test_datagen.flow_from_directory('../data/butterflyfish/validation', target_size=(150,150), batch_size=32, class_mode='binary')"
   ]
  },
  {
   "cell_type": "code",
   "execution_count": 6,
   "metadata": {},
   "outputs": [],
   "source": [
    "# モデルをつくる\n",
    "model = Sequential()\n",
    "model.add(Convolution2D(32, (3, 3), activation='relu', input_shape=(150, 150, 3)))\n",
    "model.add(MaxPooling2D(pool_size=(2,2)))\n",
    "model.add(Convolution2D(32, (3, 3), activation='relu'))\n",
    "model.add(MaxPooling2D(pool_size=(2,2)))\n",
    "model.add(Convolution2D(64, (3, 3), activation='relu'))\n",
    "model.add(MaxPooling2D(pool_size=(2,2)))\n",
    "\n",
    "model.add(Flatten())\n",
    "model.add(Dense(64, activation='relu'))\n",
    "model.add(Dropout(0.5))\n",
    "model.add(Dense(1, activation='sigmoid'))"
   ]
  },
  {
   "cell_type": "code",
   "execution_count": 7,
   "metadata": {},
   "outputs": [
    {
     "name": "stdout",
     "output_type": "stream",
     "text": [
      "_________________________________________________________________\n",
      "Layer (type)                 Output Shape              Param #   \n",
      "=================================================================\n",
      "conv2d_1 (Conv2D)            (None, 148, 148, 32)      896       \n",
      "_________________________________________________________________\n",
      "max_pooling2d_1 (MaxPooling2 (None, 74, 74, 32)        0         \n",
      "_________________________________________________________________\n",
      "conv2d_2 (Conv2D)            (None, 72, 72, 32)        9248      \n",
      "_________________________________________________________________\n",
      "max_pooling2d_2 (MaxPooling2 (None, 36, 36, 32)        0         \n",
      "_________________________________________________________________\n",
      "conv2d_3 (Conv2D)            (None, 34, 34, 64)        18496     \n",
      "_________________________________________________________________\n",
      "max_pooling2d_3 (MaxPooling2 (None, 17, 17, 64)        0         \n",
      "_________________________________________________________________\n",
      "flatten_1 (Flatten)          (None, 18496)             0         \n",
      "_________________________________________________________________\n",
      "dense_1 (Dense)              (None, 64)                1183808   \n",
      "_________________________________________________________________\n",
      "dropout_1 (Dropout)          (None, 64)                0         \n",
      "_________________________________________________________________\n",
      "dense_2 (Dense)              (None, 1)                 65        \n",
      "=================================================================\n",
      "Total params: 1,212,513\n",
      "Trainable params: 1,212,513\n",
      "Non-trainable params: 0\n",
      "_________________________________________________________________\n"
     ]
    }
   ],
   "source": [
    "model.summary()"
   ]
  },
  {
   "cell_type": "code",
   "execution_count": 8,
   "metadata": {},
   "outputs": [],
   "source": [
    "model.compile(loss='binary_crossentropy', optimizer='adam', metrics=['accuracy'])"
   ]
  },
  {
   "cell_type": "code",
   "execution_count": 9,
   "metadata": {
    "scrolled": true
   },
   "outputs": [
    {
     "name": "stdout",
     "output_type": "stream",
     "text": [
      "Epoch 1/20\n",
      "7/7 [==============================] - 3s 377ms/step - loss: 0.6944 - acc: 0.5472 - val_loss: 0.6526 - val_acc: 0.6167\n",
      "Epoch 2/20\n",
      "7/7 [==============================] - 0s 34ms/step - loss: 0.5492 - acc: 0.7455 - val_loss: 0.4774 - val_acc: 0.7167\n",
      "Epoch 3/20\n",
      "7/7 [==============================] - 0s 41ms/step - loss: 0.3467 - acc: 0.8361 - val_loss: 0.7736 - val_acc: 0.7000\n",
      "Epoch 4/20\n",
      "7/7 [==============================] - 0s 34ms/step - loss: 0.3466 - acc: 0.8595 - val_loss: 0.4050 - val_acc: 0.7333\n",
      "Epoch 5/20\n",
      "7/7 [==============================] - 0s 38ms/step - loss: 0.3512 - acc: 0.8497 - val_loss: 0.4194 - val_acc: 0.8000\n",
      "Epoch 6/20\n",
      "7/7 [==============================] - 0s 34ms/step - loss: 0.2274 - acc: 0.9022 - val_loss: 0.4663 - val_acc: 0.7667\n",
      "Epoch 7/20\n",
      "7/7 [==============================] - 0s 38ms/step - loss: 0.1902 - acc: 0.9139 - val_loss: 0.4407 - val_acc: 0.8000\n",
      "Epoch 8/20\n",
      "7/7 [==============================] - 0s 34ms/step - loss: 0.1853 - acc: 0.9456 - val_loss: 0.3964 - val_acc: 0.8333\n",
      "Epoch 9/20\n",
      "7/7 [==============================] - 0s 39ms/step - loss: 0.1852 - acc: 0.9411 - val_loss: 0.3848 - val_acc: 0.8500\n",
      "Epoch 10/20\n",
      "7/7 [==============================] - 0s 45ms/step - loss: 0.1366 - acc: 0.9456 - val_loss: 0.4331 - val_acc: 0.8167\n",
      "Epoch 11/20\n",
      "7/7 [==============================] - 0s 40ms/step - loss: 0.1259 - acc: 0.9456 - val_loss: 0.4384 - val_acc: 0.8500\n",
      "Epoch 12/20\n",
      "7/7 [==============================] - 0s 34ms/step - loss: 0.1224 - acc: 0.9475 - val_loss: 0.4536 - val_acc: 0.8333\n",
      "Epoch 13/20\n",
      "7/7 [==============================] - 0s 38ms/step - loss: 0.1050 - acc: 0.9430 - val_loss: 0.4640 - val_acc: 0.8500\n",
      "Epoch 14/20\n",
      "7/7 [==============================] - 0s 34ms/step - loss: 0.1186 - acc: 0.9637 - val_loss: 0.6020 - val_acc: 0.8333\n",
      "Epoch 15/20\n",
      "7/7 [==============================] - 0s 38ms/step - loss: 0.1140 - acc: 0.9592 - val_loss: 0.3993 - val_acc: 0.8500\n",
      "Epoch 16/20\n",
      "7/7 [==============================] - 0s 44ms/step - loss: 0.1168 - acc: 0.9384 - val_loss: 0.5064 - val_acc: 0.8167\n",
      "Epoch 17/20\n",
      "7/7 [==============================] - 0s 46ms/step - loss: 0.1217 - acc: 0.9637 - val_loss: 0.6043 - val_acc: 0.8000\n",
      "Epoch 18/20\n",
      "7/7 [==============================] - 0s 40ms/step - loss: 0.0869 - acc: 0.9637 - val_loss: 0.4710 - val_acc: 0.8500\n",
      "Epoch 19/20\n",
      "7/7 [==============================] - 0s 43ms/step - loss: 0.0904 - acc: 0.9683 - val_loss: 0.5695 - val_acc: 0.8500\n",
      "Epoch 20/20\n",
      "7/7 [==============================] - 0s 34ms/step - loss: 0.0589 - acc: 0.9864 - val_loss: 0.6335 - val_acc: 0.8333\n"
     ]
    }
   ],
   "source": [
    "history = model.fit_generator(train_generator, epochs=epochs, verbose=1, validation_data=validation_generator)"
   ]
  },
  {
   "cell_type": "code",
   "execution_count": null,
   "metadata": {},
   "outputs": [],
   "source": []
  }
 ],
 "metadata": {
  "kernelspec": {
   "display_name": "Python 3",
   "language": "python",
   "name": "python3"
  },
  "language_info": {
   "codemirror_mode": {
    "name": "ipython",
    "version": 3
   },
   "file_extension": ".py",
   "mimetype": "text/x-python",
   "name": "python",
   "nbconvert_exporter": "python",
   "pygments_lexer": "ipython3",
   "version": "3.6.5"
  }
 },
 "nbformat": 4,
 "nbformat_minor": 2
}
