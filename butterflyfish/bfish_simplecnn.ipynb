{
 "cells": [
  {
   "cell_type": "code",
   "execution_count": 1,
   "metadata": {},
   "outputs": [
    {
     "name": "stderr",
     "output_type": "stream",
     "text": [
      "Using TensorFlow backend.\n"
     ]
    }
   ],
   "source": [
    "from keras.models import Sequential\n",
    "from keras.layers import Convolution2D, MaxPooling2D\n",
    "from keras.layers import Activation, Dropout, Flatten, Dense\n",
    "from keras.preprocessing.image import ImageDataGenerator\n",
    "from keras.callbacks import EarlyStopping\n",
    "import matplotlib.pyplot as plt"
   ]
  },
  {
   "cell_type": "code",
   "execution_count": 2,
   "metadata": {},
   "outputs": [],
   "source": [
    "epochs = 100"
   ]
  },
  {
   "cell_type": "code",
   "execution_count": 3,
   "metadata": {},
   "outputs": [],
   "source": [
    "# データをつくる\n",
    "train_datagen = ImageDataGenerator(rescale=1.0/255, rotation_range=90, width_shift_range=0.2, height_shift_range=0.2)\n",
    "test_datagen = ImageDataGenerator(rescale=1.0/255)"
   ]
  },
  {
   "cell_type": "code",
   "execution_count": 4,
   "metadata": {},
   "outputs": [
    {
     "name": "stdout",
     "output_type": "stream",
     "text": [
      "Found 200 images belonging to 2 classes.\n"
     ]
    }
   ],
   "source": [
    "train_generator = train_datagen.flow_from_directory('../data/butterflyfish/train', target_size=(150,150), \n",
    "                                                    batch_size=32, class_mode='binary')"
   ]
  },
  {
   "cell_type": "code",
   "execution_count": 5,
   "metadata": {},
   "outputs": [
    {
     "name": "stdout",
     "output_type": "stream",
     "text": [
      "Found 60 images belonging to 2 classes.\n"
     ]
    }
   ],
   "source": [
    "validation_generator = test_datagen.flow_from_directory('../data/butterflyfish/validation', target_size=(150,150), \n",
    "                                                        batch_size=32, class_mode='binary')"
   ]
  },
  {
   "cell_type": "code",
   "execution_count": 6,
   "metadata": {},
   "outputs": [],
   "source": [
    "# モデルをつくる\n",
    "model = Sequential()\n",
    "model.add(Convolution2D(32, (3, 3), activation='relu', input_shape=(150, 150, 3)))\n",
    "model.add(MaxPooling2D(pool_size=(2,2)))\n",
    "model.add(Convolution2D(32, (3, 3), activation='relu'))\n",
    "model.add(MaxPooling2D(pool_size=(2,2)))\n",
    "model.add(Convolution2D(64, (3, 3), activation='relu'))\n",
    "model.add(MaxPooling2D(pool_size=(2,2)))\n",
    "\n",
    "model.add(Flatten())\n",
    "model.add(Dense(64, activation='relu'))\n",
    "model.add(Dropout(0.5))\n",
    "model.add(Dense(1, activation='sigmoid'))"
   ]
  },
  {
   "cell_type": "code",
   "execution_count": 7,
   "metadata": {},
   "outputs": [
    {
     "name": "stdout",
     "output_type": "stream",
     "text": [
      "_________________________________________________________________\n",
      "Layer (type)                 Output Shape              Param #   \n",
      "=================================================================\n",
      "conv2d_1 (Conv2D)            (None, 148, 148, 32)      896       \n",
      "_________________________________________________________________\n",
      "max_pooling2d_1 (MaxPooling2 (None, 74, 74, 32)        0         \n",
      "_________________________________________________________________\n",
      "conv2d_2 (Conv2D)            (None, 72, 72, 32)        9248      \n",
      "_________________________________________________________________\n",
      "max_pooling2d_2 (MaxPooling2 (None, 36, 36, 32)        0         \n",
      "_________________________________________________________________\n",
      "conv2d_3 (Conv2D)            (None, 34, 34, 64)        18496     \n",
      "_________________________________________________________________\n",
      "max_pooling2d_3 (MaxPooling2 (None, 17, 17, 64)        0         \n",
      "_________________________________________________________________\n",
      "flatten_1 (Flatten)          (None, 18496)             0         \n",
      "_________________________________________________________________\n",
      "dense_1 (Dense)              (None, 64)                1183808   \n",
      "_________________________________________________________________\n",
      "dropout_1 (Dropout)          (None, 64)                0         \n",
      "_________________________________________________________________\n",
      "dense_2 (Dense)              (None, 1)                 65        \n",
      "=================================================================\n",
      "Total params: 1,212,513\n",
      "Trainable params: 1,212,513\n",
      "Non-trainable params: 0\n",
      "_________________________________________________________________\n"
     ]
    }
   ],
   "source": [
    "model.summary()"
   ]
  },
  {
   "cell_type": "code",
   "execution_count": 8,
   "metadata": {},
   "outputs": [],
   "source": [
    "model.compile(loss='binary_crossentropy', optimizer='adam', metrics=['accuracy'])"
   ]
  },
  {
   "cell_type": "code",
   "execution_count": 9,
   "metadata": {
    "scrolled": true
   },
   "outputs": [
    {
     "name": "stdout",
     "output_type": "stream",
     "text": [
      "Epoch 1/100\n",
      "7/7 [==============================] - 3s 398ms/step - loss: 0.7356 - acc: 0.4966 - val_loss: 0.6748 - val_acc: 0.7333\n",
      "Epoch 2/100\n",
      "7/7 [==============================] - 1s 119ms/step - loss: 0.6804 - acc: 0.6095 - val_loss: 0.6727 - val_acc: 0.5833\n",
      "Epoch 3/100\n",
      "7/7 [==============================] - 1s 128ms/step - loss: 0.6625 - acc: 0.6250 - val_loss: 0.6355 - val_acc: 0.6833\n",
      "Epoch 4/100\n",
      "7/7 [==============================] - 1s 130ms/step - loss: 0.6388 - acc: 0.6613 - val_loss: 0.5720 - val_acc: 0.8000\n",
      "Epoch 5/100\n",
      "7/7 [==============================] - 1s 130ms/step - loss: 0.6174 - acc: 0.6514 - val_loss: 0.5833 - val_acc: 0.7167\n",
      "Epoch 6/100\n",
      "7/7 [==============================] - 1s 128ms/step - loss: 0.5923 - acc: 0.7175 - val_loss: 0.5009 - val_acc: 0.8500\n",
      "Epoch 7/100\n",
      "7/7 [==============================] - 1s 129ms/step - loss: 0.5479 - acc: 0.7345 - val_loss: 0.5216 - val_acc: 0.6833\n",
      "Epoch 8/100\n",
      "7/7 [==============================] - 1s 131ms/step - loss: 0.5482 - acc: 0.7391 - val_loss: 0.4879 - val_acc: 0.7667\n",
      "Epoch 9/100\n",
      "7/7 [==============================] - 1s 128ms/step - loss: 0.5212 - acc: 0.7209 - val_loss: 0.4623 - val_acc: 0.8167\n",
      "Epoch 10/100\n",
      "7/7 [==============================] - 1s 127ms/step - loss: 0.4776 - acc: 0.7889 - val_loss: 0.5090 - val_acc: 0.7333\n",
      "Epoch 11/100\n",
      "7/7 [==============================] - 1s 129ms/step - loss: 0.5928 - acc: 0.6722 - val_loss: 0.4753 - val_acc: 0.7833\n",
      "Epoch 12/100\n",
      "7/7 [==============================] - 1s 130ms/step - loss: 0.5207 - acc: 0.7916 - val_loss: 0.5165 - val_acc: 0.7500\n",
      "Epoch 13/100\n",
      "7/7 [==============================] - 1s 128ms/step - loss: 0.4685 - acc: 0.7564 - val_loss: 0.4646 - val_acc: 0.8000\n",
      "Epoch 14/100\n",
      "7/7 [==============================] - 1s 130ms/step - loss: 0.4506 - acc: 0.7934 - val_loss: 0.5186 - val_acc: 0.7667\n",
      "Epoch 15/100\n",
      "7/7 [==============================] - 1s 129ms/step - loss: 0.4803 - acc: 0.7500 - val_loss: 0.6196 - val_acc: 0.7167\n",
      "Epoch 16/100\n",
      "7/7 [==============================] - 1s 130ms/step - loss: 0.4653 - acc: 0.7836 - val_loss: 0.4941 - val_acc: 0.7333\n",
      "Epoch 17/100\n",
      "7/7 [==============================] - 1s 127ms/step - loss: 0.4685 - acc: 0.7927 - val_loss: 0.5137 - val_acc: 0.7333\n",
      "Epoch 18/100\n",
      "7/7 [==============================] - 1s 130ms/step - loss: 0.4255 - acc: 0.7538 - val_loss: 0.5887 - val_acc: 0.7667\n",
      "Epoch 19/100\n",
      "7/7 [==============================] - 1s 129ms/step - loss: 0.4142 - acc: 0.7863 - val_loss: 0.4783 - val_acc: 0.8333\n",
      "Epoch 20/100\n",
      "7/7 [==============================] - 1s 130ms/step - loss: 0.4916 - acc: 0.7647 - val_loss: 0.4837 - val_acc: 0.8167\n",
      "Epoch 21/100\n",
      "7/7 [==============================] - 1s 130ms/step - loss: 0.4171 - acc: 0.7953 - val_loss: 0.5299 - val_acc: 0.8167\n",
      "Epoch 22/100\n",
      "7/7 [==============================] - 1s 141ms/step - loss: 0.3718 - acc: 0.8595 - val_loss: 0.5320 - val_acc: 0.8000\n",
      "Epoch 23/100\n",
      "7/7 [==============================] - 1s 129ms/step - loss: 0.3698 - acc: 0.8369 - val_loss: 0.5234 - val_acc: 0.8167\n",
      "Epoch 24/100\n",
      "7/7 [==============================] - 1s 129ms/step - loss: 0.5020 - acc: 0.7591 - val_loss: 0.5762 - val_acc: 0.7000\n",
      "Epoch 25/100\n",
      "7/7 [==============================] - 1s 129ms/step - loss: 0.4178 - acc: 0.7980 - val_loss: 0.4016 - val_acc: 0.8333\n",
      "Epoch 26/100\n",
      "7/7 [==============================] - 1s 130ms/step - loss: 0.4825 - acc: 0.7764 - val_loss: 0.4897 - val_acc: 0.8167\n",
      "Epoch 27/100\n",
      "7/7 [==============================] - 1s 128ms/step - loss: 0.4696 - acc: 0.7655 - val_loss: 0.5449 - val_acc: 0.7833\n",
      "Epoch 28/100\n",
      "7/7 [==============================] - 1s 129ms/step - loss: 0.4109 - acc: 0.8116 - val_loss: 0.5153 - val_acc: 0.7500\n",
      "Epoch 29/100\n",
      "7/7 [==============================] - 1s 130ms/step - loss: 0.4350 - acc: 0.7791 - val_loss: 0.5303 - val_acc: 0.7833\n",
      "Epoch 30/100\n",
      "7/7 [==============================] - 1s 125ms/step - loss: 0.3545 - acc: 0.8731 - val_loss: 0.5750 - val_acc: 0.8000\n",
      "Epoch 31/100\n",
      "7/7 [==============================] - 1s 132ms/step - loss: 0.3980 - acc: 0.7953 - val_loss: 0.5123 - val_acc: 0.8000\n",
      "Epoch 32/100\n",
      "7/7 [==============================] - 1s 129ms/step - loss: 0.3643 - acc: 0.8252 - val_loss: 0.6310 - val_acc: 0.7500\n",
      "Epoch 33/100\n",
      "7/7 [==============================] - 1s 129ms/step - loss: 0.4410 - acc: 0.7745 - val_loss: 0.4471 - val_acc: 0.8000\n",
      "Epoch 34/100\n",
      "7/7 [==============================] - 1s 128ms/step - loss: 0.4986 - acc: 0.7402 - val_loss: 0.5077 - val_acc: 0.7500\n",
      "Epoch 35/100\n",
      "7/7 [==============================] - 1s 129ms/step - loss: 0.3625 - acc: 0.8867 - val_loss: 0.4906 - val_acc: 0.8333\n",
      "Epoch 36/100\n",
      "7/7 [==============================] - 1s 128ms/step - loss: 0.3804 - acc: 0.8180 - val_loss: 0.5782 - val_acc: 0.8333\n",
      "Epoch 37/100\n",
      "7/7 [==============================] - 1s 131ms/step - loss: 0.3720 - acc: 0.8142 - val_loss: 0.5194 - val_acc: 0.8167\n",
      "Epoch 38/100\n",
      "7/7 [==============================] - 1s 142ms/step - loss: 0.4156 - acc: 0.8116 - val_loss: 0.4086 - val_acc: 0.8167\n",
      "Epoch 39/100\n",
      "7/7 [==============================] - 1s 130ms/step - loss: 0.4803 - acc: 0.7844 - val_loss: 0.4384 - val_acc: 0.8333\n",
      "Epoch 40/100\n",
      "7/7 [==============================] - 1s 128ms/step - loss: 0.4042 - acc: 0.8297 - val_loss: 0.4659 - val_acc: 0.7833\n",
      "Epoch 41/100\n",
      "7/7 [==============================] - 1s 128ms/step - loss: 0.3902 - acc: 0.8323 - val_loss: 0.4285 - val_acc: 0.8000\n",
      "Epoch 42/100\n",
      "7/7 [==============================] - 1s 127ms/step - loss: 0.3828 - acc: 0.8387 - val_loss: 0.5271 - val_acc: 0.7667\n",
      "Epoch 43/100\n",
      "7/7 [==============================] - 1s 132ms/step - loss: 0.3399 - acc: 0.8297 - val_loss: 0.5136 - val_acc: 0.8167\n",
      "Epoch 44/100\n",
      "7/7 [==============================] - 1s 129ms/step - loss: 0.4032 - acc: 0.8206 - val_loss: 0.4222 - val_acc: 0.8333\n",
      "Epoch 45/100\n",
      "7/7 [==============================] - 1s 128ms/step - loss: 0.4547 - acc: 0.7727 - val_loss: 0.4476 - val_acc: 0.7667\n",
      "Epoch 46/100\n",
      "7/7 [==============================] - 1s 128ms/step - loss: 0.4214 - acc: 0.7881 - val_loss: 0.4597 - val_acc: 0.8167\n",
      "Epoch 47/100\n",
      "7/7 [==============================] - 1s 129ms/step - loss: 0.3528 - acc: 0.8369 - val_loss: 0.4435 - val_acc: 0.8000\n",
      "Epoch 48/100\n",
      "7/7 [==============================] - 1s 130ms/step - loss: 0.3424 - acc: 0.8686 - val_loss: 0.4546 - val_acc: 0.8000\n",
      "Epoch 49/100\n",
      "7/7 [==============================] - 1s 129ms/step - loss: 0.4225 - acc: 0.8342 - val_loss: 0.4631 - val_acc: 0.8000\n",
      "Epoch 50/100\n",
      "7/7 [==============================] - 1s 129ms/step - loss: 0.3170 - acc: 0.8641 - val_loss: 0.4181 - val_acc: 0.7833\n",
      "Epoch 51/100\n",
      "7/7 [==============================] - 1s 130ms/step - loss: 0.3673 - acc: 0.8225 - val_loss: 0.5764 - val_acc: 0.7500\n",
      "Epoch 52/100\n",
      "7/7 [==============================] - 1s 129ms/step - loss: 0.3708 - acc: 0.8452 - val_loss: 0.4728 - val_acc: 0.8167\n",
      "Epoch 53/100\n",
      "7/7 [==============================] - 1s 129ms/step - loss: 0.2782 - acc: 0.9003 - val_loss: 0.5249 - val_acc: 0.8333\n",
      "Epoch 54/100\n",
      "7/7 [==============================] - 1s 129ms/step - loss: 0.3450 - acc: 0.8217 - val_loss: 0.5106 - val_acc: 0.8000\n",
      "Epoch 55/100\n",
      "7/7 [==============================] - 1s 129ms/step - loss: 0.3582 - acc: 0.8595 - val_loss: 0.4257 - val_acc: 0.8167\n",
      "Epoch 56/100\n",
      "7/7 [==============================] - 1s 129ms/step - loss: 0.3134 - acc: 0.8433 - val_loss: 0.5831 - val_acc: 0.8000\n",
      "Epoch 57/100\n",
      "7/7 [==============================] - 1s 128ms/step - loss: 0.3170 - acc: 0.8705 - val_loss: 0.4347 - val_acc: 0.8167\n",
      "Epoch 58/100\n",
      "7/7 [==============================] - 1s 130ms/step - loss: 0.3757 - acc: 0.7972 - val_loss: 0.4134 - val_acc: 0.8500\n",
      "Epoch 59/100\n",
      "7/7 [==============================] - 1s 127ms/step - loss: 0.3740 - acc: 0.8063 - val_loss: 0.4467 - val_acc: 0.7667\n",
      "Epoch 60/100\n",
      "7/7 [==============================] - 1s 131ms/step - loss: 0.3334 - acc: 0.8569 - val_loss: 0.4827 - val_acc: 0.8167\n",
      "Epoch 61/100\n",
      "7/7 [==============================] - 1s 131ms/step - loss: 0.3101 - acc: 0.8614 - val_loss: 0.4178 - val_acc: 0.8333\n",
      "Epoch 62/100\n",
      "7/7 [==============================] - 1s 127ms/step - loss: 0.3310 - acc: 0.8361 - val_loss: 0.4297 - val_acc: 0.8333\n",
      "Epoch 63/100\n"
     ]
    },
    {
     "name": "stdout",
     "output_type": "stream",
     "text": [
      "7/7 [==============================] - 1s 131ms/step - loss: 0.3274 - acc: 0.8433 - val_loss: 0.5130 - val_acc: 0.8333\n",
      "Epoch 64/100\n",
      "7/7 [==============================] - 1s 127ms/step - loss: 0.2895 - acc: 0.8452 - val_loss: 0.4918 - val_acc: 0.8333\n",
      "Epoch 65/100\n",
      "7/7 [==============================] - 1s 132ms/step - loss: 0.2689 - acc: 0.8795 - val_loss: 0.4090 - val_acc: 0.8333\n",
      "Epoch 66/100\n",
      "7/7 [==============================] - 1s 129ms/step - loss: 0.2827 - acc: 0.8912 - val_loss: 0.5610 - val_acc: 0.8333\n",
      "Epoch 67/100\n",
      "7/7 [==============================] - 1s 129ms/step - loss: 0.2983 - acc: 0.8334 - val_loss: 0.5248 - val_acc: 0.8500\n",
      "Epoch 68/100\n",
      "7/7 [==============================] - 1s 129ms/step - loss: 0.2814 - acc: 0.8705 - val_loss: 0.5171 - val_acc: 0.8500\n",
      "Epoch 69/100\n",
      "7/7 [==============================] - 1s 129ms/step - loss: 0.2722 - acc: 0.9003 - val_loss: 0.5504 - val_acc: 0.8333\n",
      "Epoch 70/100\n",
      "7/7 [==============================] - 1s 129ms/step - loss: 0.2665 - acc: 0.8886 - val_loss: 0.5003 - val_acc: 0.8500\n",
      "Epoch 71/100\n",
      "7/7 [==============================] - 1s 130ms/step - loss: 0.2778 - acc: 0.8795 - val_loss: 0.5892 - val_acc: 0.8333\n",
      "Epoch 72/100\n",
      "7/7 [==============================] - 1s 129ms/step - loss: 0.3524 - acc: 0.8380 - val_loss: 0.5694 - val_acc: 0.8167\n",
      "Epoch 73/100\n",
      "7/7 [==============================] - 1s 129ms/step - loss: 0.3255 - acc: 0.8523 - val_loss: 0.5031 - val_acc: 0.8000\n",
      "Epoch 74/100\n",
      "7/7 [==============================] - 1s 132ms/step - loss: 0.3810 - acc: 0.8134 - val_loss: 0.5428 - val_acc: 0.8000\n",
      "Epoch 75/100\n",
      "7/7 [==============================] - 1s 140ms/step - loss: 0.3050 - acc: 0.8550 - val_loss: 0.4344 - val_acc: 0.8333\n",
      "Epoch 76/100\n",
      "7/7 [==============================] - 1s 130ms/step - loss: 0.3239 - acc: 0.8542 - val_loss: 0.5913 - val_acc: 0.8000\n",
      "Epoch 77/100\n",
      "7/7 [==============================] - 1s 125ms/step - loss: 0.2851 - acc: 0.8452 - val_loss: 0.5186 - val_acc: 0.8333\n",
      "Epoch 78/100\n",
      "7/7 [==============================] - 1s 133ms/step - loss: 0.2717 - acc: 0.8641 - val_loss: 0.6239 - val_acc: 0.7833\n",
      "Epoch 79/100\n",
      "7/7 [==============================] - 1s 144ms/step - loss: 0.3256 - acc: 0.8569 - val_loss: 0.4290 - val_acc: 0.8333\n",
      "Epoch 80/100\n",
      "7/7 [==============================] - 1s 142ms/step - loss: 0.3638 - acc: 0.8270 - val_loss: 0.4236 - val_acc: 0.8333\n",
      "Epoch 81/100\n",
      "7/7 [==============================] - 1s 129ms/step - loss: 0.2686 - acc: 0.8614 - val_loss: 0.4057 - val_acc: 0.8333\n",
      "Epoch 82/100\n",
      "7/7 [==============================] - 1s 129ms/step - loss: 0.2581 - acc: 0.9003 - val_loss: 0.4555 - val_acc: 0.8333\n",
      "Epoch 83/100\n",
      "7/7 [==============================] - 1s 127ms/step - loss: 0.2668 - acc: 0.8705 - val_loss: 0.4746 - val_acc: 0.8333\n",
      "Epoch 84/100\n",
      "7/7 [==============================] - 1s 129ms/step - loss: 0.2604 - acc: 0.8750 - val_loss: 0.6755 - val_acc: 0.8333\n",
      "Epoch 85/100\n",
      "7/7 [==============================] - 1s 130ms/step - loss: 0.3121 - acc: 0.8659 - val_loss: 0.4768 - val_acc: 0.8500\n",
      "Epoch 86/100\n",
      "7/7 [==============================] - 1s 131ms/step - loss: 0.2281 - acc: 0.8912 - val_loss: 0.5577 - val_acc: 0.8333\n",
      "Epoch 87/100\n",
      "7/7 [==============================] - 1s 142ms/step - loss: 0.2389 - acc: 0.9094 - val_loss: 0.4047 - val_acc: 0.8667\n",
      "Epoch 88/100\n",
      "7/7 [==============================] - 1s 130ms/step - loss: 0.2451 - acc: 0.8886 - val_loss: 0.4650 - val_acc: 0.8500\n",
      "Epoch 89/100\n",
      "7/7 [==============================] - 1s 128ms/step - loss: 0.2703 - acc: 0.8931 - val_loss: 0.5611 - val_acc: 0.8500\n",
      "Epoch 90/100\n",
      "7/7 [==============================] - 1s 129ms/step - loss: 0.2584 - acc: 0.8795 - val_loss: 0.4050 - val_acc: 0.8333\n",
      "Epoch 91/100\n",
      "7/7 [==============================] - 1s 130ms/step - loss: 0.2623 - acc: 0.8867 - val_loss: 0.5289 - val_acc: 0.8333\n",
      "Epoch 92/100\n",
      "7/7 [==============================] - 1s 130ms/step - loss: 0.2446 - acc: 0.8977 - val_loss: 0.4989 - val_acc: 0.8333\n",
      "Epoch 93/100\n",
      "7/7 [==============================] - 1s 142ms/step - loss: 0.1968 - acc: 0.9048 - val_loss: 0.5254 - val_acc: 0.8500\n",
      "Epoch 94/100\n",
      "7/7 [==============================] - 1s 129ms/step - loss: 0.2149 - acc: 0.9113 - val_loss: 0.6337 - val_acc: 0.8333\n",
      "Epoch 95/100\n",
      "7/7 [==============================] - 1s 144ms/step - loss: 0.2850 - acc: 0.8452 - val_loss: 0.4881 - val_acc: 0.8667\n",
      "Epoch 96/100\n",
      "7/7 [==============================] - 1s 130ms/step - loss: 0.2274 - acc: 0.8958 - val_loss: 0.3699 - val_acc: 0.8833\n",
      "Epoch 97/100\n",
      "7/7 [==============================] - 1s 141ms/step - loss: 0.2357 - acc: 0.9094 - val_loss: 0.4541 - val_acc: 0.8333\n",
      "Epoch 98/100\n",
      "7/7 [==============================] - 1s 129ms/step - loss: 0.2332 - acc: 0.9003 - val_loss: 0.4755 - val_acc: 0.8167\n",
      "Epoch 99/100\n",
      "7/7 [==============================] - 1s 133ms/step - loss: 0.2189 - acc: 0.8859 - val_loss: 0.4686 - val_acc: 0.8333\n",
      "Epoch 100/100\n",
      "7/7 [==============================] - 1s 142ms/step - loss: 0.2555 - acc: 0.9048 - val_loss: 0.4598 - val_acc: 0.8500\n"
     ]
    }
   ],
   "source": [
    "history = model.fit_generator(train_generator, epochs=epochs, verbose=1, validation_data=validation_generator)"
   ]
  },
  {
   "cell_type": "code",
   "execution_count": 10,
   "metadata": {
    "scrolled": false
   },
   "outputs": [
    {
     "data": {
      "image/png": "[encoded data removed]",
      "text/plain": [
       "<Figure size 432x288 with 1 Axes>"
      ]
     },
     "metadata": {},
     "output_type": "display_data"
    }
   ],
   "source": [
    "plt.plot(range(1, epochs+1), history.history['acc'], label=\"training\")\n",
    "plt.plot(range(1, epochs+1), history.history['val_acc'], label=\"validation\")\n",
    "plt.xlabel('Epochs')\n",
    "plt.ylabel('Accuracy')\n",
    "plt.legend()\n",
    "plt.show()"
   ]
  },
  {
   "cell_type": "code",
   "execution_count": null,
   "metadata": {},
   "outputs": [],
   "source": []
  }
 ],
 "metadata": {
  "kernelspec": {
   "display_name": "Python 3",
   "language": "python",
   "name": "python3"
  },
  "language_info": {
   "codemirror_mode": {
    "name": "ipython",
    "version": 3
   },
   "file_extension": ".py",
   "mimetype": "text/x-python",
   "name": "python",
   "nbconvert_exporter": "python",
   "pygments_lexer": "ipython3",
   "version": "3.6.5"
  }
 },
 "nbformat": 4,
 "nbformat_minor": 2
}
