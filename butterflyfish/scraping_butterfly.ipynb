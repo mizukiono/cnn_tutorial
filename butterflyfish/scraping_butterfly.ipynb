{
 "cells": [
  {
   "cell_type": "code",
   "execution_count": 1,
   "metadata": {},
   "outputs": [],
   "source": [
    "import urllib\n",
    "from bs4 import BeautifulSoup\n",
    "import pandas as pd\n",
    "import re\n",
    "import math\n",
    "import numpy as np\n",
    "import time"
   ]
  },
  {
   "cell_type": "code",
   "execution_count": 2,
   "metadata": {},
   "outputs": [],
   "source": [
    "startnum = 1"
   ]
  },
  {
   "cell_type": "code",
   "execution_count": 3,
   "metadata": {},
   "outputs": [],
   "source": [
    "# アクセスURL\n",
    "url = 'http://fishpix.kahaku.go.jp/fishimage/search?START=%d&JPN_FAMILY=&FAMILY=Chaetodontidae&JPN_NAME=&SPECIES=&LOCALITY=&FISH_Y=&FISH_M=&FISH_D=&PERSON=&PHOTO_ID=&JPN_FAMILY_OPT=1&FAMILY_OPT=0&JPN_NAME_OPT=1&SPECIES_OPT=1&LOCALITY_OPT=1&PERSON_OPT=1&PHOTO_ID_OPT=1'%startnum"
   ]
  },
  {
   "cell_type": "code",
   "execution_count": 4,
   "metadata": {},
   "outputs": [],
   "source": [
    "def url_generate(url):\n",
    "#     if startnum == 1:\n",
    "    response = urllib.request.urlopen(url)\n",
    "    soup = BeautifulSoup(response, \"html.parser\")\n",
    "    text = soup.find('span', class_= 'captionTimes').text\n",
    "    num = text.split(\"件\")[0].split()[0]\n",
    "    print('%s images were found'%num)\n",
    "    page = math.ceil(int(num)/20.)\n",
    "    page_nums = list(np.arange(1, page*20, 20))\n",
    "    return page_nums"
   ]
  },
  {
   "cell_type": "code",
   "execution_count": 5,
   "metadata": {},
   "outputs": [
    {
     "name": "stdout",
     "output_type": "stream",
     "text": [
      "2832 images were found\n"
     ]
    }
   ],
   "source": [
    "page_nums = url_generate(url)"
   ]
  },
  {
   "cell_type": "code",
   "execution_count": 6,
   "metadata": {},
   "outputs": [],
   "source": [
    "def information_getter(url):\n",
    "    '''\n",
    "    urlを渡すと情報を返す\n",
    "    '''\n",
    "    \n",
    "    response = urllib.request.urlopen(url)\n",
    "    soup = BeautifulSoup(response, \"html.parser\")\n",
    "    \n",
    "    result = soup.findAll('span', class_= 'result')\n",
    "    names = []\n",
    "    for x in result:\n",
    "        names.append(x.text)\n",
    "    result_ = soup.findAll('span', class_= 'resultHelvetica')\n",
    "    namesHel = []\n",
    "    for x in result_:\n",
    "        namesHel.append(x.text)\n",
    "    \n",
    "    caption = soup.findAll('span', class_= 'captionTimes')\n",
    "    caps = []\n",
    "    for x in caption:\n",
    "        cap = x.find('a',href=re.compile('^detail'))\n",
    "        if cap != None:\n",
    "            caps.append(cap.text)\n",
    "    \n",
    "    imgsoup = soup.findAll(\"img\")\n",
    "    img_path = []\n",
    "    for x in imgsoup:\n",
    "        if x['height'] == \"130\":\n",
    "            img_path.append(x['src'])\n",
    "\n",
    "    return names, namesHel, caps, img_path"
   ]
  },
  {
   "cell_type": "code",
   "execution_count": 7,
   "metadata": {},
   "outputs": [],
   "source": [
    "def dataframe_maker(page_nums):\n",
    "    df = pd.DataFrame(columns = ['name', 'nameEng', 'caption', 'URL'])\n",
    "    \n",
    "    for n in page_nums:\n",
    "        url = 'http://fishpix.kahaku.go.jp/fishimage/search?START=%d&JPN_FAMILY=&FAMILY=Chaetodontidae&JPN_NAME=&SPECIES=&LOCALITY=&FISH_Y=&FISH_M=&FISH_D=&PERSON=&PHOTO_ID=&JPN_FAMILY_OPT=1&FAMILY_OPT=0&JPN_NAME_OPT=1&SPECIES_OPT=1&LOCALITY_OPT=1&PERSON_OPT=1&PHOTO_ID_OPT=1'%n\n",
    "        names, namesHel, caps, img_url = information_getter(url)\n",
    "        df_batch = pd.DataFrame([names, namesHel, caps, img_url],\\\n",
    "                                index=['name', 'nameEng', 'caption', 'URL']).transpose()\n",
    "#         display(df_batch.head())\n",
    "        df = pd.concat([df, df_batch])\n",
    "#         display(df.tail())\n",
    "        print(n)\n",
    "#         display(names)\n",
    "#         display(caps)\n",
    "        time.sleep(2)\n",
    "    return df"
   ]
  },
  {
   "cell_type": "code",
   "execution_count": 9,
   "metadata": {
    "scrolled": true
   },
   "outputs": [
    {
     "name": "stdout",
     "output_type": "stream",
     "text": [
      "1\n",
      "21\n",
      "41\n",
      "61\n",
      "81\n",
      "101\n",
      "121\n",
      "141\n",
      "161\n",
      "181\n",
      "201\n",
      "221\n",
      "241\n",
      "261\n",
      "281\n",
      "301\n",
      "321\n",
      "341\n",
      "361\n",
      "381\n",
      "401\n",
      "421\n",
      "441\n",
      "461\n",
      "481\n",
      "501\n",
      "521\n",
      "541\n",
      "561\n",
      "581\n",
      "601\n",
      "621\n",
      "641\n",
      "661\n",
      "681\n",
      "701\n",
      "721\n",
      "741\n",
      "761\n",
      "781\n",
      "801\n",
      "821\n",
      "841\n",
      "861\n",
      "881\n",
      "901\n",
      "921\n",
      "941\n",
      "961\n",
      "981\n",
      "1001\n",
      "1021\n",
      "1041\n",
      "1061\n",
      "1081\n",
      "1101\n",
      "1121\n",
      "1141\n",
      "1161\n",
      "1181\n",
      "1201\n",
      "1221\n",
      "1241\n",
      "1261\n",
      "1281\n",
      "1301\n",
      "1321\n",
      "1341\n",
      "1361\n",
      "1381\n",
      "1401\n",
      "1421\n",
      "1441\n",
      "1461\n",
      "1481\n",
      "1501\n",
      "1521\n",
      "1541\n",
      "1561\n",
      "1581\n",
      "1601\n",
      "1621\n",
      "1641\n",
      "1661\n",
      "1681\n",
      "1701\n",
      "1721\n",
      "1741\n",
      "1761\n",
      "1781\n",
      "1801\n",
      "1821\n",
      "1841\n",
      "1861\n",
      "1881\n",
      "1901\n",
      "1921\n",
      "1941\n",
      "1961\n",
      "1981\n",
      "2001\n",
      "2021\n",
      "2041\n",
      "2061\n",
      "2081\n",
      "2101\n",
      "2121\n",
      "2141\n",
      "2161\n",
      "2181\n",
      "2201\n",
      "2221\n",
      "2241\n",
      "2261\n",
      "2281\n",
      "2301\n",
      "2321\n",
      "2341\n",
      "2361\n",
      "2381\n",
      "2401\n",
      "2421\n",
      "2441\n",
      "2461\n",
      "2481\n",
      "2501\n",
      "2521\n",
      "2541\n",
      "2561\n",
      "2581\n",
      "2601\n",
      "2621\n",
      "2641\n",
      "2661\n",
      "2681\n",
      "2701\n",
      "2721\n",
      "2741\n",
      "2761\n",
      "2781\n",
      "2801\n",
      "2821\n"
     ]
    }
   ],
   "source": [
    "df = dataframe_maker(page_nums)"
   ]
  },
  {
   "cell_type": "code",
   "execution_count": 10,
   "metadata": {},
   "outputs": [
    {
     "data": {
      "text/plain": [
       "name       2832\n",
       "nameEng    2832\n",
       "caption    2832\n",
       "URL        2832\n",
       "dtype: int64"
      ]
     },
     "execution_count": 10,
     "metadata": {},
     "output_type": "execute_result"
    }
   ],
   "source": [
    "df.count()"
   ]
  },
  {
   "cell_type": "code",
   "execution_count": 13,
   "metadata": {},
   "outputs": [
    {
     "data": {
      "text/plain": [
       "トゲチョウチョウウオ                            159\n",
       "ムレハタタテダイ                              140\n",
       "チョウチョウウオ                              136\n",
       "フウライチョウチョウウオ                          122\n",
       "チョウハン                                 106\n",
       "ミゾレチョウチョウウオ                            99\n",
       "シラコダイ                                  93\n",
       "アケボノチョウチョウウオ                           88\n",
       "フエヤッコダイ                                86\n",
       "ハタタテダイ                                 85\n",
       "ミナミハタタテダイ                              78\n",
       "ミスジチョウチョウウオ                            74\n",
       "タキゲンロクダイ                               68\n",
       "ヤリカタギ                                  68\n",
       "ユウゼン                                   59\n",
       "セグロチョウチョウウオ                            56\n",
       "シチセンチョウチョウウオ                           55\n",
       "ゴマチョウチョウウオ                             53\n",
       "ゲンロクダイ                                 53\n",
       "ウミヅキチョウチョウウオ                           52\n",
       "イッテンチョウチョウウオ                           50\n",
       "カガミチョウチョウウオ                            50\n",
       "ハナグロチョウチョウウオ                           48\n",
       "スミツキトノサマダイ                             48\n",
       "ツノハタタテダイ                               48\n",
       "トノサマダイ                                 43\n",
       "カスミチョウチョウウオ                            41\n",
       "オニハタタテダイ                               41\n",
       "ヤスジチョウチョウウオ                            39\n",
       "ニセフウライチョウチョウウオ                         38\n",
       "                                     ... \n",
       "チョウチョウウオ属未同定種                           4\n",
       "フォーアイ・バタフライフィッシュ                        4\n",
       "バンデッド・バタフライフィッシュ                        4\n",
       "ブラック・バタフライフィッシュ                         4\n",
       "オレンジフェイス・バタフライフィッシュ                     3\n",
       "インディアン・バタフライフィッシュ                       3\n",
       "シラコダイ×カガミチョウチョウウオ                       3\n",
       "ハタタテダイ属未同定種                             3\n",
       "レインフォーズ・バタフライフィッシュ                      3\n",
       "チョウチョウウオ×ニセフウライチョウチョウウオ                 2\n",
       "ティンカーズ・バタフライフィッシュ                       2\n",
       "スポットフィン・バタフライフィッシュ                      2\n",
       "イエロークラウンド・バタフライフィッシュ                    2\n",
       "ユウゼン×コクテンカタギ                            2\n",
       "ハクテンカタギ×オウギチョウチョウウオ                     2\n",
       "マルケザン・バタフライフィッシュ                        2\n",
       "ハクテンカタギ×ハナグロチョウチョウウオ                    2\n",
       "スミスズ・バタフライフィッシュ                         2\n",
       "ヘッジホグ・バタフライフィッシュ                        2\n",
       "キートドン・アンダマンエンシス                         2\n",
       "スリーバンド・バタフライフィッシュ                       2\n",
       "ブラックバーンズ・バタフライフィッシュ                     1\n",
       "ゴールデンストライプト・バタフライフィッシュ                  1\n",
       "タヒチ・バタフライフィッシュ                          1\n",
       "タルマ                                     1\n",
       "スリーストライプ・バタフライフィッシュ                     1\n",
       "フウライチョウチョウウオ×ニセフウライチョウチョウウオ             1\n",
       "チョウハン×チョウチョウウオ                          1\n",
       "ドットアンドダッシュ・バタフライフィッシュ×シチセンチョウチョウウオ      1\n",
       "トライアンギュラー・バタフライフィッシュ                    1\n",
       "Name: name, Length: 107, dtype: int64"
      ]
     },
     "execution_count": 13,
     "metadata": {},
     "output_type": "execute_result"
    }
   ],
   "source": [
    "df['name'].value_counts()"
   ]
  },
  {
   "cell_type": "code",
   "execution_count": 14,
   "metadata": {},
   "outputs": [],
   "source": [
    "df.to_csv(\"butterfly.csv\")"
   ]
  },
  {
   "cell_type": "code",
   "execution_count": null,
   "metadata": {},
   "outputs": [],
   "source": []
  },
  {
   "cell_type": "code",
   "execution_count": null,
   "metadata": {},
   "outputs": [],
   "source": []
  },
  {
   "cell_type": "code",
   "execution_count": 20,
   "metadata": {},
   "outputs": [],
   "source": [
    "names, namesHel, caps, img_url = information_getter(url)\n",
    "df_batch = pd.DataFrame([names, namesHel, caps, img_url], index=['name', 'nameEng', 'caption', 'URL']).transpose()"
   ]
  },
  {
   "cell_type": "code",
   "execution_count": null,
   "metadata": {},
   "outputs": [],
   "source": []
  },
  {
   "cell_type": "code",
   "execution_count": null,
   "metadata": {},
   "outputs": [],
   "source": []
  },
  {
   "cell_type": "code",
   "execution_count": 22,
   "metadata": {
    "scrolled": true
   },
   "outputs": [
    {
     "data": {
      "text/html": [
       "<div>\n",
       "<style scoped>\n",
       "    .dataframe tbody tr th:only-of-type {\n",
       "        vertical-align: middle;\n",
       "    }\n",
       "\n",
       "    .dataframe tbody tr th {\n",
       "        vertical-align: top;\n",
       "    }\n",
       "\n",
       "    .dataframe thead th {\n",
       "        text-align: right;\n",
       "    }\n",
       "</style>\n",
       "<table border=\"1\" class=\"dataframe\">\n",
       "  <thead>\n",
       "    <tr style=\"text-align: right;\">\n",
       "      <th></th>\n",
       "      <th>name</th>\n",
       "      <th>nameEng</th>\n",
       "      <th>caption</th>\n",
       "      <th>URL</th>\n",
       "    </tr>\n",
       "  </thead>\n",
       "  <tbody>\n",
       "    <tr>\n",
       "      <th>0</th>\n",
       "      <td>トゲチョウチョウウオ</td>\n",
       "      <td>Chaetodon auriga Forsskal, 1775</td>\n",
       "      <td>KPM-NR 10582</td>\n",
       "      <td>../photos/NR0010/10582AI.jpg</td>\n",
       "    </tr>\n",
       "    <tr>\n",
       "      <th>1</th>\n",
       "      <td>スミツキトノサマダイ</td>\n",
       "      <td>Chaetodon plebeius Cuvier, 1831</td>\n",
       "      <td>KPM-NR 10583</td>\n",
       "      <td>../photos/NR0010/10583AI.jpg</td>\n",
       "    </tr>\n",
       "    <tr>\n",
       "      <th>2</th>\n",
       "      <td>ツキチョウチョウウオ</td>\n",
       "      <td>Chaetodon wiebeli Kaup, 1863</td>\n",
       "      <td>KPM-NR 10584</td>\n",
       "      <td>../photos/NR0010/10584AI.jpg</td>\n",
       "    </tr>\n",
       "    <tr>\n",
       "      <th>3</th>\n",
       "      <td>ツキチョウチョウウオ</td>\n",
       "      <td>Chaetodon wiebeli Kaup, 1863</td>\n",
       "      <td>KPM-NR 10585</td>\n",
       "      <td>../photos/NR0010/10585AI.jpg</td>\n",
       "    </tr>\n",
       "    <tr>\n",
       "      <th>4</th>\n",
       "      <td>チョウチョウウオ</td>\n",
       "      <td>Chaetodon auripes Jordan et Snyder, 1901</td>\n",
       "      <td>KPM-NR 10586</td>\n",
       "      <td>../photos/NR0010/10586AI.jpg</td>\n",
       "    </tr>\n",
       "    <tr>\n",
       "      <th>5</th>\n",
       "      <td>ミゾレチョウチョウウオ</td>\n",
       "      <td>Chaetodon kleinii Bloch, 1790</td>\n",
       "      <td>KPM-NR 10587</td>\n",
       "      <td>../photos/NR0010/10587AI.jpg</td>\n",
       "    </tr>\n",
       "    <tr>\n",
       "      <th>6</th>\n",
       "      <td>ミナミハタタテダイ</td>\n",
       "      <td>Heniochus chrysostomus Cuvier, 1831</td>\n",
       "      <td>KPM-NR 10592</td>\n",
       "      <td>../photos/NR0010/10592AI.jpg</td>\n",
       "    </tr>\n",
       "    <tr>\n",
       "      <th>7</th>\n",
       "      <td>ムレハタタテダイ</td>\n",
       "      <td>Heniochus diphreutes Jordan, 1903</td>\n",
       "      <td>KPM-NR 10593</td>\n",
       "      <td>../photos/NR0010/10593AI.jpg</td>\n",
       "    </tr>\n",
       "    <tr>\n",
       "      <th>8</th>\n",
       "      <td>ツーアイド・コーラルフィッシュ</td>\n",
       "      <td>Coradion melanopus (Cuvier, 1831)</td>\n",
       "      <td>KPM-NR 10621</td>\n",
       "      <td>../photos/NR0010/10621AI.jpg</td>\n",
       "    </tr>\n",
       "    <tr>\n",
       "      <th>9</th>\n",
       "      <td>ミカドチョウチョウウオ</td>\n",
       "      <td>Chaetodon baronessa Cuvier, 1829</td>\n",
       "      <td>KPM-NR 10624</td>\n",
       "      <td>../photos/NR0010/10624AI.jpg</td>\n",
       "    </tr>\n",
       "    <tr>\n",
       "      <th>10</th>\n",
       "      <td>ゴールデン・バタフライフィッシュ</td>\n",
       "      <td>Chaetodon semilarvatus Cuvier et Valenciennes,...</td>\n",
       "      <td>KPM-NR 10689</td>\n",
       "      <td>../photos/NR0010/10689AI.jpg</td>\n",
       "    </tr>\n",
       "    <tr>\n",
       "      <th>11</th>\n",
       "      <td>イクスキジット・バタフライフィッシュ</td>\n",
       "      <td>Chaetodon austriacus Ruppell, 1836</td>\n",
       "      <td>KPM-NR 10690</td>\n",
       "      <td>../photos/NR0010/10690AI.jpg</td>\n",
       "    </tr>\n",
       "    <tr>\n",
       "      <th>12</th>\n",
       "      <td>レッド・シー・ラクーン・バタフライフィッシュ</td>\n",
       "      <td>Chaetodon fasciatus Forsskal, 1775</td>\n",
       "      <td>KPM-NR 10691</td>\n",
       "      <td>../photos/NR0010/10691AI.jpg</td>\n",
       "    </tr>\n",
       "    <tr>\n",
       "      <th>13</th>\n",
       "      <td>レッド・シー・ラクーン・バタフライフィッシュ</td>\n",
       "      <td>Chaetodon fasciatus Forsskal, 1775</td>\n",
       "      <td>KPM-NR 10692</td>\n",
       "      <td>../photos/NR0010/10692AI.jpg</td>\n",
       "    </tr>\n",
       "    <tr>\n",
       "      <th>14</th>\n",
       "      <td>トゲチョウチョウウオ</td>\n",
       "      <td>Chaetodon auriga Forsskal, 1775</td>\n",
       "      <td>KPM-NR 10693</td>\n",
       "      <td>../photos/NR0010/10693AI.jpg</td>\n",
       "    </tr>\n",
       "    <tr>\n",
       "      <th>15</th>\n",
       "      <td>トゲチョウチョウウオ</td>\n",
       "      <td>Chaetodon auriga Forsskal, 1775</td>\n",
       "      <td>KPM-NR 10694</td>\n",
       "      <td>../photos/NR0010/10694AI.jpg</td>\n",
       "    </tr>\n",
       "    <tr>\n",
       "      <th>16</th>\n",
       "      <td>ヤリカタギ</td>\n",
       "      <td>Chaetodon trifascialis Quoy et Gaimard, 1825</td>\n",
       "      <td>KPM-NR 10695</td>\n",
       "      <td>../photos/NR0010/10695AI.jpg</td>\n",
       "    </tr>\n",
       "    <tr>\n",
       "      <th>17</th>\n",
       "      <td>レッドバック・バタフライフィッシュ</td>\n",
       "      <td>Chaetodon paucifasciatus Ahl, 1923</td>\n",
       "      <td>KPM-NR 10696</td>\n",
       "      <td>../photos/NR0010/10696AI.jpg</td>\n",
       "    </tr>\n",
       "    <tr>\n",
       "      <th>18</th>\n",
       "      <td>レッド・シー・バナーフィッシュ</td>\n",
       "      <td>Heniochus intermedius Steindachner, 1843</td>\n",
       "      <td>KPM-NR 10697</td>\n",
       "      <td>../photos/NR0010/10697AI.jpg</td>\n",
       "    </tr>\n",
       "    <tr>\n",
       "      <th>19</th>\n",
       "      <td>レッド・シー・バナーフィッシュ</td>\n",
       "      <td>Heniochus intermedius Steindachner, 1843</td>\n",
       "      <td>KPM-NR 10698</td>\n",
       "      <td>../photos/NR0010/10698AI.jpg</td>\n",
       "    </tr>\n",
       "  </tbody>\n",
       "</table>\n",
       "</div>"
      ],
      "text/plain": [
       "                      name                                            nameEng  \\\n",
       "0               トゲチョウチョウウオ                    Chaetodon auriga Forsskal, 1775   \n",
       "1               スミツキトノサマダイ                    Chaetodon plebeius Cuvier, 1831   \n",
       "2               ツキチョウチョウウオ                       Chaetodon wiebeli Kaup, 1863   \n",
       "3               ツキチョウチョウウオ                       Chaetodon wiebeli Kaup, 1863   \n",
       "4                 チョウチョウウオ           Chaetodon auripes Jordan et Snyder, 1901   \n",
       "5              ミゾレチョウチョウウオ                      Chaetodon kleinii Bloch, 1790   \n",
       "6                ミナミハタタテダイ                Heniochus chrysostomus Cuvier, 1831   \n",
       "7                 ムレハタタテダイ                  Heniochus diphreutes Jordan, 1903   \n",
       "8          ツーアイド・コーラルフィッシュ                  Coradion melanopus (Cuvier, 1831)   \n",
       "9              ミカドチョウチョウウオ                   Chaetodon baronessa Cuvier, 1829   \n",
       "10        ゴールデン・バタフライフィッシュ  Chaetodon semilarvatus Cuvier et Valenciennes,...   \n",
       "11      イクスキジット・バタフライフィッシュ                 Chaetodon austriacus Ruppell, 1836   \n",
       "12  レッド・シー・ラクーン・バタフライフィッシュ                 Chaetodon fasciatus Forsskal, 1775   \n",
       "13  レッド・シー・ラクーン・バタフライフィッシュ                 Chaetodon fasciatus Forsskal, 1775   \n",
       "14              トゲチョウチョウウオ                    Chaetodon auriga Forsskal, 1775   \n",
       "15              トゲチョウチョウウオ                    Chaetodon auriga Forsskal, 1775   \n",
       "16                   ヤリカタギ       Chaetodon trifascialis Quoy et Gaimard, 1825   \n",
       "17       レッドバック・バタフライフィッシュ                 Chaetodon paucifasciatus Ahl, 1923   \n",
       "18         レッド・シー・バナーフィッシュ           Heniochus intermedius Steindachner, 1843   \n",
       "19         レッド・シー・バナーフィッシュ           Heniochus intermedius Steindachner, 1843   \n",
       "\n",
       "         caption                           URL  \n",
       "0   KPM-NR 10582  ../photos/NR0010/10582AI.jpg  \n",
       "1   KPM-NR 10583  ../photos/NR0010/10583AI.jpg  \n",
       "2   KPM-NR 10584  ../photos/NR0010/10584AI.jpg  \n",
       "3   KPM-NR 10585  ../photos/NR0010/10585AI.jpg  \n",
       "4   KPM-NR 10586  ../photos/NR0010/10586AI.jpg  \n",
       "5   KPM-NR 10587  ../photos/NR0010/10587AI.jpg  \n",
       "6   KPM-NR 10592  ../photos/NR0010/10592AI.jpg  \n",
       "7   KPM-NR 10593  ../photos/NR0010/10593AI.jpg  \n",
       "8   KPM-NR 10621  ../photos/NR0010/10621AI.jpg  \n",
       "9   KPM-NR 10624  ../photos/NR0010/10624AI.jpg  \n",
       "10  KPM-NR 10689  ../photos/NR0010/10689AI.jpg  \n",
       "11  KPM-NR 10690  ../photos/NR0010/10690AI.jpg  \n",
       "12  KPM-NR 10691  ../photos/NR0010/10691AI.jpg  \n",
       "13  KPM-NR 10692  ../photos/NR0010/10692AI.jpg  \n",
       "14  KPM-NR 10693  ../photos/NR0010/10693AI.jpg  \n",
       "15  KPM-NR 10694  ../photos/NR0010/10694AI.jpg  \n",
       "16  KPM-NR 10695  ../photos/NR0010/10695AI.jpg  \n",
       "17  KPM-NR 10696  ../photos/NR0010/10696AI.jpg  \n",
       "18  KPM-NR 10697  ../photos/NR0010/10697AI.jpg  \n",
       "19  KPM-NR 10698  ../photos/NR0010/10698AI.jpg  "
      ]
     },
     "execution_count": 22,
     "metadata": {},
     "output_type": "execute_result"
    }
   ],
   "source": [
    "df = pd.concat([df, df_batch])\n",
    "df"
   ]
  },
  {
   "cell_type": "code",
   "execution_count": 10,
   "metadata": {},
   "outputs": [],
   "source": [
    "url = 'http://fishpix.kahaku.go.jp/fishimage/search?START=2781&JPN_FAMILY=&FAMILY=Chaetodontidae&JPN_NAME=&SPECIES=&LOCALITY=&FISH_Y=&FISH_M=&FISH_D=&PERSON=&PHOTO_ID=&JPN_FAMILY_OPT=1&FAMILY_OPT=0&JPN_NAME_OPT=1&SPECIES_OPT=1&LOCALITY_OPT=1&PERSON_OPT=1&PHOTO_ID_OPT=1'"
   ]
  },
  {
   "cell_type": "code",
   "execution_count": 11,
   "metadata": {},
   "outputs": [],
   "source": [
    "response = urllib.request.urlopen(url)"
   ]
  },
  {
   "cell_type": "code",
   "execution_count": 12,
   "metadata": {},
   "outputs": [],
   "source": [
    "soup = BeautifulSoup(response, \"html.parser\")"
   ]
  },
  {
   "cell_type": "code",
   "execution_count": 15,
   "metadata": {},
   "outputs": [
    {
     "name": "stdout",
     "output_type": "stream",
     "text": [
      "['レモンチョウチョウウオ', 'オウギチョウチョウウオ', 'ゴマチョウチョウウオ', 'ミナミハタタテダイ', 'ゴマチョウチョウウオ', 'ゴマチョウチョウウオ', 'ドットアンドダッシュ・バタフライフィッシュ', 'ベニオチョウチョウウオ', 'ムレハタタテダイ', 'シラコダイ', 'ゲンロクダイ', 'ヤリカタギ', 'ヤリカタギ', 'ヤリカタギ', 'アケボノチョウチョウウオ', 'ハシナガチョウチョウウオ', 'ハシナガチョウチョウウオ', 'ヤスジチョウチョウウオ', 'イッテンチョウチョウウオ', 'ドットアンドダッシュ・バタフライフィッシュ']\n"
     ]
    },
    {
     "data": {
      "text/plain": [
       "20"
      ]
     },
     "execution_count": 15,
     "metadata": {},
     "output_type": "execute_result"
    }
   ],
   "source": [
    "result = soup.findAll('span', class_= 'result')\n",
    "names = []\n",
    "for x in result:\n",
    "    names.append(x.text)\n",
    "print(names)\n",
    "len(names)"
   ]
  },
  {
   "cell_type": "code",
   "execution_count": 14,
   "metadata": {},
   "outputs": [
    {
     "name": "stdout",
     "output_type": "stream",
     "text": [
      "['Chaetodon semeion Bleeker, 1855', 'Chaetodon meyeri Bloch et Schneider, 1801', 'Chaetodon citrinellus Cuvier, 1831', 'Heniochus chrysostomus Cuvier, 1831', 'Chaetodon citrinellus Cuvier, 1831', 'Chaetodon citrinellus Cuvier, 1831', 'Chaetodon pelewensis Kner, 1868', 'Chaetodon mertensii Cuvier, 1831', 'Heniochus diphreutes Jordan, 1903', 'Chaetodon nippon Doderlein, 1883', 'Chaetodon modestus Temminck et Schlegel, 1844', 'Chaetodon trifascialis Quoy et Gaimard, 1825', 'Chaetodon trifascialis Quoy et Gaimard, 1825', 'Chaetodon trifascialis Quoy et Gaimard, 1825', 'Chaetodon melannotus Bloch et Schneider, 1801', 'Chelmon rostratus (Linnaeus, 1758)', 'Chelmon rostratus (Linnaeus, 1758)', 'Chaetodon octofasciatus Bloch, 1787', 'Chaetodon unimaculatus Bloch, 1787', 'Chaetodon pelewensis Kner, 1868']\n"
     ]
    }
   ],
   "source": [
    "result_ = soup.findAll('span', class_= 'resultHelvetica')\n",
    "namesHel = []\n",
    "for x in result_:\n",
    "    namesHel.append(x.text)\n",
    "print(namesHel)"
   ]
  },
  {
   "cell_type": "code",
   "execution_count": 10,
   "metadata": {},
   "outputs": [
    {
     "data": {
      "text/plain": [
       "[<span class=\"captionTimes\"><font color=\"#1235ff\">\n",
       "       2832件中 1-20件目</font>\n",
       " </span>,\n",
       " <span class=\"captionTimes\"><font color=\"#1235ff\"><a href=\"search?START=1&amp;JPN_FAMILY=&amp;FAMILY=Chaetodontidae&amp;JPN_NAME=&amp;SPECIES=&amp;LOCALITY=&amp;FISH_Y=&amp;FISH_M=&amp;FISH_D=&amp;PERSON=&amp;PHOTO_ID=&amp;JPN_FAMILY_OPT=1&amp;FAMILY_OPT=0&amp;JPN_NAME_OPT=1&amp;SPECIES_OPT=1&amp;LOCALITY_OPT=1&amp;PERSON_OPT=1&amp;PHOTO_ID_OPT=1\">[1-20]</a></font></span>,\n",
       " <span class=\"captionTimes\"><font color=\"#1235ff\"><a href=\"search?START=21&amp;JPN_FAMILY=&amp;FAMILY=Chaetodontidae&amp;JPN_NAME=&amp;SPECIES=&amp;LOCALITY=&amp;FISH_Y=&amp;FISH_M=&amp;FISH_D=&amp;PERSON=&amp;PHOTO_ID=&amp;JPN_FAMILY_OPT=1&amp;FAMILY_OPT=0&amp;JPN_NAME_OPT=1&amp;SPECIES_OPT=1&amp;LOCALITY_OPT=1&amp;PERSON_OPT=1&amp;PHOTO_ID_OPT=1\">[21-40]</a></font></span>,\n",
       " <span class=\"captionTimes\"><font color=\"#1235ff\"><a href=\"search?START=41&amp;JPN_FAMILY=&amp;FAMILY=Chaetodontidae&amp;JPN_NAME=&amp;SPECIES=&amp;LOCALITY=&amp;FISH_Y=&amp;FISH_M=&amp;FISH_D=&amp;PERSON=&amp;PHOTO_ID=&amp;JPN_FAMILY_OPT=1&amp;FAMILY_OPT=0&amp;JPN_NAME_OPT=1&amp;SPECIES_OPT=1&amp;LOCALITY_OPT=1&amp;PERSON_OPT=1&amp;PHOTO_ID_OPT=1\">[41-60]</a></font></span>,\n",
       " <span class=\"captionTimes\"><font color=\"#1235ff\"><a href=\"search?START=61&amp;JPN_FAMILY=&amp;FAMILY=Chaetodontidae&amp;JPN_NAME=&amp;SPECIES=&amp;LOCALITY=&amp;FISH_Y=&amp;FISH_M=&amp;FISH_D=&amp;PERSON=&amp;PHOTO_ID=&amp;JPN_FAMILY_OPT=1&amp;FAMILY_OPT=0&amp;JPN_NAME_OPT=1&amp;SPECIES_OPT=1&amp;LOCALITY_OPT=1&amp;PERSON_OPT=1&amp;PHOTO_ID_OPT=1\">[61-80]</a></font></span>,\n",
       " <span class=\"captionTimes\"><font color=\"#1235ff\"><a href=\"search?START=81&amp;JPN_FAMILY=&amp;FAMILY=Chaetodontidae&amp;JPN_NAME=&amp;SPECIES=&amp;LOCALITY=&amp;FISH_Y=&amp;FISH_M=&amp;FISH_D=&amp;PERSON=&amp;PHOTO_ID=&amp;JPN_FAMILY_OPT=1&amp;FAMILY_OPT=0&amp;JPN_NAME_OPT=1&amp;SPECIES_OPT=1&amp;LOCALITY_OPT=1&amp;PERSON_OPT=1&amp;PHOTO_ID_OPT=1\">[81-100]</a></font></span>,\n",
       " <span class=\"captionTimes\"><a href=\"detail?START=1&amp;JPN_FAMILY=&amp;FAMILY=Chaetodontidae&amp;JPN_NAME=&amp;SPECIES=&amp;LOCALITY=&amp;FISH_Y=&amp;FISH_M=&amp;FISH_D=&amp;PERSON=&amp;PHOTO_ID=&amp;JPN_FAMILY_OPT=1&amp;FAMILY_OPT=0&amp;JPN_NAME_OPT=1&amp;SPECIES_OPT=1&amp;LOCALITY_OPT=1&amp;PERSON_OPT=1&amp;PHOTO_ID_OPT=1\">KPM-NR 10004</a></span>,\n",
       " <span class=\"captionTimes\"><a href=\"detail?START=2&amp;JPN_FAMILY=&amp;FAMILY=Chaetodontidae&amp;JPN_NAME=&amp;SPECIES=&amp;LOCALITY=&amp;FISH_Y=&amp;FISH_M=&amp;FISH_D=&amp;PERSON=&amp;PHOTO_ID=&amp;JPN_FAMILY_OPT=1&amp;FAMILY_OPT=0&amp;JPN_NAME_OPT=1&amp;SPECIES_OPT=1&amp;LOCALITY_OPT=1&amp;PERSON_OPT=1&amp;PHOTO_ID_OPT=1\">KPM-NR 10012</a></span>,\n",
       " <span class=\"captionTimes\"><a href=\"detail?START=3&amp;JPN_FAMILY=&amp;FAMILY=Chaetodontidae&amp;JPN_NAME=&amp;SPECIES=&amp;LOCALITY=&amp;FISH_Y=&amp;FISH_M=&amp;FISH_D=&amp;PERSON=&amp;PHOTO_ID=&amp;JPN_FAMILY_OPT=1&amp;FAMILY_OPT=0&amp;JPN_NAME_OPT=1&amp;SPECIES_OPT=1&amp;LOCALITY_OPT=1&amp;PERSON_OPT=1&amp;PHOTO_ID_OPT=1\">KPM-NR 10029</a></span>,\n",
       " <span class=\"captionTimes\"><a href=\"detail?START=4&amp;JPN_FAMILY=&amp;FAMILY=Chaetodontidae&amp;JPN_NAME=&amp;SPECIES=&amp;LOCALITY=&amp;FISH_Y=&amp;FISH_M=&amp;FISH_D=&amp;PERSON=&amp;PHOTO_ID=&amp;JPN_FAMILY_OPT=1&amp;FAMILY_OPT=0&amp;JPN_NAME_OPT=1&amp;SPECIES_OPT=1&amp;LOCALITY_OPT=1&amp;PERSON_OPT=1&amp;PHOTO_ID_OPT=1\">KPM-NR 10043</a></span>,\n",
       " <span class=\"captionTimes\"><a href=\"detail?START=5&amp;JPN_FAMILY=&amp;FAMILY=Chaetodontidae&amp;JPN_NAME=&amp;SPECIES=&amp;LOCALITY=&amp;FISH_Y=&amp;FISH_M=&amp;FISH_D=&amp;PERSON=&amp;PHOTO_ID=&amp;JPN_FAMILY_OPT=1&amp;FAMILY_OPT=0&amp;JPN_NAME_OPT=1&amp;SPECIES_OPT=1&amp;LOCALITY_OPT=1&amp;PERSON_OPT=1&amp;PHOTO_ID_OPT=1\">KPM-NR 10061</a></span>,\n",
       " <span class=\"captionTimes\"><a href=\"detail?START=6&amp;JPN_FAMILY=&amp;FAMILY=Chaetodontidae&amp;JPN_NAME=&amp;SPECIES=&amp;LOCALITY=&amp;FISH_Y=&amp;FISH_M=&amp;FISH_D=&amp;PERSON=&amp;PHOTO_ID=&amp;JPN_FAMILY_OPT=1&amp;FAMILY_OPT=0&amp;JPN_NAME_OPT=1&amp;SPECIES_OPT=1&amp;LOCALITY_OPT=1&amp;PERSON_OPT=1&amp;PHOTO_ID_OPT=1\">KPM-NR 10063</a></span>,\n",
       " <span class=\"captionTimes\"><a href=\"detail?START=7&amp;JPN_FAMILY=&amp;FAMILY=Chaetodontidae&amp;JPN_NAME=&amp;SPECIES=&amp;LOCALITY=&amp;FISH_Y=&amp;FISH_M=&amp;FISH_D=&amp;PERSON=&amp;PHOTO_ID=&amp;JPN_FAMILY_OPT=1&amp;FAMILY_OPT=0&amp;JPN_NAME_OPT=1&amp;SPECIES_OPT=1&amp;LOCALITY_OPT=1&amp;PERSON_OPT=1&amp;PHOTO_ID_OPT=1\">KPM-NR 10095</a></span>,\n",
       " <span class=\"captionTimes\"><a href=\"detail?START=8&amp;JPN_FAMILY=&amp;FAMILY=Chaetodontidae&amp;JPN_NAME=&amp;SPECIES=&amp;LOCALITY=&amp;FISH_Y=&amp;FISH_M=&amp;FISH_D=&amp;PERSON=&amp;PHOTO_ID=&amp;JPN_FAMILY_OPT=1&amp;FAMILY_OPT=0&amp;JPN_NAME_OPT=1&amp;SPECIES_OPT=1&amp;LOCALITY_OPT=1&amp;PERSON_OPT=1&amp;PHOTO_ID_OPT=1\">KPM-NR 10165</a></span>,\n",
       " <span class=\"captionTimes\"><a href=\"detail?START=9&amp;JPN_FAMILY=&amp;FAMILY=Chaetodontidae&amp;JPN_NAME=&amp;SPECIES=&amp;LOCALITY=&amp;FISH_Y=&amp;FISH_M=&amp;FISH_D=&amp;PERSON=&amp;PHOTO_ID=&amp;JPN_FAMILY_OPT=1&amp;FAMILY_OPT=0&amp;JPN_NAME_OPT=1&amp;SPECIES_OPT=1&amp;LOCALITY_OPT=1&amp;PERSON_OPT=1&amp;PHOTO_ID_OPT=1\">KPM-NR 10258</a></span>,\n",
       " <span class=\"captionTimes\"><a href=\"detail?START=10&amp;JPN_FAMILY=&amp;FAMILY=Chaetodontidae&amp;JPN_NAME=&amp;SPECIES=&amp;LOCALITY=&amp;FISH_Y=&amp;FISH_M=&amp;FISH_D=&amp;PERSON=&amp;PHOTO_ID=&amp;JPN_FAMILY_OPT=1&amp;FAMILY_OPT=0&amp;JPN_NAME_OPT=1&amp;SPECIES_OPT=1&amp;LOCALITY_OPT=1&amp;PERSON_OPT=1&amp;PHOTO_ID_OPT=1\">KPM-NR 10341</a></span>,\n",
       " <span class=\"captionTimes\"><a href=\"detail?START=11&amp;JPN_FAMILY=&amp;FAMILY=Chaetodontidae&amp;JPN_NAME=&amp;SPECIES=&amp;LOCALITY=&amp;FISH_Y=&amp;FISH_M=&amp;FISH_D=&amp;PERSON=&amp;PHOTO_ID=&amp;JPN_FAMILY_OPT=1&amp;FAMILY_OPT=0&amp;JPN_NAME_OPT=1&amp;SPECIES_OPT=1&amp;LOCALITY_OPT=1&amp;PERSON_OPT=1&amp;PHOTO_ID_OPT=1\">KPM-NR 10349</a></span>,\n",
       " <span class=\"captionTimes\"><a href=\"detail?START=12&amp;JPN_FAMILY=&amp;FAMILY=Chaetodontidae&amp;JPN_NAME=&amp;SPECIES=&amp;LOCALITY=&amp;FISH_Y=&amp;FISH_M=&amp;FISH_D=&amp;PERSON=&amp;PHOTO_ID=&amp;JPN_FAMILY_OPT=1&amp;FAMILY_OPT=0&amp;JPN_NAME_OPT=1&amp;SPECIES_OPT=1&amp;LOCALITY_OPT=1&amp;PERSON_OPT=1&amp;PHOTO_ID_OPT=1\">KPM-NR 10409</a></span>,\n",
       " <span class=\"captionTimes\"><a href=\"detail?START=13&amp;JPN_FAMILY=&amp;FAMILY=Chaetodontidae&amp;JPN_NAME=&amp;SPECIES=&amp;LOCALITY=&amp;FISH_Y=&amp;FISH_M=&amp;FISH_D=&amp;PERSON=&amp;PHOTO_ID=&amp;JPN_FAMILY_OPT=1&amp;FAMILY_OPT=0&amp;JPN_NAME_OPT=1&amp;SPECIES_OPT=1&amp;LOCALITY_OPT=1&amp;PERSON_OPT=1&amp;PHOTO_ID_OPT=1\">KPM-NR 10410</a></span>,\n",
       " <span class=\"captionTimes\"><a href=\"detail?START=14&amp;JPN_FAMILY=&amp;FAMILY=Chaetodontidae&amp;JPN_NAME=&amp;SPECIES=&amp;LOCALITY=&amp;FISH_Y=&amp;FISH_M=&amp;FISH_D=&amp;PERSON=&amp;PHOTO_ID=&amp;JPN_FAMILY_OPT=1&amp;FAMILY_OPT=0&amp;JPN_NAME_OPT=1&amp;SPECIES_OPT=1&amp;LOCALITY_OPT=1&amp;PERSON_OPT=1&amp;PHOTO_ID_OPT=1\">KPM-NR 10431</a></span>,\n",
       " <span class=\"captionTimes\"><a href=\"detail?START=15&amp;JPN_FAMILY=&amp;FAMILY=Chaetodontidae&amp;JPN_NAME=&amp;SPECIES=&amp;LOCALITY=&amp;FISH_Y=&amp;FISH_M=&amp;FISH_D=&amp;PERSON=&amp;PHOTO_ID=&amp;JPN_FAMILY_OPT=1&amp;FAMILY_OPT=0&amp;JPN_NAME_OPT=1&amp;SPECIES_OPT=1&amp;LOCALITY_OPT=1&amp;PERSON_OPT=1&amp;PHOTO_ID_OPT=1\">KPM-NR 10472</a></span>,\n",
       " <span class=\"captionTimes\"><a href=\"detail?START=16&amp;JPN_FAMILY=&amp;FAMILY=Chaetodontidae&amp;JPN_NAME=&amp;SPECIES=&amp;LOCALITY=&amp;FISH_Y=&amp;FISH_M=&amp;FISH_D=&amp;PERSON=&amp;PHOTO_ID=&amp;JPN_FAMILY_OPT=1&amp;FAMILY_OPT=0&amp;JPN_NAME_OPT=1&amp;SPECIES_OPT=1&amp;LOCALITY_OPT=1&amp;PERSON_OPT=1&amp;PHOTO_ID_OPT=1\">KPM-NR 10473</a></span>,\n",
       " <span class=\"captionTimes\"><a href=\"detail?START=17&amp;JPN_FAMILY=&amp;FAMILY=Chaetodontidae&amp;JPN_NAME=&amp;SPECIES=&amp;LOCALITY=&amp;FISH_Y=&amp;FISH_M=&amp;FISH_D=&amp;PERSON=&amp;PHOTO_ID=&amp;JPN_FAMILY_OPT=1&amp;FAMILY_OPT=0&amp;JPN_NAME_OPT=1&amp;SPECIES_OPT=1&amp;LOCALITY_OPT=1&amp;PERSON_OPT=1&amp;PHOTO_ID_OPT=1\">KPM-NR 10474</a></span>,\n",
       " <span class=\"captionTimes\"><a href=\"detail?START=18&amp;JPN_FAMILY=&amp;FAMILY=Chaetodontidae&amp;JPN_NAME=&amp;SPECIES=&amp;LOCALITY=&amp;FISH_Y=&amp;FISH_M=&amp;FISH_D=&amp;PERSON=&amp;PHOTO_ID=&amp;JPN_FAMILY_OPT=1&amp;FAMILY_OPT=0&amp;JPN_NAME_OPT=1&amp;SPECIES_OPT=1&amp;LOCALITY_OPT=1&amp;PERSON_OPT=1&amp;PHOTO_ID_OPT=1\">KPM-NR 10475</a></span>,\n",
       " <span class=\"captionTimes\"><a href=\"detail?START=19&amp;JPN_FAMILY=&amp;FAMILY=Chaetodontidae&amp;JPN_NAME=&amp;SPECIES=&amp;LOCALITY=&amp;FISH_Y=&amp;FISH_M=&amp;FISH_D=&amp;PERSON=&amp;PHOTO_ID=&amp;JPN_FAMILY_OPT=1&amp;FAMILY_OPT=0&amp;JPN_NAME_OPT=1&amp;SPECIES_OPT=1&amp;LOCALITY_OPT=1&amp;PERSON_OPT=1&amp;PHOTO_ID_OPT=1\">KPM-NR 10580</a></span>,\n",
       " <span class=\"captionTimes\"><a href=\"detail?START=20&amp;JPN_FAMILY=&amp;FAMILY=Chaetodontidae&amp;JPN_NAME=&amp;SPECIES=&amp;LOCALITY=&amp;FISH_Y=&amp;FISH_M=&amp;FISH_D=&amp;PERSON=&amp;PHOTO_ID=&amp;JPN_FAMILY_OPT=1&amp;FAMILY_OPT=0&amp;JPN_NAME_OPT=1&amp;SPECIES_OPT=1&amp;LOCALITY_OPT=1&amp;PERSON_OPT=1&amp;PHOTO_ID_OPT=1\">KPM-NR 10581</a></span>,\n",
       " <span class=\"captionTimes\"><font color=\"#1235ff\">\n",
       "       2832件中 1-20件目\n",
       "       </font></span>,\n",
       " <span class=\"captionTimes\"><font color=\"#1235ff\"><a href=\"search?START=1&amp;JPN_FAMILY=&amp;FAMILY=Chaetodontidae&amp;JPN_NAME=&amp;SPECIES=&amp;LOCALITY=&amp;FISH_Y=&amp;FISH_M=&amp;FISH_D=&amp;PERSON=&amp;PHOTO_ID=&amp;JPN_FAMILY_OPT=1&amp;FAMILY_OPT=0&amp;JPN_NAME_OPT=1&amp;SPECIES_OPT=1&amp;LOCALITY_OPT=1&amp;PERSON_OPT=1&amp;PHOTO_ID_OPT=1\">[1-20]</a></font></span>,\n",
       " <span class=\"captionTimes\"><font color=\"#1235ff\"><a href=\"search?START=21&amp;JPN_FAMILY=&amp;FAMILY=Chaetodontidae&amp;JPN_NAME=&amp;SPECIES=&amp;LOCALITY=&amp;FISH_Y=&amp;FISH_M=&amp;FISH_D=&amp;PERSON=&amp;PHOTO_ID=&amp;JPN_FAMILY_OPT=1&amp;FAMILY_OPT=0&amp;JPN_NAME_OPT=1&amp;SPECIES_OPT=1&amp;LOCALITY_OPT=1&amp;PERSON_OPT=1&amp;PHOTO_ID_OPT=1\">[21-40]</a></font></span>,\n",
       " <span class=\"captionTimes\"><font color=\"#1235ff\"><a href=\"search?START=41&amp;JPN_FAMILY=&amp;FAMILY=Chaetodontidae&amp;JPN_NAME=&amp;SPECIES=&amp;LOCALITY=&amp;FISH_Y=&amp;FISH_M=&amp;FISH_D=&amp;PERSON=&amp;PHOTO_ID=&amp;JPN_FAMILY_OPT=1&amp;FAMILY_OPT=0&amp;JPN_NAME_OPT=1&amp;SPECIES_OPT=1&amp;LOCALITY_OPT=1&amp;PERSON_OPT=1&amp;PHOTO_ID_OPT=1\">[41-60]</a></font></span>,\n",
       " <span class=\"captionTimes\"><font color=\"#1235ff\"><a href=\"search?START=61&amp;JPN_FAMILY=&amp;FAMILY=Chaetodontidae&amp;JPN_NAME=&amp;SPECIES=&amp;LOCALITY=&amp;FISH_Y=&amp;FISH_M=&amp;FISH_D=&amp;PERSON=&amp;PHOTO_ID=&amp;JPN_FAMILY_OPT=1&amp;FAMILY_OPT=0&amp;JPN_NAME_OPT=1&amp;SPECIES_OPT=1&amp;LOCALITY_OPT=1&amp;PERSON_OPT=1&amp;PHOTO_ID_OPT=1\">[61-80]</a></font></span>,\n",
       " <span class=\"captionTimes\"><font color=\"#1235ff\"><a href=\"search?START=81&amp;JPN_FAMILY=&amp;FAMILY=Chaetodontidae&amp;JPN_NAME=&amp;SPECIES=&amp;LOCALITY=&amp;FISH_Y=&amp;FISH_M=&amp;FISH_D=&amp;PERSON=&amp;PHOTO_ID=&amp;JPN_FAMILY_OPT=1&amp;FAMILY_OPT=0&amp;JPN_NAME_OPT=1&amp;SPECIES_OPT=1&amp;LOCALITY_OPT=1&amp;PERSON_OPT=1&amp;PHOTO_ID_OPT=1\">[81-100]</a></font></span>]"
      ]
     },
     "execution_count": 10,
     "metadata": {},
     "output_type": "execute_result"
    }
   ],
   "source": [
    "soup.findAll('span', class_= 'captionTimes')"
   ]
  },
  {
   "cell_type": "code",
   "execution_count": 17,
   "metadata": {},
   "outputs": [
    {
     "data": {
      "text/plain": [
       "[<span class=\"captionTimes\"><font color=\"#1235ff\">\n",
       "       2832件中 2781-2800件目</font>\n",
       " </span>,\n",
       " <span class=\"captionTimes\"><font color=\"#1235ff\"><a href=\"search?START=2701&amp;JPN_FAMILY=&amp;FAMILY=Chaetodontidae&amp;JPN_NAME=&amp;SPECIES=&amp;LOCALITY=&amp;FISH_Y=&amp;FISH_M=&amp;FISH_D=&amp;PERSON=&amp;PHOTO_ID=&amp;JPN_FAMILY_OPT=1&amp;FAMILY_OPT=0&amp;JPN_NAME_OPT=1&amp;SPECIES_OPT=1&amp;LOCALITY_OPT=1&amp;PERSON_OPT=1&amp;PHOTO_ID_OPT=1\">[2701-2720]</a></font></span>,\n",
       " <span class=\"captionTimes\"><font color=\"#1235ff\"><a href=\"search?START=2721&amp;JPN_FAMILY=&amp;FAMILY=Chaetodontidae&amp;JPN_NAME=&amp;SPECIES=&amp;LOCALITY=&amp;FISH_Y=&amp;FISH_M=&amp;FISH_D=&amp;PERSON=&amp;PHOTO_ID=&amp;JPN_FAMILY_OPT=1&amp;FAMILY_OPT=0&amp;JPN_NAME_OPT=1&amp;SPECIES_OPT=1&amp;LOCALITY_OPT=1&amp;PERSON_OPT=1&amp;PHOTO_ID_OPT=1\">[2721-2740]</a></font></span>,\n",
       " <span class=\"captionTimes\"><font color=\"#1235ff\"><a href=\"search?START=2741&amp;JPN_FAMILY=&amp;FAMILY=Chaetodontidae&amp;JPN_NAME=&amp;SPECIES=&amp;LOCALITY=&amp;FISH_Y=&amp;FISH_M=&amp;FISH_D=&amp;PERSON=&amp;PHOTO_ID=&amp;JPN_FAMILY_OPT=1&amp;FAMILY_OPT=0&amp;JPN_NAME_OPT=1&amp;SPECIES_OPT=1&amp;LOCALITY_OPT=1&amp;PERSON_OPT=1&amp;PHOTO_ID_OPT=1\">[2741-2760]</a></font></span>,\n",
       " <span class=\"captionTimes\"><font color=\"#1235ff\"><a href=\"search?START=2761&amp;JPN_FAMILY=&amp;FAMILY=Chaetodontidae&amp;JPN_NAME=&amp;SPECIES=&amp;LOCALITY=&amp;FISH_Y=&amp;FISH_M=&amp;FISH_D=&amp;PERSON=&amp;PHOTO_ID=&amp;JPN_FAMILY_OPT=1&amp;FAMILY_OPT=0&amp;JPN_NAME_OPT=1&amp;SPECIES_OPT=1&amp;LOCALITY_OPT=1&amp;PERSON_OPT=1&amp;PHOTO_ID_OPT=1\">[2761-2780]</a></font></span>,\n",
       " <span class=\"captionTimes\"><font color=\"#1235ff\"><a href=\"search?START=2781&amp;JPN_FAMILY=&amp;FAMILY=Chaetodontidae&amp;JPN_NAME=&amp;SPECIES=&amp;LOCALITY=&amp;FISH_Y=&amp;FISH_M=&amp;FISH_D=&amp;PERSON=&amp;PHOTO_ID=&amp;JPN_FAMILY_OPT=1&amp;FAMILY_OPT=0&amp;JPN_NAME_OPT=1&amp;SPECIES_OPT=1&amp;LOCALITY_OPT=1&amp;PERSON_OPT=1&amp;PHOTO_ID_OPT=1\">[2781-2800]</a></font></span>,\n",
       " <span class=\"captionTimes\"><a href=\"detail?START=2781&amp;JPN_FAMILY=&amp;FAMILY=Chaetodontidae&amp;JPN_NAME=&amp;SPECIES=&amp;LOCALITY=&amp;FISH_Y=&amp;FISH_M=&amp;FISH_D=&amp;PERSON=&amp;PHOTO_ID=&amp;JPN_FAMILY_OPT=1&amp;FAMILY_OPT=0&amp;JPN_NAME_OPT=1&amp;SPECIES_OPT=1&amp;LOCALITY_OPT=1&amp;PERSON_OPT=1&amp;PHOTO_ID_OPT=1\">KPM-NR 9771</a></span>,\n",
       " <span class=\"captionTimes\"><a href=\"detail?START=2782&amp;JPN_FAMILY=&amp;FAMILY=Chaetodontidae&amp;JPN_NAME=&amp;SPECIES=&amp;LOCALITY=&amp;FISH_Y=&amp;FISH_M=&amp;FISH_D=&amp;PERSON=&amp;PHOTO_ID=&amp;JPN_FAMILY_OPT=1&amp;FAMILY_OPT=0&amp;JPN_NAME_OPT=1&amp;SPECIES_OPT=1&amp;LOCALITY_OPT=1&amp;PERSON_OPT=1&amp;PHOTO_ID_OPT=1\">KPM-NR 9772</a></span>,\n",
       " <span class=\"captionTimes\"><a href=\"detail?START=2783&amp;JPN_FAMILY=&amp;FAMILY=Chaetodontidae&amp;JPN_NAME=&amp;SPECIES=&amp;LOCALITY=&amp;FISH_Y=&amp;FISH_M=&amp;FISH_D=&amp;PERSON=&amp;PHOTO_ID=&amp;JPN_FAMILY_OPT=1&amp;FAMILY_OPT=0&amp;JPN_NAME_OPT=1&amp;SPECIES_OPT=1&amp;LOCALITY_OPT=1&amp;PERSON_OPT=1&amp;PHOTO_ID_OPT=1\">KPM-NR 97778</a></span>,\n",
       " <span class=\"captionTimes\"><a href=\"detail?START=2784&amp;JPN_FAMILY=&amp;FAMILY=Chaetodontidae&amp;JPN_NAME=&amp;SPECIES=&amp;LOCALITY=&amp;FISH_Y=&amp;FISH_M=&amp;FISH_D=&amp;PERSON=&amp;PHOTO_ID=&amp;JPN_FAMILY_OPT=1&amp;FAMILY_OPT=0&amp;JPN_NAME_OPT=1&amp;SPECIES_OPT=1&amp;LOCALITY_OPT=1&amp;PERSON_OPT=1&amp;PHOTO_ID_OPT=1\">KPM-NR 97783</a></span>,\n",
       " <span class=\"captionTimes\"><a href=\"detail?START=2785&amp;JPN_FAMILY=&amp;FAMILY=Chaetodontidae&amp;JPN_NAME=&amp;SPECIES=&amp;LOCALITY=&amp;FISH_Y=&amp;FISH_M=&amp;FISH_D=&amp;PERSON=&amp;PHOTO_ID=&amp;JPN_FAMILY_OPT=1&amp;FAMILY_OPT=0&amp;JPN_NAME_OPT=1&amp;SPECIES_OPT=1&amp;LOCALITY_OPT=1&amp;PERSON_OPT=1&amp;PHOTO_ID_OPT=1\">KPM-NR 97792</a></span>,\n",
       " <span class=\"captionTimes\"><a href=\"detail?START=2786&amp;JPN_FAMILY=&amp;FAMILY=Chaetodontidae&amp;JPN_NAME=&amp;SPECIES=&amp;LOCALITY=&amp;FISH_Y=&amp;FISH_M=&amp;FISH_D=&amp;PERSON=&amp;PHOTO_ID=&amp;JPN_FAMILY_OPT=1&amp;FAMILY_OPT=0&amp;JPN_NAME_OPT=1&amp;SPECIES_OPT=1&amp;LOCALITY_OPT=1&amp;PERSON_OPT=1&amp;PHOTO_ID_OPT=1\">KPM-NR 97797</a></span>,\n",
       " <span class=\"captionTimes\"><a href=\"detail?START=2787&amp;JPN_FAMILY=&amp;FAMILY=Chaetodontidae&amp;JPN_NAME=&amp;SPECIES=&amp;LOCALITY=&amp;FISH_Y=&amp;FISH_M=&amp;FISH_D=&amp;PERSON=&amp;PHOTO_ID=&amp;JPN_FAMILY_OPT=1&amp;FAMILY_OPT=0&amp;JPN_NAME_OPT=1&amp;SPECIES_OPT=1&amp;LOCALITY_OPT=1&amp;PERSON_OPT=1&amp;PHOTO_ID_OPT=1\">KPM-NR 97801</a></span>,\n",
       " <span class=\"captionTimes\"><a href=\"detail?START=2788&amp;JPN_FAMILY=&amp;FAMILY=Chaetodontidae&amp;JPN_NAME=&amp;SPECIES=&amp;LOCALITY=&amp;FISH_Y=&amp;FISH_M=&amp;FISH_D=&amp;PERSON=&amp;PHOTO_ID=&amp;JPN_FAMILY_OPT=1&amp;FAMILY_OPT=0&amp;JPN_NAME_OPT=1&amp;SPECIES_OPT=1&amp;LOCALITY_OPT=1&amp;PERSON_OPT=1&amp;PHOTO_ID_OPT=1\">KPM-NR 97855</a></span>,\n",
       " <span class=\"captionTimes\"><a href=\"detail?START=2789&amp;JPN_FAMILY=&amp;FAMILY=Chaetodontidae&amp;JPN_NAME=&amp;SPECIES=&amp;LOCALITY=&amp;FISH_Y=&amp;FISH_M=&amp;FISH_D=&amp;PERSON=&amp;PHOTO_ID=&amp;JPN_FAMILY_OPT=1&amp;FAMILY_OPT=0&amp;JPN_NAME_OPT=1&amp;SPECIES_OPT=1&amp;LOCALITY_OPT=1&amp;PERSON_OPT=1&amp;PHOTO_ID_OPT=1\">KPM-NR 97984</a></span>,\n",
       " <span class=\"captionTimes\"><a href=\"detail?START=2790&amp;JPN_FAMILY=&amp;FAMILY=Chaetodontidae&amp;JPN_NAME=&amp;SPECIES=&amp;LOCALITY=&amp;FISH_Y=&amp;FISH_M=&amp;FISH_D=&amp;PERSON=&amp;PHOTO_ID=&amp;JPN_FAMILY_OPT=1&amp;FAMILY_OPT=0&amp;JPN_NAME_OPT=1&amp;SPECIES_OPT=1&amp;LOCALITY_OPT=1&amp;PERSON_OPT=1&amp;PHOTO_ID_OPT=1\">KPM-NR 98005</a></span>,\n",
       " <span class=\"captionTimes\"><a href=\"detail?START=2791&amp;JPN_FAMILY=&amp;FAMILY=Chaetodontidae&amp;JPN_NAME=&amp;SPECIES=&amp;LOCALITY=&amp;FISH_Y=&amp;FISH_M=&amp;FISH_D=&amp;PERSON=&amp;PHOTO_ID=&amp;JPN_FAMILY_OPT=1&amp;FAMILY_OPT=0&amp;JPN_NAME_OPT=1&amp;SPECIES_OPT=1&amp;LOCALITY_OPT=1&amp;PERSON_OPT=1&amp;PHOTO_ID_OPT=1\">KPM-NR 981</a></span>,\n",
       " <span class=\"captionTimes\"><a href=\"detail?START=2792&amp;JPN_FAMILY=&amp;FAMILY=Chaetodontidae&amp;JPN_NAME=&amp;SPECIES=&amp;LOCALITY=&amp;FISH_Y=&amp;FISH_M=&amp;FISH_D=&amp;PERSON=&amp;PHOTO_ID=&amp;JPN_FAMILY_OPT=1&amp;FAMILY_OPT=0&amp;JPN_NAME_OPT=1&amp;SPECIES_OPT=1&amp;LOCALITY_OPT=1&amp;PERSON_OPT=1&amp;PHOTO_ID_OPT=1\">KPM-NR 98147</a></span>,\n",
       " <span class=\"captionTimes\"><a href=\"detail?START=2793&amp;JPN_FAMILY=&amp;FAMILY=Chaetodontidae&amp;JPN_NAME=&amp;SPECIES=&amp;LOCALITY=&amp;FISH_Y=&amp;FISH_M=&amp;FISH_D=&amp;PERSON=&amp;PHOTO_ID=&amp;JPN_FAMILY_OPT=1&amp;FAMILY_OPT=0&amp;JPN_NAME_OPT=1&amp;SPECIES_OPT=1&amp;LOCALITY_OPT=1&amp;PERSON_OPT=1&amp;PHOTO_ID_OPT=1\">KPM-NR 98152</a></span>,\n",
       " <span class=\"captionTimes\"><a href=\"detail?START=2794&amp;JPN_FAMILY=&amp;FAMILY=Chaetodontidae&amp;JPN_NAME=&amp;SPECIES=&amp;LOCALITY=&amp;FISH_Y=&amp;FISH_M=&amp;FISH_D=&amp;PERSON=&amp;PHOTO_ID=&amp;JPN_FAMILY_OPT=1&amp;FAMILY_OPT=0&amp;JPN_NAME_OPT=1&amp;SPECIES_OPT=1&amp;LOCALITY_OPT=1&amp;PERSON_OPT=1&amp;PHOTO_ID_OPT=1\">KPM-NR 98208</a></span>,\n",
       " <span class=\"captionTimes\"><a href=\"detail?START=2795&amp;JPN_FAMILY=&amp;FAMILY=Chaetodontidae&amp;JPN_NAME=&amp;SPECIES=&amp;LOCALITY=&amp;FISH_Y=&amp;FISH_M=&amp;FISH_D=&amp;PERSON=&amp;PHOTO_ID=&amp;JPN_FAMILY_OPT=1&amp;FAMILY_OPT=0&amp;JPN_NAME_OPT=1&amp;SPECIES_OPT=1&amp;LOCALITY_OPT=1&amp;PERSON_OPT=1&amp;PHOTO_ID_OPT=1\">KPM-NR 9825</a></span>,\n",
       " <span class=\"captionTimes\"><a href=\"detail?START=2796&amp;JPN_FAMILY=&amp;FAMILY=Chaetodontidae&amp;JPN_NAME=&amp;SPECIES=&amp;LOCALITY=&amp;FISH_Y=&amp;FISH_M=&amp;FISH_D=&amp;PERSON=&amp;PHOTO_ID=&amp;JPN_FAMILY_OPT=1&amp;FAMILY_OPT=0&amp;JPN_NAME_OPT=1&amp;SPECIES_OPT=1&amp;LOCALITY_OPT=1&amp;PERSON_OPT=1&amp;PHOTO_ID_OPT=1\">KPM-NR 98389</a></span>,\n",
       " <span class=\"captionTimes\"><a href=\"detail?START=2797&amp;JPN_FAMILY=&amp;FAMILY=Chaetodontidae&amp;JPN_NAME=&amp;SPECIES=&amp;LOCALITY=&amp;FISH_Y=&amp;FISH_M=&amp;FISH_D=&amp;PERSON=&amp;PHOTO_ID=&amp;JPN_FAMILY_OPT=1&amp;FAMILY_OPT=0&amp;JPN_NAME_OPT=1&amp;SPECIES_OPT=1&amp;LOCALITY_OPT=1&amp;PERSON_OPT=1&amp;PHOTO_ID_OPT=1\">KPM-NR 98400</a></span>,\n",
       " <span class=\"captionTimes\"><a href=\"detail?START=2798&amp;JPN_FAMILY=&amp;FAMILY=Chaetodontidae&amp;JPN_NAME=&amp;SPECIES=&amp;LOCALITY=&amp;FISH_Y=&amp;FISH_M=&amp;FISH_D=&amp;PERSON=&amp;PHOTO_ID=&amp;JPN_FAMILY_OPT=1&amp;FAMILY_OPT=0&amp;JPN_NAME_OPT=1&amp;SPECIES_OPT=1&amp;LOCALITY_OPT=1&amp;PERSON_OPT=1&amp;PHOTO_ID_OPT=1\">KPM-NR 98456</a></span>,\n",
       " <span class=\"captionTimes\"><a href=\"detail?START=2799&amp;JPN_FAMILY=&amp;FAMILY=Chaetodontidae&amp;JPN_NAME=&amp;SPECIES=&amp;LOCALITY=&amp;FISH_Y=&amp;FISH_M=&amp;FISH_D=&amp;PERSON=&amp;PHOTO_ID=&amp;JPN_FAMILY_OPT=1&amp;FAMILY_OPT=0&amp;JPN_NAME_OPT=1&amp;SPECIES_OPT=1&amp;LOCALITY_OPT=1&amp;PERSON_OPT=1&amp;PHOTO_ID_OPT=1\">KPM-NR 98945</a></span>,\n",
       " <span class=\"captionTimes\"><a href=\"detail?START=2800&amp;JPN_FAMILY=&amp;FAMILY=Chaetodontidae&amp;JPN_NAME=&amp;SPECIES=&amp;LOCALITY=&amp;FISH_Y=&amp;FISH_M=&amp;FISH_D=&amp;PERSON=&amp;PHOTO_ID=&amp;JPN_FAMILY_OPT=1&amp;FAMILY_OPT=0&amp;JPN_NAME_OPT=1&amp;SPECIES_OPT=1&amp;LOCALITY_OPT=1&amp;PERSON_OPT=1&amp;PHOTO_ID_OPT=1\">KPM-NR 98964</a></span>,\n",
       " <span class=\"captionTimes\"><font color=\"#1235ff\">\n",
       "       2832件中 2781-2800件目\n",
       "       </font></span>,\n",
       " <span class=\"captionTimes\"><font color=\"#1235ff\">\n",
       " <a href=\"search?START=2601&amp;JPN_FAMILY=&amp;FAMILY=Chaetodontidae&amp;JPN_NAME=&amp;SPECIES=&amp;LOCALITY=&amp;FISH_Y=&amp;FISH_M=&amp;FISH_D=&amp;PERSON=&amp;PHOTO_ID=&amp;JPN_FAMILY_OPT=1&amp;FAMILY_OPT=0&amp;JPN_NAME_OPT=1&amp;SPECIES_OPT=1&amp;LOCALITY_OPT=1&amp;PERSON_OPT=1&amp;PHOTO_ID_OPT=1\"><img align=\"absmiddle\" alt=\"前へ\" border=\"0\" height=\"13\" src=\"images/L.jpg\" width=\"13\"/></a></font></span>,\n",
       " <span class=\"captionTimes\"><font color=\"#1235ff\"><a href=\"search?START=2701&amp;JPN_FAMILY=&amp;FAMILY=Chaetodontidae&amp;JPN_NAME=&amp;SPECIES=&amp;LOCALITY=&amp;FISH_Y=&amp;FISH_M=&amp;FISH_D=&amp;PERSON=&amp;PHOTO_ID=&amp;JPN_FAMILY_OPT=1&amp;FAMILY_OPT=0&amp;JPN_NAME_OPT=1&amp;SPECIES_OPT=1&amp;LOCALITY_OPT=1&amp;PERSON_OPT=1&amp;PHOTO_ID_OPT=1\">[2701-2720]</a></font></span>,\n",
       " <span class=\"captionTimes\"><font color=\"#1235ff\"><a href=\"search?START=2721&amp;JPN_FAMILY=&amp;FAMILY=Chaetodontidae&amp;JPN_NAME=&amp;SPECIES=&amp;LOCALITY=&amp;FISH_Y=&amp;FISH_M=&amp;FISH_D=&amp;PERSON=&amp;PHOTO_ID=&amp;JPN_FAMILY_OPT=1&amp;FAMILY_OPT=0&amp;JPN_NAME_OPT=1&amp;SPECIES_OPT=1&amp;LOCALITY_OPT=1&amp;PERSON_OPT=1&amp;PHOTO_ID_OPT=1\">[2721-2740]</a></font></span>,\n",
       " <span class=\"captionTimes\"><font color=\"#1235ff\"><a href=\"search?START=2741&amp;JPN_FAMILY=&amp;FAMILY=Chaetodontidae&amp;JPN_NAME=&amp;SPECIES=&amp;LOCALITY=&amp;FISH_Y=&amp;FISH_M=&amp;FISH_D=&amp;PERSON=&amp;PHOTO_ID=&amp;JPN_FAMILY_OPT=1&amp;FAMILY_OPT=0&amp;JPN_NAME_OPT=1&amp;SPECIES_OPT=1&amp;LOCALITY_OPT=1&amp;PERSON_OPT=1&amp;PHOTO_ID_OPT=1\">[2741-2760]</a></font></span>,\n",
       " <span class=\"captionTimes\"><font color=\"#1235ff\"><a href=\"search?START=2761&amp;JPN_FAMILY=&amp;FAMILY=Chaetodontidae&amp;JPN_NAME=&amp;SPECIES=&amp;LOCALITY=&amp;FISH_Y=&amp;FISH_M=&amp;FISH_D=&amp;PERSON=&amp;PHOTO_ID=&amp;JPN_FAMILY_OPT=1&amp;FAMILY_OPT=0&amp;JPN_NAME_OPT=1&amp;SPECIES_OPT=1&amp;LOCALITY_OPT=1&amp;PERSON_OPT=1&amp;PHOTO_ID_OPT=1\">[2761-2780]</a></font></span>,\n",
       " <span class=\"captionTimes\"><font color=\"#1235ff\"><a href=\"search?START=2781&amp;JPN_FAMILY=&amp;FAMILY=Chaetodontidae&amp;JPN_NAME=&amp;SPECIES=&amp;LOCALITY=&amp;FISH_Y=&amp;FISH_M=&amp;FISH_D=&amp;PERSON=&amp;PHOTO_ID=&amp;JPN_FAMILY_OPT=1&amp;FAMILY_OPT=0&amp;JPN_NAME_OPT=1&amp;SPECIES_OPT=1&amp;LOCALITY_OPT=1&amp;PERSON_OPT=1&amp;PHOTO_ID_OPT=1\">[2781-2800]</a></font></span>]"
      ]
     },
     "metadata": {},
     "output_type": "display_data"
    },
    {
     "name": "stdout",
     "output_type": "stream",
     "text": [
      "['KPM-NR 9771', 'KPM-NR 9772', 'KPM-NR 97778', 'KPM-NR 97783', 'KPM-NR 97792', 'KPM-NR 97797', 'KPM-NR 97801', 'KPM-NR 97855', 'KPM-NR 97984', 'KPM-NR 98005', 'KPM-NR 981', 'KPM-NR 98147', 'KPM-NR 98152', 'KPM-NR 98208', 'KPM-NR 9825', 'KPM-NR 98389', 'KPM-NR 98400', 'KPM-NR 98456', 'KPM-NR 98945', 'KPM-NR 98964']\n"
     ]
    }
   ],
   "source": [
    "caption = soup.findAll('span', class_= 'captionTimes')\n",
    "display(caption)\n",
    "caps = []\n",
    "for x in caption:\n",
    "    cap = x.find('a',href=re.compile('^detail'))\n",
    "    if cap != None:\n",
    "        caps.append(cap.text)\n",
    "print(caps)"
   ]
  },
  {
   "cell_type": "code",
   "execution_count": 98,
   "metadata": {},
   "outputs": [
    {
     "name": "stdout",
     "output_type": "stream",
     "text": [
      "2832\n"
     ]
    }
   ],
   "source": [
    "text = soup.find('span', class_= 'captionTimes').text\n",
    "num = text.split(\"件\")[0].split()[0]\n",
    "print(num)"
   ]
  },
  {
   "cell_type": "code",
   "execution_count": 22,
   "metadata": {
    "scrolled": true
   },
   "outputs": [
    {
     "data": {
      "text/plain": [
       "[<img align=\"absmiddle\" alt=\"前へ\" border=\"0\" height=\"13\" src=\"images/L.jpg\" width=\"13\"/>,\n",
       " <img align=\"absmiddle\" alt=\"次へ\" border=\"0\" height=\"13\" src=\"images/R.jpg\" width=\"13\"/>,\n",
       " <img border=\"0\" height=\"130\" src=\"../photos/NR0009/9771AI.jpg\" vspace=\"2\" width=\"130\"/>,\n",
       " <img border=\"0\" height=\"130\" src=\"../photos/NR0009/9772AI.jpg\" vspace=\"2\" width=\"130\"/>,\n",
       " <img border=\"0\" height=\"130\" src=\"../photos/NR0097/97778AI.jpg\" vspace=\"2\" width=\"130\"/>,\n",
       " <img border=\"0\" height=\"130\" src=\"../photos/NR0097/97783AI.jpg\" vspace=\"2\" width=\"130\"/>,\n",
       " <img border=\"0\" height=\"130\" src=\"../photos/NR0097/97792AI.jpg\" vspace=\"2\" width=\"130\"/>,\n",
       " <img border=\"0\" height=\"130\" src=\"../photos/NR0097/97797AI.jpg\" vspace=\"2\" width=\"130\"/>,\n",
       " <img border=\"0\" height=\"130\" src=\"../photos/NR0097/97801AI.jpg\" vspace=\"2\" width=\"130\"/>,\n",
       " <img border=\"0\" height=\"130\" src=\"../photos/NR0097/97855AI.jpg\" vspace=\"2\" width=\"130\"/>,\n",
       " <img border=\"0\" height=\"130\" src=\"../photos/NR0097/97984AI.jpg\" vspace=\"2\" width=\"130\"/>,\n",
       " <img border=\"0\" height=\"130\" src=\"../photos/NR0098/98005AI.jpg\" vspace=\"2\" width=\"130\"/>,\n",
       " <img border=\"0\" height=\"130\" src=\"../photos/NR0000/981AI.jpg\" vspace=\"2\" width=\"130\"/>,\n",
       " <img border=\"0\" height=\"130\" src=\"../photos/NR0098/98147AI.jpg\" vspace=\"2\" width=\"130\"/>,\n",
       " <img border=\"0\" height=\"130\" src=\"../photos/NR0098/98152AI.jpg\" vspace=\"2\" width=\"130\"/>,\n",
       " <img border=\"0\" height=\"130\" src=\"../photos/NR0098/98208AI.jpg\" vspace=\"2\" width=\"130\"/>,\n",
       " <img border=\"0\" height=\"130\" src=\"../photos/NR0009/9825AI.jpg\" vspace=\"2\" width=\"130\"/>,\n",
       " <img border=\"0\" height=\"130\" src=\"../photos/NR0098/98389AI.jpg\" vspace=\"2\" width=\"130\"/>,\n",
       " <img border=\"0\" height=\"130\" src=\"../photos/NR0098/98400AI.jpg\" vspace=\"2\" width=\"130\"/>,\n",
       " <img border=\"0\" height=\"130\" src=\"../photos/NR0098/98456AI.jpg\" vspace=\"2\" width=\"130\"/>,\n",
       " <img border=\"0\" height=\"130\" src=\"../photos/NR0098/98945AI.jpg\" vspace=\"2\" width=\"130\"/>,\n",
       " <img border=\"0\" height=\"130\" src=\"../photos/NR0098/98964AI.jpg\" vspace=\"2\" width=\"130\"/>,\n",
       " <img align=\"absmiddle\" alt=\"前へ\" border=\"0\" height=\"13\" src=\"images/L.jpg\" width=\"13\"/>,\n",
       " <img align=\"absmiddle\" alt=\"次へ\" border=\"0\" height=\"13\" src=\"images/R.jpg\" width=\"13\"/>]"
      ]
     },
     "metadata": {},
     "output_type": "display_data"
    }
   ],
   "source": [
    "imgsoup = soup.findAll(\"img\")\n",
    "display(imgsoup)"
   ]
  },
  {
   "cell_type": "code",
   "execution_count": 26,
   "metadata": {},
   "outputs": [],
   "source": [
    "img_path = []\n",
    "\n",
    "for x in imgsoup:\n",
    "    if x['height'] == \"130\":\n",
    "        img_path.append(x['src'])"
   ]
  },
  {
   "cell_type": "code",
   "execution_count": 27,
   "metadata": {},
   "outputs": [
    {
     "name": "stdout",
     "output_type": "stream",
     "text": [
      "20\n",
      "['../photos/NR0009/9771AI.jpg', '../photos/NR0009/9772AI.jpg', '../photos/NR0097/97778AI.jpg', '../photos/NR0097/97783AI.jpg', '../photos/NR0097/97792AI.jpg', '../photos/NR0097/97797AI.jpg', '../photos/NR0097/97801AI.jpg', '../photos/NR0097/97855AI.jpg', '../photos/NR0097/97984AI.jpg', '../photos/NR0098/98005AI.jpg', '../photos/NR0000/981AI.jpg', '../photos/NR0098/98147AI.jpg', '../photos/NR0098/98152AI.jpg', '../photos/NR0098/98208AI.jpg', '../photos/NR0009/9825AI.jpg', '../photos/NR0098/98389AI.jpg', '../photos/NR0098/98400AI.jpg', '../photos/NR0098/98456AI.jpg', '../photos/NR0098/98945AI.jpg', '../photos/NR0098/98964AI.jpg']\n"
     ]
    }
   ],
   "source": [
    "print(len(img_path))\n",
    "print(img_path)"
   ]
  },
  {
   "cell_type": "code",
   "execution_count": null,
   "metadata": {},
   "outputs": [],
   "source": []
  }
 ],
 "metadata": {
  "kernelspec": {
   "display_name": "Python 3",
   "language": "python",
   "name": "python3"
  },
  "language_info": {
   "codemirror_mode": {
    "name": "ipython",
    "version": 3
   },
   "file_extension": ".py",
   "mimetype": "text/x-python",
   "name": "python",
   "nbconvert_exporter": "python",
   "pygments_lexer": "ipython3",
   "version": "3.6.5"
  }
 },
 "nbformat": 4,
 "nbformat_minor": 2
}
