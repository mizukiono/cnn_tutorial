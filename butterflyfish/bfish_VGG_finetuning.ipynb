{
 "cells": [
  {
   "cell_type": "code",
   "execution_count": 1,
   "metadata": {},
   "outputs": [
    {
     "name": "stderr",
     "output_type": "stream",
     "text": [
      "Using TensorFlow backend.\n"
     ]
    }
   ],
   "source": [
    "from keras.applications.vgg16 import VGG16\n",
    "from keras.preprocessing.image import ImageDataGenerator\n",
    "from keras.models import Sequential, Model\n",
    "from keras.layers import Input, Activation, Dropout, Flatten, Dense\n",
    "from keras.preprocessing.image import ImageDataGenerator\n",
    "from keras.optimizers import SGD\n",
    "from keras.callbacks import CSVLogger\n",
    "import numpy as np\n",
    "import tensorflow as tf\n",
    "import matplotlib.pyplot as plt"
   ]
  },
  {
   "cell_type": "code",
   "execution_count": 2,
   "metadata": {},
   "outputs": [],
   "source": [
    "# \"failed to create cublas handle\"\n",
    "# と出る場合はGPUメモリの不足っぽいので制限してやればよい\n",
    "\n",
    "# TensorFlowのGPUメモリ使用量の制限\n",
    "from keras.backend.tensorflow_backend import set_session\n",
    "config = tf.ConfigProto()\n",
    "config.gpu_options.per_process_gpu_memory_fraction = 0.5\n",
    "set_session(tf.Session(config=config))"
   ]
  },
  {
   "cell_type": "code",
   "execution_count": 3,
   "metadata": {},
   "outputs": [],
   "source": [
    "img_width = 150\n",
    "img_height = 150\n",
    "train_data_dir = \"../data/butterflyfish/train\"\n",
    "val_data_dir = \"../data/butterflyfish/validation/\"\n",
    "\n",
    "train_samples = 200\n",
    "val_samples = 60\n",
    "epochs = 100"
   ]
  },
  {
   "cell_type": "code",
   "execution_count": 4,
   "metadata": {},
   "outputs": [],
   "source": [
    "input_tensor = Input(shape=(150, 150, 3))\n",
    "vgg16_model = VGG16(include_top=False, weights='imagenet', input_tensor=input_tensor)"
   ]
  },
  {
   "cell_type": "code",
   "execution_count": 5,
   "metadata": {
    "scrolled": true
   },
   "outputs": [],
   "source": [
    "# vgg16_model.summary()"
   ]
  },
  {
   "cell_type": "code",
   "execution_count": 6,
   "metadata": {},
   "outputs": [],
   "source": [
    "# VGGの下につなぐFC層を構築\n",
    "top_model = Sequential()\n",
    "top_model.add(Flatten(input_shape=vgg16_model.output_shape[1:]))\n",
    "# Flattenへの入力指定はbatch数を除いておく\n",
    "top_model.add(Dense(256, activation='relu'))\n",
    "top_model.add(Dropout(0.5))\n",
    "top_model.add(Dense(1, activation='sigmoid'))"
   ]
  },
  {
   "cell_type": "code",
   "execution_count": 7,
   "metadata": {},
   "outputs": [
    {
     "name": "stdout",
     "output_type": "stream",
     "text": [
      "_________________________________________________________________\n",
      "Layer (type)                 Output Shape              Param #   \n",
      "=================================================================\n",
      "flatten_1 (Flatten)          (None, 8192)              0         \n",
      "_________________________________________________________________\n",
      "dense_1 (Dense)              (None, 256)               2097408   \n",
      "_________________________________________________________________\n",
      "dropout_1 (Dropout)          (None, 256)               0         \n",
      "_________________________________________________________________\n",
      "dense_2 (Dense)              (None, 1)                 257       \n",
      "=================================================================\n",
      "Total params: 2,097,665\n",
      "Trainable params: 2,097,665\n",
      "Non-trainable params: 0\n",
      "_________________________________________________________________\n"
     ]
    }
   ],
   "source": [
    "top_model.summary()"
   ]
  },
  {
   "cell_type": "code",
   "execution_count": 8,
   "metadata": {},
   "outputs": [],
   "source": [
    "model = Model(inputs=vgg16_model.input, outputs=top_model(vgg16_model.output))"
   ]
  },
  {
   "cell_type": "code",
   "execution_count": 9,
   "metadata": {
    "scrolled": true
   },
   "outputs": [
    {
     "name": "stdout",
     "output_type": "stream",
     "text": [
      "_________________________________________________________________\n",
      "Layer (type)                 Output Shape              Param #   \n",
      "=================================================================\n",
      "input_1 (InputLayer)         (None, 150, 150, 3)       0         \n",
      "_________________________________________________________________\n",
      "block1_conv1 (Conv2D)        (None, 150, 150, 64)      1792      \n",
      "_________________________________________________________________\n",
      "block1_conv2 (Conv2D)        (None, 150, 150, 64)      36928     \n",
      "_________________________________________________________________\n",
      "block1_pool (MaxPooling2D)   (None, 75, 75, 64)        0         \n",
      "_________________________________________________________________\n",
      "block2_conv1 (Conv2D)        (None, 75, 75, 128)       73856     \n",
      "_________________________________________________________________\n",
      "block2_conv2 (Conv2D)        (None, 75, 75, 128)       147584    \n",
      "_________________________________________________________________\n",
      "block2_pool (MaxPooling2D)   (None, 37, 37, 128)       0         \n",
      "_________________________________________________________________\n",
      "block3_conv1 (Conv2D)        (None, 37, 37, 256)       295168    \n",
      "_________________________________________________________________\n",
      "block3_conv2 (Conv2D)        (None, 37, 37, 256)       590080    \n",
      "_________________________________________________________________\n",
      "block3_conv3 (Conv2D)        (None, 37, 37, 256)       590080    \n",
      "_________________________________________________________________\n",
      "block3_pool (MaxPooling2D)   (None, 18, 18, 256)       0         \n",
      "_________________________________________________________________\n",
      "block4_conv1 (Conv2D)        (None, 18, 18, 512)       1180160   \n",
      "_________________________________________________________________\n",
      "block4_conv2 (Conv2D)        (None, 18, 18, 512)       2359808   \n",
      "_________________________________________________________________\n",
      "block4_conv3 (Conv2D)        (None, 18, 18, 512)       2359808   \n",
      "_________________________________________________________________\n",
      "block4_pool (MaxPooling2D)   (None, 9, 9, 512)         0         \n",
      "_________________________________________________________________\n",
      "block5_conv1 (Conv2D)        (None, 9, 9, 512)         2359808   \n",
      "_________________________________________________________________\n",
      "block5_conv2 (Conv2D)        (None, 9, 9, 512)         2359808   \n",
      "_________________________________________________________________\n",
      "block5_conv3 (Conv2D)        (None, 9, 9, 512)         2359808   \n",
      "_________________________________________________________________\n",
      "block5_pool (MaxPooling2D)   (None, 4, 4, 512)         0         \n",
      "_________________________________________________________________\n",
      "sequential_1 (Sequential)    (None, 1)                 2097665   \n",
      "=================================================================\n",
      "Total params: 16,812,353\n",
      "Trainable params: 16,812,353\n",
      "Non-trainable params: 0\n",
      "_________________________________________________________________\n"
     ]
    }
   ],
   "source": [
    "model.summary()"
   ]
  },
  {
   "cell_type": "code",
   "execution_count": 10,
   "metadata": {},
   "outputs": [],
   "source": [
    "for layer in model.layers[:15]:\n",
    "    layer.trainable = False"
   ]
  },
  {
   "cell_type": "code",
   "execution_count": 11,
   "metadata": {
    "scrolled": true
   },
   "outputs": [
    {
     "name": "stdout",
     "output_type": "stream",
     "text": [
      "_________________________________________________________________\n",
      "Layer (type)                 Output Shape              Param #   \n",
      "=================================================================\n",
      "input_1 (InputLayer)         (None, 150, 150, 3)       0         \n",
      "_________________________________________________________________\n",
      "block1_conv1 (Conv2D)        (None, 150, 150, 64)      1792      \n",
      "_________________________________________________________________\n",
      "block1_conv2 (Conv2D)        (None, 150, 150, 64)      36928     \n",
      "_________________________________________________________________\n",
      "block1_pool (MaxPooling2D)   (None, 75, 75, 64)        0         \n",
      "_________________________________________________________________\n",
      "block2_conv1 (Conv2D)        (None, 75, 75, 128)       73856     \n",
      "_________________________________________________________________\n",
      "block2_conv2 (Conv2D)        (None, 75, 75, 128)       147584    \n",
      "_________________________________________________________________\n",
      "block2_pool (MaxPooling2D)   (None, 37, 37, 128)       0         \n",
      "_________________________________________________________________\n",
      "block3_conv1 (Conv2D)        (None, 37, 37, 256)       295168    \n",
      "_________________________________________________________________\n",
      "block3_conv2 (Conv2D)        (None, 37, 37, 256)       590080    \n",
      "_________________________________________________________________\n",
      "block3_conv3 (Conv2D)        (None, 37, 37, 256)       590080    \n",
      "_________________________________________________________________\n",
      "block3_pool (MaxPooling2D)   (None, 18, 18, 256)       0         \n",
      "_________________________________________________________________\n",
      "block4_conv1 (Conv2D)        (None, 18, 18, 512)       1180160   \n",
      "_________________________________________________________________\n",
      "block4_conv2 (Conv2D)        (None, 18, 18, 512)       2359808   \n",
      "_________________________________________________________________\n",
      "block4_conv3 (Conv2D)        (None, 18, 18, 512)       2359808   \n",
      "_________________________________________________________________\n",
      "block4_pool (MaxPooling2D)   (None, 9, 9, 512)         0         \n",
      "_________________________________________________________________\n",
      "block5_conv1 (Conv2D)        (None, 9, 9, 512)         2359808   \n",
      "_________________________________________________________________\n",
      "block5_conv2 (Conv2D)        (None, 9, 9, 512)         2359808   \n",
      "_________________________________________________________________\n",
      "block5_conv3 (Conv2D)        (None, 9, 9, 512)         2359808   \n",
      "_________________________________________________________________\n",
      "block5_pool (MaxPooling2D)   (None, 4, 4, 512)         0         \n",
      "_________________________________________________________________\n",
      "sequential_1 (Sequential)    (None, 1)                 2097665   \n",
      "=================================================================\n",
      "Total params: 16,812,353\n",
      "Trainable params: 9,177,089\n",
      "Non-trainable params: 7,635,264\n",
      "_________________________________________________________________\n"
     ]
    }
   ],
   "source": [
    "model.summary()"
   ]
  },
  {
   "cell_type": "code",
   "execution_count": 12,
   "metadata": {},
   "outputs": [],
   "source": [
    "model.compile(loss='binary_crossentropy', optimizer=SGD(lr=0.0001, momentum=0.9), metrics=['accuracy'])"
   ]
  },
  {
   "cell_type": "code",
   "execution_count": 13,
   "metadata": {},
   "outputs": [],
   "source": [
    "# データをつくる\n",
    "train_datagen = ImageDataGenerator(rescale=1.0/255, rotation_range=90, width_shift_range=0.2, height_shift_range=0.2,\n",
    "                                  horizontal_flip=True)\n",
    "test_datagen = ImageDataGenerator(rescale=1.0/255)"
   ]
  },
  {
   "cell_type": "code",
   "execution_count": 14,
   "metadata": {},
   "outputs": [
    {
     "name": "stdout",
     "output_type": "stream",
     "text": [
      "Found 200 images belonging to 2 classes.\n",
      "Found 60 images belonging to 2 classes.\n"
     ]
    }
   ],
   "source": [
    "train_generator = train_datagen.flow_from_directory(train_data_dir, target_size=(150,150),\n",
    "                                                    batch_size=32, class_mode='binary')\n",
    "validation_generator = test_datagen.flow_from_directory(val_data_dir, target_size=(150,150),\n",
    "                                                    batch_size=32, class_mode='binary')"
   ]
  },
  {
   "cell_type": "code",
   "execution_count": 15,
   "metadata": {},
   "outputs": [
    {
     "name": "stdout",
     "output_type": "stream",
     "text": [
      "{'oriental': 0, 'threadfin': 1}\n"
     ]
    }
   ],
   "source": [
    "print(train_generator.class_indices)"
   ]
  },
  {
   "cell_type": "code",
   "execution_count": null,
   "metadata": {
    "scrolled": true
   },
   "outputs": [
    {
     "name": "stdout",
     "output_type": "stream",
     "text": [
      "Epoch 1/100\n",
      "7/7 [==============================] - 3s 450ms/step - loss: 0.8278 - acc: 0.4422 - val_loss: 0.6942 - val_acc: 0.5333\n",
      "Epoch 2/100\n",
      "7/7 [==============================] - 1s 102ms/step - loss: 0.8055 - acc: 0.4339 - val_loss: 0.6813 - val_acc: 0.5500\n",
      "Epoch 3/100\n",
      "7/7 [==============================] - 1s 131ms/step - loss: 0.7466 - acc: 0.5272 - val_loss: 0.6691 - val_acc: 0.5833\n",
      "Epoch 4/100\n",
      "7/7 [==============================] - 1s 128ms/step - loss: 0.7207 - acc: 0.5869 - val_loss: 0.6567 - val_acc: 0.6500\n",
      "Epoch 5/100\n",
      "7/7 [==============================] - 1s 129ms/step - loss: 0.6837 - acc: 0.5589 - val_loss: 0.6476 - val_acc: 0.6500\n",
      "Epoch 6/100\n",
      "7/7 [==============================] - 1s 143ms/step - loss: 0.6916 - acc: 0.5291 - val_loss: 0.6379 - val_acc: 0.6667\n",
      "Epoch 7/100\n",
      "7/7 [==============================] - 1s 143ms/step - loss: 0.6449 - acc: 0.6106 - val_loss: 0.6289 - val_acc: 0.6833\n",
      "Epoch 8/100\n",
      "7/7 [==============================] - 1s 143ms/step - loss: 0.6600 - acc: 0.5952 - val_loss: 0.6206 - val_acc: 0.7000\n",
      "Epoch 9/100\n",
      "7/7 [==============================] - 1s 130ms/step - loss: 0.6224 - acc: 0.5869 - val_loss: 0.6100 - val_acc: 0.7167\n",
      "Epoch 10/100\n",
      "7/7 [==============================] - 1s 129ms/step - loss: 0.6173 - acc: 0.6458 - val_loss: 0.6068 - val_acc: 0.6333\n",
      "Epoch 11/100\n",
      "7/7 [==============================] - 1s 129ms/step - loss: 0.6118 - acc: 0.6703 - val_loss: 0.5899 - val_acc: 0.7333\n",
      "Epoch 12/100\n",
      "7/7 [==============================] - 1s 128ms/step - loss: 0.6201 - acc: 0.6703 - val_loss: 0.5813 - val_acc: 0.7333\n",
      "Epoch 13/100\n",
      "7/7 [==============================] - 1s 130ms/step - loss: 0.6144 - acc: 0.6756 - val_loss: 0.5721 - val_acc: 0.7667\n",
      "Epoch 14/100\n",
      "7/7 [==============================] - 1s 134ms/step - loss: 0.5632 - acc: 0.7409 - val_loss: 0.5689 - val_acc: 0.7000\n",
      "Epoch 15/100\n",
      "7/7 [==============================] - 1s 139ms/step - loss: 0.5576 - acc: 0.7084 - val_loss: 0.5587 - val_acc: 0.7167\n",
      "Epoch 16/100\n",
      "7/7 [==============================] - 1s 132ms/step - loss: 0.5782 - acc: 0.6956 - val_loss: 0.5459 - val_acc: 0.7333\n",
      "Epoch 17/100\n",
      "7/7 [==============================] - 1s 141ms/step - loss: 0.5463 - acc: 0.7345 - val_loss: 0.5485 - val_acc: 0.7167\n",
      "Epoch 18/100\n",
      "7/7 [==============================] - 1s 130ms/step - loss: 0.5864 - acc: 0.6658 - val_loss: 0.5266 - val_acc: 0.7333\n",
      "Epoch 19/100\n",
      "7/7 [==============================] - 1s 128ms/step - loss: 0.5214 - acc: 0.7428 - val_loss: 0.5225 - val_acc: 0.7167\n",
      "Epoch 20/100\n",
      "7/7 [==============================] - 1s 130ms/step - loss: 0.4693 - acc: 0.7916 - val_loss: 0.5036 - val_acc: 0.7333\n",
      "Epoch 21/100\n",
      "7/7 [==============================] - 1s 128ms/step - loss: 0.5330 - acc: 0.7202 - val_loss: 0.4962 - val_acc: 0.7500\n",
      "Epoch 22/100\n",
      "7/7 [==============================] - 1s 130ms/step - loss: 0.5167 - acc: 0.7364 - val_loss: 0.4988 - val_acc: 0.7333\n",
      "Epoch 23/100\n",
      "7/7 [==============================] - 1s 129ms/step - loss: 0.4577 - acc: 0.7953 - val_loss: 0.4888 - val_acc: 0.7333\n",
      "Epoch 24/100\n",
      "7/7 [==============================] - 1s 149ms/step - loss: 0.4728 - acc: 0.7934 - val_loss: 0.4714 - val_acc: 0.7500\n",
      "Epoch 25/100\n",
      "7/7 [==============================] - 1s 141ms/step - loss: 0.4340 - acc: 0.8180 - val_loss: 0.4730 - val_acc: 0.7333\n",
      "Epoch 26/100\n",
      "7/7 [==============================] - 1s 144ms/step - loss: 0.4322 - acc: 0.8387 - val_loss: 0.4710 - val_acc: 0.7500\n",
      "Epoch 27/100\n",
      "7/7 [==============================] - 1s 146ms/step - loss: 0.3871 - acc: 0.8406 - val_loss: 0.4611 - val_acc: 0.7500\n",
      "Epoch 28/100\n",
      "2/7 [=======>......................] - ETA: 0s - loss: 0.4297 - acc: 0.8125"
     ]
    }
   ],
   "source": [
    "history = model.fit_generator(train_generator, epochs=epochs, verbose=1, validation_data=validation_generator)"
   ]
  },
  {
   "cell_type": "code",
   "execution_count": null,
   "metadata": {},
   "outputs": [],
   "source": [
    "plt.plot(range(1, epochs+1), history.history['acc'], label=\"training\")\n",
    "plt.plot(range(1, epochs+1), history.history['val_acc'], label=\"validation\")\n",
    "plt.xlabel('Epochs')\n",
    "plt.ylabel('Accuracy')\n",
    "plt.legend()\n",
    "plt.show()"
   ]
  },
  {
   "cell_type": "code",
   "execution_count": null,
   "metadata": {},
   "outputs": [],
   "source": []
  }
 ],
 "metadata": {
  "kernelspec": {
   "display_name": "Python 3",
   "language": "python",
   "name": "python3"
  },
  "language_info": {
   "codemirror_mode": {
    "name": "ipython",
    "version": 3
   },
   "file_extension": ".py",
   "mimetype": "text/x-python",
   "name": "python",
   "nbconvert_exporter": "python",
   "pygments_lexer": "ipython3",
   "version": "3.6.5"
  }
 },
 "nbformat": 4,
 "nbformat_minor": 2
}
