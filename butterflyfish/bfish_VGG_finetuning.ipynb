{
 "cells": [
  {
   "cell_type": "code",
   "execution_count": 1,
   "metadata": {},
   "outputs": [
    {
     "name": "stderr",
     "output_type": "stream",
     "text": [
      "Using TensorFlow backend.\n"
     ]
    }
   ],
   "source": [
    "from keras.applications.vgg16 import VGG16\n",
    "from keras.preprocessing.image import ImageDataGenerator\n",
    "from keras.models import Sequential, Model\n",
    "from keras.layers import Input, Activation, Dropout, Flatten, Dense\n",
    "from keras.preprocessing.image import ImageDataGenerator\n",
    "from keras.optimizers import SGD\n",
    "from keras.callbacks import CSVLogger\n",
    "import numpy as np\n",
    "import tensorflow as tf\n",
    "import matplotlib.pyplot as plt"
   ]
  },
  {
   "cell_type": "code",
   "execution_count": 2,
   "metadata": {},
   "outputs": [],
   "source": [
    "# \"failed to create cublas handle\"\n",
    "# と出る場合はGPUメモリの不足っぽいので制限してやればよい\n",
    "\n",
    "# TensorFlowのGPUメモリ使用量の制限\n",
    "from keras.backend.tensorflow_backend import set_session\n",
    "config = tf.ConfigProto()\n",
    "config.gpu_options.per_process_gpu_memory_fraction = 0.8\n",
    "set_session(tf.Session(config=config))"
   ]
  },
  {
   "cell_type": "code",
   "execution_count": 3,
   "metadata": {},
   "outputs": [],
   "source": [
    "img_width = 150\n",
    "img_height = 150\n",
    "train_data_dir = \"../data/butterflyfish/train\"\n",
    "val_data_dir = \"../data/butterflyfish/validation/\"\n",
    "\n",
    "train_samples = 200\n",
    "val_samples = 60\n",
    "epochs = 100"
   ]
  },
  {
   "cell_type": "code",
   "execution_count": 4,
   "metadata": {},
   "outputs": [],
   "source": [
    "input_tensor = Input(shape=(150, 150, 3))\n",
    "vgg16_model = VGG16(include_top=False, weights='imagenet', input_tensor=input_tensor)"
   ]
  },
  {
   "cell_type": "code",
   "execution_count": 5,
   "metadata": {
    "scrolled": true
   },
   "outputs": [],
   "source": [
    "# vgg16_model.summary()"
   ]
  },
  {
   "cell_type": "code",
   "execution_count": 6,
   "metadata": {},
   "outputs": [],
   "source": [
    "# VGGの下につなぐFC層を構築\n",
    "top_model = Sequential()\n",
    "top_model.add(Flatten(input_shape=vgg16_model.output_shape[1:]))\n",
    "# Flattenへの入力指定はbatch数を除いておく\n",
    "top_model.add(Dense(256, activation='relu'))\n",
    "top_model.add(Dropout(0.5))\n",
    "top_model.add(Dense(1, activation='sigmoid'))"
   ]
  },
  {
   "cell_type": "code",
   "execution_count": 7,
   "metadata": {},
   "outputs": [
    {
     "name": "stdout",
     "output_type": "stream",
     "text": [
      "_________________________________________________________________\n",
      "Layer (type)                 Output Shape              Param #   \n",
      "=================================================================\n",
      "flatten_1 (Flatten)          (None, 8192)              0         \n",
      "_________________________________________________________________\n",
      "dense_1 (Dense)              (None, 256)               2097408   \n",
      "_________________________________________________________________\n",
      "dropout_1 (Dropout)          (None, 256)               0         \n",
      "_________________________________________________________________\n",
      "dense_2 (Dense)              (None, 1)                 257       \n",
      "=================================================================\n",
      "Total params: 2,097,665\n",
      "Trainable params: 2,097,665\n",
      "Non-trainable params: 0\n",
      "_________________________________________________________________\n"
     ]
    }
   ],
   "source": [
    "top_model.summary()"
   ]
  },
  {
   "cell_type": "code",
   "execution_count": 8,
   "metadata": {},
   "outputs": [],
   "source": [
    "model = Model(inputs=vgg16_model.input, outputs=top_model(vgg16_model.output))"
   ]
  },
  {
   "cell_type": "code",
   "execution_count": 9,
   "metadata": {
    "scrolled": true
   },
   "outputs": [
    {
     "name": "stdout",
     "output_type": "stream",
     "text": [
      "_________________________________________________________________\n",
      "Layer (type)                 Output Shape              Param #   \n",
      "=================================================================\n",
      "input_1 (InputLayer)         (None, 150, 150, 3)       0         \n",
      "_________________________________________________________________\n",
      "block1_conv1 (Conv2D)        (None, 150, 150, 64)      1792      \n",
      "_________________________________________________________________\n",
      "block1_conv2 (Conv2D)        (None, 150, 150, 64)      36928     \n",
      "_________________________________________________________________\n",
      "block1_pool (MaxPooling2D)   (None, 75, 75, 64)        0         \n",
      "_________________________________________________________________\n",
      "block2_conv1 (Conv2D)        (None, 75, 75, 128)       73856     \n",
      "_________________________________________________________________\n",
      "block2_conv2 (Conv2D)        (None, 75, 75, 128)       147584    \n",
      "_________________________________________________________________\n",
      "block2_pool (MaxPooling2D)   (None, 37, 37, 128)       0         \n",
      "_________________________________________________________________\n",
      "block3_conv1 (Conv2D)        (None, 37, 37, 256)       295168    \n",
      "_________________________________________________________________\n",
      "block3_conv2 (Conv2D)        (None, 37, 37, 256)       590080    \n",
      "_________________________________________________________________\n",
      "block3_conv3 (Conv2D)        (None, 37, 37, 256)       590080    \n",
      "_________________________________________________________________\n",
      "block3_pool (MaxPooling2D)   (None, 18, 18, 256)       0         \n",
      "_________________________________________________________________\n",
      "block4_conv1 (Conv2D)        (None, 18, 18, 512)       1180160   \n",
      "_________________________________________________________________\n",
      "block4_conv2 (Conv2D)        (None, 18, 18, 512)       2359808   \n",
      "_________________________________________________________________\n",
      "block4_conv3 (Conv2D)        (None, 18, 18, 512)       2359808   \n",
      "_________________________________________________________________\n",
      "block4_pool (MaxPooling2D)   (None, 9, 9, 512)         0         \n",
      "_________________________________________________________________\n",
      "block5_conv1 (Conv2D)        (None, 9, 9, 512)         2359808   \n",
      "_________________________________________________________________\n",
      "block5_conv2 (Conv2D)        (None, 9, 9, 512)         2359808   \n",
      "_________________________________________________________________\n",
      "block5_conv3 (Conv2D)        (None, 9, 9, 512)         2359808   \n",
      "_________________________________________________________________\n",
      "block5_pool (MaxPooling2D)   (None, 4, 4, 512)         0         \n",
      "_________________________________________________________________\n",
      "sequential_1 (Sequential)    (None, 1)                 2097665   \n",
      "=================================================================\n",
      "Total params: 16,812,353\n",
      "Trainable params: 16,812,353\n",
      "Non-trainable params: 0\n",
      "_________________________________________________________________\n"
     ]
    }
   ],
   "source": [
    "model.summary()"
   ]
  },
  {
   "cell_type": "code",
   "execution_count": 10,
   "metadata": {},
   "outputs": [],
   "source": [
    "for layer in model.layers[:15]:\n",
    "    layer.trainable = False"
   ]
  },
  {
   "cell_type": "code",
   "execution_count": 11,
   "metadata": {
    "scrolled": true
   },
   "outputs": [
    {
     "name": "stdout",
     "output_type": "stream",
     "text": [
      "_________________________________________________________________\n",
      "Layer (type)                 Output Shape              Param #   \n",
      "=================================================================\n",
      "input_1 (InputLayer)         (None, 150, 150, 3)       0         \n",
      "_________________________________________________________________\n",
      "block1_conv1 (Conv2D)        (None, 150, 150, 64)      1792      \n",
      "_________________________________________________________________\n",
      "block1_conv2 (Conv2D)        (None, 150, 150, 64)      36928     \n",
      "_________________________________________________________________\n",
      "block1_pool (MaxPooling2D)   (None, 75, 75, 64)        0         \n",
      "_________________________________________________________________\n",
      "block2_conv1 (Conv2D)        (None, 75, 75, 128)       73856     \n",
      "_________________________________________________________________\n",
      "block2_conv2 (Conv2D)        (None, 75, 75, 128)       147584    \n",
      "_________________________________________________________________\n",
      "block2_pool (MaxPooling2D)   (None, 37, 37, 128)       0         \n",
      "_________________________________________________________________\n",
      "block3_conv1 (Conv2D)        (None, 37, 37, 256)       295168    \n",
      "_________________________________________________________________\n",
      "block3_conv2 (Conv2D)        (None, 37, 37, 256)       590080    \n",
      "_________________________________________________________________\n",
      "block3_conv3 (Conv2D)        (None, 37, 37, 256)       590080    \n",
      "_________________________________________________________________\n",
      "block3_pool (MaxPooling2D)   (None, 18, 18, 256)       0         \n",
      "_________________________________________________________________\n",
      "block4_conv1 (Conv2D)        (None, 18, 18, 512)       1180160   \n",
      "_________________________________________________________________\n",
      "block4_conv2 (Conv2D)        (None, 18, 18, 512)       2359808   \n",
      "_________________________________________________________________\n",
      "block4_conv3 (Conv2D)        (None, 18, 18, 512)       2359808   \n",
      "_________________________________________________________________\n",
      "block4_pool (MaxPooling2D)   (None, 9, 9, 512)         0         \n",
      "_________________________________________________________________\n",
      "block5_conv1 (Conv2D)        (None, 9, 9, 512)         2359808   \n",
      "_________________________________________________________________\n",
      "block5_conv2 (Conv2D)        (None, 9, 9, 512)         2359808   \n",
      "_________________________________________________________________\n",
      "block5_conv3 (Conv2D)        (None, 9, 9, 512)         2359808   \n",
      "_________________________________________________________________\n",
      "block5_pool (MaxPooling2D)   (None, 4, 4, 512)         0         \n",
      "_________________________________________________________________\n",
      "sequential_1 (Sequential)    (None, 1)                 2097665   \n",
      "=================================================================\n",
      "Total params: 16,812,353\n",
      "Trainable params: 9,177,089\n",
      "Non-trainable params: 7,635,264\n",
      "_________________________________________________________________\n"
     ]
    }
   ],
   "source": [
    "model.summary()"
   ]
  },
  {
   "cell_type": "code",
   "execution_count": 12,
   "metadata": {},
   "outputs": [],
   "source": [
    "model.compile(loss='binary_crossentropy', optimizer=SGD(lr=0.0001, momentum=0.9), metrics=['accuracy'])"
   ]
  },
  {
   "cell_type": "code",
   "execution_count": 13,
   "metadata": {},
   "outputs": [],
   "source": [
    "# データをつくる\n",
    "train_datagen = ImageDataGenerator(rescale=1.0/255, rotation_range=90, width_shift_range=0.2, height_shift_range=0.2,\n",
    "                                  horizontal_flip=True)\n",
    "test_datagen = ImageDataGenerator(rescale=1.0/255)"
   ]
  },
  {
   "cell_type": "code",
   "execution_count": 14,
   "metadata": {},
   "outputs": [
    {
     "name": "stdout",
     "output_type": "stream",
     "text": [
      "Found 200 images belonging to 2 classes.\n",
      "Found 60 images belonging to 2 classes.\n"
     ]
    }
   ],
   "source": [
    "train_generator = train_datagen.flow_from_directory(train_data_dir, target_size=(150,150),\n",
    "                                                    batch_size=32, class_mode='binary')\n",
    "validation_generator = test_datagen.flow_from_directory(val_data_dir, target_size=(150,150),\n",
    "                                                    batch_size=32, class_mode='binary')"
   ]
  },
  {
   "cell_type": "code",
   "execution_count": 15,
   "metadata": {},
   "outputs": [
    {
     "name": "stdout",
     "output_type": "stream",
     "text": [
      "{'oriental': 0, 'threadfin': 1}\n"
     ]
    }
   ],
   "source": [
    "print(train_generator.class_indices)"
   ]
  },
  {
   "cell_type": "code",
   "execution_count": 16,
   "metadata": {
    "scrolled": true
   },
   "outputs": [
    {
     "name": "stdout",
     "output_type": "stream",
     "text": [
      "Epoch 1/100\n",
      "7/7 [==============================] - 5s 776ms/step - loss: 0.7746 - acc: 0.5136 - val_loss: 0.7252 - val_acc: 0.4667\n",
      "Epoch 2/100\n",
      "7/7 [==============================] - 1s 103ms/step - loss: 0.9128 - acc: 0.3833 - val_loss: 0.7129 - val_acc: 0.4833\n",
      "Epoch 3/100\n",
      "7/7 [==============================] - 1s 134ms/step - loss: 0.7385 - acc: 0.5208 - val_loss: 0.6960 - val_acc: 0.5500\n",
      "Epoch 4/100\n",
      "7/7 [==============================] - 1s 143ms/step - loss: 0.7379 - acc: 0.5155 - val_loss: 0.6829 - val_acc: 0.5167\n",
      "Epoch 5/100\n",
      "7/7 [==============================] - 1s 129ms/step - loss: 0.7615 - acc: 0.5181 - val_loss: 0.6751 - val_acc: 0.5500\n",
      "Epoch 6/100\n",
      "7/7 [==============================] - 1s 143ms/step - loss: 0.7365 - acc: 0.5291 - val_loss: 0.6619 - val_acc: 0.5833\n",
      "Epoch 7/100\n",
      "7/7 [==============================] - 1s 130ms/step - loss: 0.6718 - acc: 0.5906 - val_loss: 0.6482 - val_acc: 0.6833\n",
      "Epoch 8/100\n",
      "7/7 [==============================] - 1s 130ms/step - loss: 0.6310 - acc: 0.6892 - val_loss: 0.6495 - val_acc: 0.5333\n",
      "Epoch 9/100\n",
      "7/7 [==============================] - 1s 129ms/step - loss: 0.6850 - acc: 0.5906 - val_loss: 0.6305 - val_acc: 0.5833\n",
      "Epoch 10/100\n",
      "7/7 [==============================] - 1s 129ms/step - loss: 0.6556 - acc: 0.6114 - val_loss: 0.6187 - val_acc: 0.6833\n",
      "Epoch 11/100\n",
      "7/7 [==============================] - 1s 129ms/step - loss: 0.5916 - acc: 0.6522 - val_loss: 0.6061 - val_acc: 0.7500\n",
      "Epoch 12/100\n",
      "7/7 [==============================] - 1s 129ms/step - loss: 0.6430 - acc: 0.6223 - val_loss: 0.5961 - val_acc: 0.7333\n",
      "Epoch 13/100\n",
      "7/7 [==============================] - 1s 132ms/step - loss: 0.5907 - acc: 0.7073 - val_loss: 0.5917 - val_acc: 0.6167\n",
      "Epoch 14/100\n",
      "7/7 [==============================] - 1s 145ms/step - loss: 0.5666 - acc: 0.7236 - val_loss: 0.5782 - val_acc: 0.6167\n",
      "Epoch 15/100\n",
      "7/7 [==============================] - 1s 141ms/step - loss: 0.5992 - acc: 0.7066 - val_loss: 0.5650 - val_acc: 0.6500\n",
      "Epoch 16/100\n",
      "7/7 [==============================] - 1s 127ms/step - loss: 0.5845 - acc: 0.6677 - val_loss: 0.5508 - val_acc: 0.7000\n",
      "Epoch 17/100\n",
      "7/7 [==============================] - 1s 131ms/step - loss: 0.5384 - acc: 0.7391 - val_loss: 0.5451 - val_acc: 0.6500\n",
      "Epoch 18/100\n",
      "7/7 [==============================] - 1s 130ms/step - loss: 0.5268 - acc: 0.7609 - val_loss: 0.5388 - val_acc: 0.6667\n",
      "Epoch 19/100\n",
      "7/7 [==============================] - 1s 129ms/step - loss: 0.5439 - acc: 0.7047 - val_loss: 0.5165 - val_acc: 0.7500\n",
      "Epoch 20/100\n",
      "7/7 [==============================] - 1s 140ms/step - loss: 0.5677 - acc: 0.7103 - val_loss: 0.5092 - val_acc: 0.7333\n",
      "Epoch 21/100\n",
      "7/7 [==============================] - 1s 132ms/step - loss: 0.5276 - acc: 0.7791 - val_loss: 0.5412 - val_acc: 0.7000\n",
      "Epoch 22/100\n",
      "7/7 [==============================] - 1s 127ms/step - loss: 0.4990 - acc: 0.7591 - val_loss: 0.4931 - val_acc: 0.7000\n",
      "Epoch 23/100\n",
      "7/7 [==============================] - 1s 129ms/step - loss: 0.4519 - acc: 0.8233 - val_loss: 0.4808 - val_acc: 0.7333\n",
      "Epoch 24/100\n",
      "7/7 [==============================] - 1s 131ms/step - loss: 0.4613 - acc: 0.8161 - val_loss: 0.4896 - val_acc: 0.6833\n",
      "Epoch 25/100\n",
      "7/7 [==============================] - 1s 130ms/step - loss: 0.4533 - acc: 0.8233 - val_loss: 0.4813 - val_acc: 0.6833\n",
      "Epoch 26/100\n",
      "7/7 [==============================] - 1s 139ms/step - loss: 0.4825 - acc: 0.7609 - val_loss: 0.4545 - val_acc: 0.7000\n",
      "Epoch 27/100\n",
      "7/7 [==============================] - 1s 130ms/step - loss: 0.4095 - acc: 0.8270 - val_loss: 0.4471 - val_acc: 0.6833\n",
      "Epoch 28/100\n",
      "7/7 [==============================] - 1s 129ms/step - loss: 0.4083 - acc: 0.8523 - val_loss: 0.4394 - val_acc: 0.6833\n",
      "Epoch 29/100\n",
      "7/7 [==============================] - 1s 129ms/step - loss: 0.3929 - acc: 0.8180 - val_loss: 0.4327 - val_acc: 0.6833\n",
      "Epoch 30/100\n",
      "7/7 [==============================] - 1s 129ms/step - loss: 0.4289 - acc: 0.8153 - val_loss: 0.4394 - val_acc: 0.7333\n",
      "Epoch 31/100\n",
      "7/7 [==============================] - 1s 128ms/step - loss: 0.3518 - acc: 0.8478 - val_loss: 0.4385 - val_acc: 0.7333\n",
      "Epoch 32/100\n",
      "7/7 [==============================] - 1s 143ms/step - loss: 0.3421 - acc: 0.8550 - val_loss: 0.4166 - val_acc: 0.7333\n",
      "Epoch 33/100\n",
      "7/7 [==============================] - 1s 143ms/step - loss: 0.3546 - acc: 0.8433 - val_loss: 0.3976 - val_acc: 0.7333\n",
      "Epoch 34/100\n",
      "7/7 [==============================] - 1s 129ms/step - loss: 0.3362 - acc: 0.8497 - val_loss: 0.3960 - val_acc: 0.7167\n",
      "Epoch 35/100\n",
      "7/7 [==============================] - 1s 130ms/step - loss: 0.2884 - acc: 0.8886 - val_loss: 0.3984 - val_acc: 0.7667\n",
      "Epoch 36/100\n",
      "7/7 [==============================] - 1s 129ms/step - loss: 0.3506 - acc: 0.8478 - val_loss: 0.3948 - val_acc: 0.7667\n",
      "Epoch 37/100\n",
      "7/7 [==============================] - 1s 128ms/step - loss: 0.3298 - acc: 0.8614 - val_loss: 0.3911 - val_acc: 0.7667\n",
      "Epoch 38/100\n",
      "7/7 [==============================] - 1s 129ms/step - loss: 0.2841 - acc: 0.8867 - val_loss: 0.3829 - val_acc: 0.7667\n",
      "Epoch 39/100\n",
      "7/7 [==============================] - 1s 130ms/step - loss: 0.3227 - acc: 0.8705 - val_loss: 0.3681 - val_acc: 0.7833\n",
      "Epoch 40/100\n",
      "7/7 [==============================] - 1s 129ms/step - loss: 0.2791 - acc: 0.8822 - val_loss: 0.3747 - val_acc: 0.7667\n",
      "Epoch 41/100\n",
      "7/7 [==============================] - 1s 129ms/step - loss: 0.3090 - acc: 0.8905 - val_loss: 0.4048 - val_acc: 0.7667\n",
      "Epoch 42/100\n",
      "7/7 [==============================] - 1s 132ms/step - loss: 0.2955 - acc: 0.8705 - val_loss: 0.3735 - val_acc: 0.7833\n",
      "Epoch 43/100\n",
      "7/7 [==============================] - 1s 132ms/step - loss: 0.3204 - acc: 0.8977 - val_loss: 0.3494 - val_acc: 0.7833\n",
      "Epoch 44/100\n",
      "7/7 [==============================] - 1s 138ms/step - loss: 0.2650 - acc: 0.9184 - val_loss: 0.3658 - val_acc: 0.7833\n",
      "Epoch 45/100\n",
      "7/7 [==============================] - 1s 130ms/step - loss: 0.2744 - acc: 0.9048 - val_loss: 0.3567 - val_acc: 0.7833\n",
      "Epoch 46/100\n",
      "7/7 [==============================] - 1s 129ms/step - loss: 0.2718 - acc: 0.9003 - val_loss: 0.3371 - val_acc: 0.8333\n",
      "Epoch 47/100\n",
      "7/7 [==============================] - 1s 133ms/step - loss: 0.2734 - acc: 0.8905 - val_loss: 0.3470 - val_acc: 0.7833\n",
      "Epoch 48/100\n",
      "7/7 [==============================] - 1s 142ms/step - loss: 0.2786 - acc: 0.9041 - val_loss: 0.3499 - val_acc: 0.7833\n",
      "Epoch 49/100\n",
      "7/7 [==============================] - 1s 131ms/step - loss: 0.2329 - acc: 0.9158 - val_loss: 0.3434 - val_acc: 0.7833\n",
      "Epoch 50/100\n",
      "7/7 [==============================] - 1s 141ms/step - loss: 0.2631 - acc: 0.8859 - val_loss: 0.3159 - val_acc: 0.8333\n",
      "Epoch 51/100\n",
      "7/7 [==============================] - 1s 128ms/step - loss: 0.2443 - acc: 0.9230 - val_loss: 0.3345 - val_acc: 0.8000\n",
      "Epoch 52/100\n",
      "7/7 [==============================] - 1s 128ms/step - loss: 0.2170 - acc: 0.8977 - val_loss: 0.3659 - val_acc: 0.8000\n",
      "Epoch 53/100\n",
      "7/7 [==============================] - 1s 130ms/step - loss: 0.2713 - acc: 0.9022 - val_loss: 0.3175 - val_acc: 0.8333\n",
      "Epoch 54/100\n",
      "7/7 [==============================] - 1s 127ms/step - loss: 0.2312 - acc: 0.8814 - val_loss: 0.3120 - val_acc: 0.8333\n",
      "Epoch 55/100\n",
      "7/7 [==============================] - 1s 128ms/step - loss: 0.2193 - acc: 0.9230 - val_loss: 0.3367 - val_acc: 0.7833\n",
      "Epoch 56/100\n",
      "7/7 [==============================] - 1s 132ms/step - loss: 0.2286 - acc: 0.9022 - val_loss: 0.3091 - val_acc: 0.8333\n",
      "Epoch 57/100\n",
      "7/7 [==============================] - 1s 140ms/step - loss: 0.1928 - acc: 0.9248 - val_loss: 0.3226 - val_acc: 0.8167\n",
      "Epoch 58/100\n",
      "7/7 [==============================] - 1s 130ms/step - loss: 0.2591 - acc: 0.8905 - val_loss: 0.3527 - val_acc: 0.8000\n",
      "Epoch 59/100\n",
      "7/7 [==============================] - 1s 132ms/step - loss: 0.2395 - acc: 0.9158 - val_loss: 0.3183 - val_acc: 0.8333\n",
      "Epoch 60/100\n",
      "7/7 [==============================] - 1s 127ms/step - loss: 0.1971 - acc: 0.9366 - val_loss: 0.3105 - val_acc: 0.8333\n",
      "Epoch 61/100\n",
      "7/7 [==============================] - 1s 129ms/step - loss: 0.1754 - acc: 0.9275 - val_loss: 0.3209 - val_acc: 0.8333\n",
      "Epoch 62/100\n",
      "7/7 [==============================] - 1s 128ms/step - loss: 0.1849 - acc: 0.9456 - val_loss: 0.3156 - val_acc: 0.8333\n",
      "Epoch 63/100\n"
     ]
    },
    {
     "name": "stdout",
     "output_type": "stream",
     "text": [
      "7/7 [==============================] - 1s 129ms/step - loss: 0.1908 - acc: 0.9430 - val_loss: 0.2998 - val_acc: 0.8333\n",
      "Epoch 64/100\n",
      "7/7 [==============================] - 1s 129ms/step - loss: 0.2004 - acc: 0.9294 - val_loss: 0.3153 - val_acc: 0.8333\n",
      "Epoch 65/100\n",
      "7/7 [==============================] - 1s 129ms/step - loss: 0.1654 - acc: 0.9547 - val_loss: 0.3106 - val_acc: 0.8333\n",
      "Epoch 66/100\n",
      "7/7 [==============================] - 1s 130ms/step - loss: 0.1732 - acc: 0.9230 - val_loss: 0.2980 - val_acc: 0.8333\n",
      "Epoch 67/100\n",
      "7/7 [==============================] - 1s 129ms/step - loss: 0.1913 - acc: 0.9158 - val_loss: 0.3009 - val_acc: 0.8333\n",
      "Epoch 68/100\n",
      "7/7 [==============================] - 1s 129ms/step - loss: 0.1754 - acc: 0.9430 - val_loss: 0.3146 - val_acc: 0.8333\n",
      "Epoch 69/100\n",
      "7/7 [==============================] - 1s 129ms/step - loss: 0.1659 - acc: 0.9339 - val_loss: 0.3146 - val_acc: 0.8333\n",
      "Epoch 70/100\n",
      "7/7 [==============================] - 1s 129ms/step - loss: 0.1823 - acc: 0.9411 - val_loss: 0.3156 - val_acc: 0.8333\n",
      "Epoch 71/100\n",
      "7/7 [==============================] - 1s 129ms/step - loss: 0.2047 - acc: 0.9086 - val_loss: 0.3191 - val_acc: 0.8167\n",
      "Epoch 72/100\n",
      "7/7 [==============================] - 1s 143ms/step - loss: 0.1704 - acc: 0.9313 - val_loss: 0.3081 - val_acc: 0.8333\n",
      "Epoch 73/100\n",
      "7/7 [==============================] - 1s 129ms/step - loss: 0.1750 - acc: 0.9203 - val_loss: 0.3062 - val_acc: 0.8333\n",
      "Epoch 74/100\n",
      "7/7 [==============================] - 1s 129ms/step - loss: 0.1625 - acc: 0.9275 - val_loss: 0.3205 - val_acc: 0.8167\n",
      "Epoch 75/100\n",
      "7/7 [==============================] - 1s 130ms/step - loss: 0.1766 - acc: 0.9203 - val_loss: 0.2986 - val_acc: 0.8333\n",
      "Epoch 76/100\n",
      "7/7 [==============================] - 1s 129ms/step - loss: 0.1474 - acc: 0.9502 - val_loss: 0.2943 - val_acc: 0.8333\n",
      "Epoch 77/100\n",
      "7/7 [==============================] - 1s 129ms/step - loss: 0.1629 - acc: 0.9366 - val_loss: 0.3261 - val_acc: 0.8167\n",
      "Epoch 78/100\n",
      "7/7 [==============================] - 1s 130ms/step - loss: 0.1535 - acc: 0.9411 - val_loss: 0.3171 - val_acc: 0.8167\n",
      "Epoch 79/100\n",
      "7/7 [==============================] - 1s 128ms/step - loss: 0.1680 - acc: 0.9475 - val_loss: 0.3045 - val_acc: 0.8333\n",
      "Epoch 80/100\n",
      "7/7 [==============================] - 1s 128ms/step - loss: 0.1259 - acc: 0.9592 - val_loss: 0.3055 - val_acc: 0.8167\n",
      "Epoch 81/100\n",
      "7/7 [==============================] - 1s 132ms/step - loss: 0.1559 - acc: 0.9592 - val_loss: 0.3059 - val_acc: 0.8167\n",
      "Epoch 82/100\n",
      "7/7 [==============================] - 1s 126ms/step - loss: 0.1497 - acc: 0.9320 - val_loss: 0.3000 - val_acc: 0.8333\n",
      "Epoch 83/100\n",
      "7/7 [==============================] - 1s 130ms/step - loss: 0.1186 - acc: 0.9637 - val_loss: 0.2883 - val_acc: 0.8333\n",
      "Epoch 84/100\n",
      "7/7 [==============================] - 1s 129ms/step - loss: 0.1464 - acc: 0.9502 - val_loss: 0.2889 - val_acc: 0.8333\n",
      "Epoch 85/100\n",
      "7/7 [==============================] - 1s 142ms/step - loss: 0.1917 - acc: 0.9248 - val_loss: 0.3207 - val_acc: 0.8167\n",
      "Epoch 86/100\n",
      "7/7 [==============================] - 1s 143ms/step - loss: 0.1309 - acc: 0.9320 - val_loss: 0.3094 - val_acc: 0.8167\n",
      "Epoch 87/100\n",
      "7/7 [==============================] - 1s 130ms/step - loss: 0.1322 - acc: 0.9637 - val_loss: 0.2926 - val_acc: 0.8333\n",
      "Epoch 88/100\n",
      "7/7 [==============================] - 1s 130ms/step - loss: 0.1739 - acc: 0.9339 - val_loss: 0.2874 - val_acc: 0.8333\n",
      "Epoch 89/100\n",
      "7/7 [==============================] - 1s 128ms/step - loss: 0.1205 - acc: 0.9683 - val_loss: 0.3027 - val_acc: 0.8167\n",
      "Epoch 90/100\n",
      "7/7 [==============================] - 1s 129ms/step - loss: 0.1172 - acc: 0.9592 - val_loss: 0.3156 - val_acc: 0.8167\n",
      "Epoch 91/100\n",
      "7/7 [==============================] - 1s 128ms/step - loss: 0.1100 - acc: 0.9592 - val_loss: 0.3160 - val_acc: 0.8167\n",
      "Epoch 92/100\n",
      "7/7 [==============================] - 1s 129ms/step - loss: 0.1366 - acc: 0.9384 - val_loss: 0.3083 - val_acc: 0.8167\n",
      "Epoch 93/100\n",
      "7/7 [==============================] - 1s 129ms/step - loss: 0.1146 - acc: 0.9683 - val_loss: 0.3103 - val_acc: 0.8167\n",
      "Epoch 94/100\n",
      "7/7 [==============================] - 1s 129ms/step - loss: 0.1393 - acc: 0.9520 - val_loss: 0.3131 - val_acc: 0.8167\n",
      "Epoch 95/100\n",
      "7/7 [==============================] - 1s 129ms/step - loss: 0.1176 - acc: 0.9592 - val_loss: 0.3070 - val_acc: 0.8333\n",
      "Epoch 96/100\n",
      "7/7 [==============================] - 1s 130ms/step - loss: 0.1022 - acc: 0.9683 - val_loss: 0.2975 - val_acc: 0.8500\n",
      "Epoch 97/100\n",
      "7/7 [==============================] - 1s 128ms/step - loss: 0.1271 - acc: 0.9456 - val_loss: 0.3006 - val_acc: 0.8333\n",
      "Epoch 98/100\n",
      "7/7 [==============================] - 1s 130ms/step - loss: 0.1275 - acc: 0.9502 - val_loss: 0.3060 - val_acc: 0.8333\n",
      "Epoch 99/100\n",
      "7/7 [==============================] - 1s 129ms/step - loss: 0.1175 - acc: 0.9683 - val_loss: 0.3078 - val_acc: 0.8333\n",
      "Epoch 100/100\n",
      "7/7 [==============================] - 1s 130ms/step - loss: 0.1223 - acc: 0.9637 - val_loss: 0.3042 - val_acc: 0.8333\n"
     ]
    }
   ],
   "source": [
    "history = model.fit_generator(train_generator, epochs=epochs, verbose=1, validation_data=validation_generator)"
   ]
  },
  {
   "cell_type": "code",
   "execution_count": 17,
   "metadata": {},
   "outputs": [
    {
     "data": {
      "image/png": "[encoded data removed]",
      "text/plain": [
       "<Figure size 432x288 with 1 Axes>"
      ]
     },
     "metadata": {},
     "output_type": "display_data"
    }
   ],
   "source": [
    "plt.plot(range(1, epochs+1), history.history['acc'], label=\"training\")\n",
    "plt.plot(range(1, epochs+1), history.history['val_acc'], label=\"validation\")\n",
    "plt.xlabel('Epochs')\n",
    "plt.ylabel('Accuracy')\n",
    "plt.legend()\n",
    "plt.show()"
   ]
  },
  {
   "cell_type": "code",
   "execution_count": null,
   "metadata": {},
   "outputs": [],
   "source": []
  }
 ],
 "metadata": {
  "kernelspec": {
   "display_name": "Python 3",
   "language": "python",
   "name": "python3"
  },
  "language_info": {
   "codemirror_mode": {
    "name": "ipython",
    "version": 3
   },
   "file_extension": ".py",
   "mimetype": "text/x-python",
   "name": "python",
   "nbconvert_exporter": "python",
   "pygments_lexer": "ipython3",
   "version": "3.6.5"
  }
 },
 "nbformat": 4,
 "nbformat_minor": 2
}
