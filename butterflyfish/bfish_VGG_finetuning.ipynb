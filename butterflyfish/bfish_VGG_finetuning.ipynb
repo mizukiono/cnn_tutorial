{
 "cells": [
  {
   "cell_type": "code",
   "execution_count": 1,
   "metadata": {},
   "outputs": [
    {
     "name": "stderr",
     "output_type": "stream",
     "text": [
      "Using TensorFlow backend.\n"
     ]
    }
   ],
   "source": [
    "from keras.applications.vgg16 import VGG16\n",
    "from keras.preprocessing.image import ImageDataGenerator\n",
    "from keras.models import Sequential, Model\n",
    "from keras.layers import Input, Activation, Dropout, Flatten, Dense\n",
    "from keras.preprocessing.image import ImageDataGenerator\n",
    "from keras.optimizers import SGD\n",
    "from keras.callbacks import CSVLogger\n",
    "import numpy as np\n",
    "import tensorflow as tf\n",
    "import matplotlib.pyplot as plt"
   ]
  },
  {
   "cell_type": "code",
   "execution_count": 2,
   "metadata": {},
   "outputs": [],
   "source": [
    "# \"failed to create cublas handle\"\n",
    "# と出る場合はGPUメモリの不足っぽいので制限してやればよい\n",
    "\n",
    "# TensorFlowのGPUメモリ使用量の制限\n",
    "from keras.backend.tensorflow_backend import set_session\n",
    "config = tf.ConfigProto()\n",
    "config.gpu_options.per_process_gpu_memory_fraction = 0.8\n",
    "set_session(tf.Session(config=config))"
   ]
  },
  {
   "cell_type": "code",
   "execution_count": 3,
   "metadata": {},
   "outputs": [],
   "source": [
    "img_width = 200\n",
    "img_height = 200\n",
    "train_data_dir = \"../data/butterflyfish/train\"\n",
    "val_data_dir = \"../data/butterflyfish/validation/\"\n",
    "\n",
    "train_samples = 200\n",
    "val_samples = 60\n",
    "epochs = 100"
   ]
  },
  {
   "cell_type": "code",
   "execution_count": 4,
   "metadata": {},
   "outputs": [],
   "source": [
    "input_tensor = Input(shape=(200, 200, 3))\n",
    "vgg16_model = VGG16(include_top=False, weights='imagenet', input_tensor=input_tensor)"
   ]
  },
  {
   "cell_type": "code",
   "execution_count": 5,
   "metadata": {
    "scrolled": true
   },
   "outputs": [],
   "source": [
    "# vgg16_model.summary()"
   ]
  },
  {
   "cell_type": "code",
   "execution_count": 6,
   "metadata": {},
   "outputs": [],
   "source": [
    "# VGGの下につなぐFC層を構築\n",
    "top_model = Sequential()\n",
    "top_model.add(Flatten(input_shape=vgg16_model.output_shape[1:]))\n",
    "# Flattenへの入力指定はbatch数を除いておく\n",
    "top_model.add(Dense(256, activation='relu'))\n",
    "top_model.add(Dropout(0.5))\n",
    "top_model.add(Dense(1, activation='sigmoid'))"
   ]
  },
  {
   "cell_type": "code",
   "execution_count": 7,
   "metadata": {},
   "outputs": [
    {
     "name": "stdout",
     "output_type": "stream",
     "text": [
      "_________________________________________________________________\n",
      "Layer (type)                 Output Shape              Param #   \n",
      "=================================================================\n",
      "flatten_1 (Flatten)          (None, 18432)             0         \n",
      "_________________________________________________________________\n",
      "dense_1 (Dense)              (None, 256)               4718848   \n",
      "_________________________________________________________________\n",
      "dropout_1 (Dropout)          (None, 256)               0         \n",
      "_________________________________________________________________\n",
      "dense_2 (Dense)              (None, 1)                 257       \n",
      "=================================================================\n",
      "Total params: 4,719,105\n",
      "Trainable params: 4,719,105\n",
      "Non-trainable params: 0\n",
      "_________________________________________________________________\n"
     ]
    }
   ],
   "source": [
    "top_model.summary()"
   ]
  },
  {
   "cell_type": "code",
   "execution_count": 8,
   "metadata": {},
   "outputs": [],
   "source": [
    "model = Model(inputs=vgg16_model.input, outputs=top_model(vgg16_model.output))"
   ]
  },
  {
   "cell_type": "code",
   "execution_count": 9,
   "metadata": {
    "scrolled": true
   },
   "outputs": [
    {
     "name": "stdout",
     "output_type": "stream",
     "text": [
      "_________________________________________________________________\n",
      "Layer (type)                 Output Shape              Param #   \n",
      "=================================================================\n",
      "input_1 (InputLayer)         (None, 200, 200, 3)       0         \n",
      "_________________________________________________________________\n",
      "block1_conv1 (Conv2D)        (None, 200, 200, 64)      1792      \n",
      "_________________________________________________________________\n",
      "block1_conv2 (Conv2D)        (None, 200, 200, 64)      36928     \n",
      "_________________________________________________________________\n",
      "block1_pool (MaxPooling2D)   (None, 100, 100, 64)      0         \n",
      "_________________________________________________________________\n",
      "block2_conv1 (Conv2D)        (None, 100, 100, 128)     73856     \n",
      "_________________________________________________________________\n",
      "block2_conv2 (Conv2D)        (None, 100, 100, 128)     147584    \n",
      "_________________________________________________________________\n",
      "block2_pool (MaxPooling2D)   (None, 50, 50, 128)       0         \n",
      "_________________________________________________________________\n",
      "block3_conv1 (Conv2D)        (None, 50, 50, 256)       295168    \n",
      "_________________________________________________________________\n",
      "block3_conv2 (Conv2D)        (None, 50, 50, 256)       590080    \n",
      "_________________________________________________________________\n",
      "block3_conv3 (Conv2D)        (None, 50, 50, 256)       590080    \n",
      "_________________________________________________________________\n",
      "block3_pool (MaxPooling2D)   (None, 25, 25, 256)       0         \n",
      "_________________________________________________________________\n",
      "block4_conv1 (Conv2D)        (None, 25, 25, 512)       1180160   \n",
      "_________________________________________________________________\n",
      "block4_conv2 (Conv2D)        (None, 25, 25, 512)       2359808   \n",
      "_________________________________________________________________\n",
      "block4_conv3 (Conv2D)        (None, 25, 25, 512)       2359808   \n",
      "_________________________________________________________________\n",
      "block4_pool (MaxPooling2D)   (None, 12, 12, 512)       0         \n",
      "_________________________________________________________________\n",
      "block5_conv1 (Conv2D)        (None, 12, 12, 512)       2359808   \n",
      "_________________________________________________________________\n",
      "block5_conv2 (Conv2D)        (None, 12, 12, 512)       2359808   \n",
      "_________________________________________________________________\n",
      "block5_conv3 (Conv2D)        (None, 12, 12, 512)       2359808   \n",
      "_________________________________________________________________\n",
      "block5_pool (MaxPooling2D)   (None, 6, 6, 512)         0         \n",
      "_________________________________________________________________\n",
      "sequential_1 (Sequential)    (None, 1)                 4719105   \n",
      "=================================================================\n",
      "Total params: 19,433,793\n",
      "Trainable params: 19,433,793\n",
      "Non-trainable params: 0\n",
      "_________________________________________________________________\n"
     ]
    }
   ],
   "source": [
    "model.summary()"
   ]
  },
  {
   "cell_type": "code",
   "execution_count": 10,
   "metadata": {},
   "outputs": [],
   "source": [
    "for layer in model.layers[:15]:\n",
    "    layer.trainable = False"
   ]
  },
  {
   "cell_type": "code",
   "execution_count": 11,
   "metadata": {
    "scrolled": true
   },
   "outputs": [
    {
     "name": "stdout",
     "output_type": "stream",
     "text": [
      "_________________________________________________________________\n",
      "Layer (type)                 Output Shape              Param #   \n",
      "=================================================================\n",
      "input_1 (InputLayer)         (None, 200, 200, 3)       0         \n",
      "_________________________________________________________________\n",
      "block1_conv1 (Conv2D)        (None, 200, 200, 64)      1792      \n",
      "_________________________________________________________________\n",
      "block1_conv2 (Conv2D)        (None, 200, 200, 64)      36928     \n",
      "_________________________________________________________________\n",
      "block1_pool (MaxPooling2D)   (None, 100, 100, 64)      0         \n",
      "_________________________________________________________________\n",
      "block2_conv1 (Conv2D)        (None, 100, 100, 128)     73856     \n",
      "_________________________________________________________________\n",
      "block2_conv2 (Conv2D)        (None, 100, 100, 128)     147584    \n",
      "_________________________________________________________________\n",
      "block2_pool (MaxPooling2D)   (None, 50, 50, 128)       0         \n",
      "_________________________________________________________________\n",
      "block3_conv1 (Conv2D)        (None, 50, 50, 256)       295168    \n",
      "_________________________________________________________________\n",
      "block3_conv2 (Conv2D)        (None, 50, 50, 256)       590080    \n",
      "_________________________________________________________________\n",
      "block3_conv3 (Conv2D)        (None, 50, 50, 256)       590080    \n",
      "_________________________________________________________________\n",
      "block3_pool (MaxPooling2D)   (None, 25, 25, 256)       0         \n",
      "_________________________________________________________________\n",
      "block4_conv1 (Conv2D)        (None, 25, 25, 512)       1180160   \n",
      "_________________________________________________________________\n",
      "block4_conv2 (Conv2D)        (None, 25, 25, 512)       2359808   \n",
      "_________________________________________________________________\n",
      "block4_conv3 (Conv2D)        (None, 25, 25, 512)       2359808   \n",
      "_________________________________________________________________\n",
      "block4_pool (MaxPooling2D)   (None, 12, 12, 512)       0         \n",
      "_________________________________________________________________\n",
      "block5_conv1 (Conv2D)        (None, 12, 12, 512)       2359808   \n",
      "_________________________________________________________________\n",
      "block5_conv2 (Conv2D)        (None, 12, 12, 512)       2359808   \n",
      "_________________________________________________________________\n",
      "block5_conv3 (Conv2D)        (None, 12, 12, 512)       2359808   \n",
      "_________________________________________________________________\n",
      "block5_pool (MaxPooling2D)   (None, 6, 6, 512)         0         \n",
      "_________________________________________________________________\n",
      "sequential_1 (Sequential)    (None, 1)                 4719105   \n",
      "=================================================================\n",
      "Total params: 19,433,793\n",
      "Trainable params: 11,798,529\n",
      "Non-trainable params: 7,635,264\n",
      "_________________________________________________________________\n"
     ]
    }
   ],
   "source": [
    "model.summary()"
   ]
  },
  {
   "cell_type": "code",
   "execution_count": 12,
   "metadata": {},
   "outputs": [],
   "source": [
    "model.compile(loss='binary_crossentropy', optimizer=SGD(lr=0.0001, momentum=0.9), metrics=['accuracy'])"
   ]
  },
  {
   "cell_type": "code",
   "execution_count": 13,
   "metadata": {},
   "outputs": [],
   "source": [
    "# データをつくる\n",
    "train_datagen = ImageDataGenerator(rescale=1.0/255, rotation_range=90, width_shift_range=0.2, height_shift_range=0.2,\n",
    "                                  horizontal_flip=True)\n",
    "test_datagen = ImageDataGenerator(rescale=1.0/255)"
   ]
  },
  {
   "cell_type": "code",
   "execution_count": 14,
   "metadata": {},
   "outputs": [
    {
     "name": "stdout",
     "output_type": "stream",
     "text": [
      "Found 200 images belonging to 2 classes.\n",
      "Found 60 images belonging to 2 classes.\n"
     ]
    }
   ],
   "source": [
    "train_generator = train_datagen.flow_from_directory(train_data_dir, target_size=(200, 200),\n",
    "                                                    batch_size=32, class_mode='binary')\n",
    "validation_generator = test_datagen.flow_from_directory(val_data_dir, target_size=(200, 200),\n",
    "                                                    batch_size=32, class_mode='binary')"
   ]
  },
  {
   "cell_type": "code",
   "execution_count": 15,
   "metadata": {},
   "outputs": [
    {
     "name": "stdout",
     "output_type": "stream",
     "text": [
      "{'oriental': 0, 'threadfin': 1}\n"
     ]
    }
   ],
   "source": [
    "print(train_generator.class_indices)"
   ]
  },
  {
   "cell_type": "code",
   "execution_count": 16,
   "metadata": {
    "scrolled": true
   },
   "outputs": [
    {
     "name": "stdout",
     "output_type": "stream",
     "text": [
      "Epoch 1/100\n",
      "7/7 [==============================] - 4s 603ms/step - loss: 0.7556 - acc: 0.5317 - val_loss: 0.7221 - val_acc: 0.4667\n",
      "Epoch 2/100\n",
      "7/7 [==============================] - 1s 153ms/step - loss: 0.7229 - acc: 0.5616 - val_loss: 0.7127 - val_acc: 0.5333\n",
      "Epoch 3/100\n",
      "7/7 [==============================] - 2s 219ms/step - loss: 0.7477 - acc: 0.5280 - val_loss: 0.7032 - val_acc: 0.5500\n",
      "Epoch 4/100\n",
      "7/7 [==============================] - 1s 209ms/step - loss: 0.7358 - acc: 0.5706 - val_loss: 0.6968 - val_acc: 0.5000\n",
      "Epoch 5/100\n",
      "7/7 [==============================] - 2s 231ms/step - loss: 0.7196 - acc: 0.5155 - val_loss: 0.6975 - val_acc: 0.6000\n",
      "Epoch 6/100\n",
      "7/7 [==============================] - 1s 214ms/step - loss: 0.7039 - acc: 0.5816 - val_loss: 0.6785 - val_acc: 0.6000\n",
      "Epoch 7/100\n",
      "7/7 [==============================] - 1s 214ms/step - loss: 0.6951 - acc: 0.5491 - val_loss: 0.6715 - val_acc: 0.6167\n",
      "Epoch 8/100\n",
      "7/7 [==============================] - 2s 231ms/step - loss: 0.6911 - acc: 0.6231 - val_loss: 0.6743 - val_acc: 0.6000\n",
      "Epoch 9/100\n",
      "7/7 [==============================] - 1s 214ms/step - loss: 0.6628 - acc: 0.6284 - val_loss: 0.6617 - val_acc: 0.6333\n",
      "Epoch 10/100\n",
      "7/7 [==============================] - 2s 230ms/step - loss: 0.6424 - acc: 0.6178 - val_loss: 0.6491 - val_acc: 0.7167\n",
      "Epoch 11/100\n",
      "7/7 [==============================] - 1s 214ms/step - loss: 0.6990 - acc: 0.5173 - val_loss: 0.6521 - val_acc: 0.6333\n",
      "Epoch 12/100\n",
      "7/7 [==============================] - 2s 230ms/step - loss: 0.6240 - acc: 0.6820 - val_loss: 0.6671 - val_acc: 0.5833\n",
      "Epoch 13/100\n",
      "7/7 [==============================] - 2s 216ms/step - loss: 0.6293 - acc: 0.6839 - val_loss: 0.6306 - val_acc: 0.6667\n",
      "Epoch 14/100\n",
      "7/7 [==============================] - 2s 215ms/step - loss: 0.6449 - acc: 0.6133 - val_loss: 0.6174 - val_acc: 0.7500\n",
      "Epoch 15/100\n",
      "7/7 [==============================] - 1s 214ms/step - loss: 0.5599 - acc: 0.7345 - val_loss: 0.6186 - val_acc: 0.6500\n",
      "Epoch 16/100\n",
      "7/7 [==============================] - 2s 215ms/step - loss: 0.5760 - acc: 0.7066 - val_loss: 0.5943 - val_acc: 0.7500\n",
      "Epoch 17/100\n",
      "7/7 [==============================] - 2s 215ms/step - loss: 0.6280 - acc: 0.6412 - val_loss: 0.5949 - val_acc: 0.6667\n",
      "Epoch 18/100\n",
      "7/7 [==============================] - 2s 216ms/step - loss: 0.5469 - acc: 0.7572 - val_loss: 0.5740 - val_acc: 0.7667\n",
      "Epoch 19/100\n",
      "7/7 [==============================] - 2s 215ms/step - loss: 0.5405 - acc: 0.7409 - val_loss: 0.5663 - val_acc: 0.7667\n",
      "Epoch 20/100\n",
      "7/7 [==============================] - 2s 216ms/step - loss: 0.5119 - acc: 0.7591 - val_loss: 0.5537 - val_acc: 0.7833\n",
      "Epoch 21/100\n",
      "7/7 [==============================] - 2s 215ms/step - loss: 0.5931 - acc: 0.6613 - val_loss: 0.5467 - val_acc: 0.7333\n",
      "Epoch 22/100\n",
      "7/7 [==============================] - 2s 215ms/step - loss: 0.5121 - acc: 0.7727 - val_loss: 0.5457 - val_acc: 0.7500\n",
      "Epoch 23/100\n",
      "7/7 [==============================] - 2s 215ms/step - loss: 0.5540 - acc: 0.7009 - val_loss: 0.5446 - val_acc: 0.7500\n",
      "Epoch 24/100\n",
      "7/7 [==============================] - 2s 216ms/step - loss: 0.5096 - acc: 0.7798 - val_loss: 0.5612 - val_acc: 0.7000\n",
      "Epoch 25/100\n",
      "7/7 [==============================] - 2s 214ms/step - loss: 0.4791 - acc: 0.8097 - val_loss: 0.5028 - val_acc: 0.7500\n",
      "Epoch 26/100\n",
      "7/7 [==============================] - 2s 215ms/step - loss: 0.4296 - acc: 0.8278 - val_loss: 0.4910 - val_acc: 0.7667\n",
      "Epoch 27/100\n",
      "7/7 [==============================] - 1s 214ms/step - loss: 0.4260 - acc: 0.8550 - val_loss: 0.5045 - val_acc: 0.7333\n",
      "Epoch 28/100\n",
      "7/7 [==============================] - 2s 215ms/step - loss: 0.4564 - acc: 0.7881 - val_loss: 0.4712 - val_acc: 0.7833\n",
      "Epoch 29/100\n",
      "7/7 [==============================] - 2s 216ms/step - loss: 0.4167 - acc: 0.8278 - val_loss: 0.4644 - val_acc: 0.7833\n",
      "Epoch 30/100\n",
      "7/7 [==============================] - 1s 214ms/step - loss: 0.4499 - acc: 0.7927 - val_loss: 0.4924 - val_acc: 0.7333\n",
      "Epoch 31/100\n",
      "7/7 [==============================] - 2s 215ms/step - loss: 0.4555 - acc: 0.7673 - val_loss: 0.4518 - val_acc: 0.7667\n",
      "Epoch 32/100\n",
      "7/7 [==============================] - 2s 215ms/step - loss: 0.4204 - acc: 0.8025 - val_loss: 0.4450 - val_acc: 0.7833\n",
      "Epoch 33/100\n",
      "7/7 [==============================] - 2s 215ms/step - loss: 0.3687 - acc: 0.8588 - val_loss: 0.4566 - val_acc: 0.7667\n",
      "Epoch 34/100\n",
      "7/7 [==============================] - 2s 215ms/step - loss: 0.3609 - acc: 0.8777 - val_loss: 0.4392 - val_acc: 0.7833\n",
      "Epoch 35/100\n",
      "7/7 [==============================] - 2s 219ms/step - loss: 0.3541 - acc: 0.8686 - val_loss: 0.4293 - val_acc: 0.7833\n",
      "Epoch 36/100\n",
      "7/7 [==============================] - 2s 219ms/step - loss: 0.3201 - acc: 0.8686 - val_loss: 0.4532 - val_acc: 0.7667\n",
      "Epoch 37/100\n",
      "7/7 [==============================] - 2s 228ms/step - loss: 0.3398 - acc: 0.8588 - val_loss: 0.4183 - val_acc: 0.7833\n",
      "Epoch 38/100\n",
      "7/7 [==============================] - 1s 209ms/step - loss: 0.3882 - acc: 0.8244 - val_loss: 0.4160 - val_acc: 0.8000\n",
      "Epoch 39/100\n",
      "7/7 [==============================] - 2s 215ms/step - loss: 0.2957 - acc: 0.8886 - val_loss: 0.4259 - val_acc: 0.7833\n",
      "Epoch 40/100\n",
      "7/7 [==============================] - 2s 218ms/step - loss: 0.3135 - acc: 0.8614 - val_loss: 0.4233 - val_acc: 0.7833\n",
      "Epoch 41/100\n",
      "7/7 [==============================] - 1s 213ms/step - loss: 0.3001 - acc: 0.8777 - val_loss: 0.4080 - val_acc: 0.8000\n",
      "Epoch 42/100\n",
      "7/7 [==============================] - 2s 215ms/step - loss: 0.3002 - acc: 0.8777 - val_loss: 0.4111 - val_acc: 0.8167\n",
      "Epoch 43/100\n",
      "7/7 [==============================] - 1s 214ms/step - loss: 0.2913 - acc: 0.8841 - val_loss: 0.4032 - val_acc: 0.8167\n",
      "Epoch 44/100\n",
      "7/7 [==============================] - 2s 215ms/step - loss: 0.2805 - acc: 0.9094 - val_loss: 0.4197 - val_acc: 0.8000\n",
      "Epoch 45/100\n",
      "7/7 [==============================] - 2s 216ms/step - loss: 0.3113 - acc: 0.8678 - val_loss: 0.4002 - val_acc: 0.8000\n",
      "Epoch 46/100\n",
      "7/7 [==============================] - 2s 218ms/step - loss: 0.2842 - acc: 0.8723 - val_loss: 0.4043 - val_acc: 0.8000\n",
      "Epoch 47/100\n",
      "7/7 [==============================] - 1s 214ms/step - loss: 0.2957 - acc: 0.8452 - val_loss: 0.4240 - val_acc: 0.7833\n",
      "Epoch 48/100\n",
      "7/7 [==============================] - 1s 212ms/step - loss: 0.2868 - acc: 0.8795 - val_loss: 0.3816 - val_acc: 0.8167\n",
      "Epoch 49/100\n",
      "7/7 [==============================] - 1s 213ms/step - loss: 0.2732 - acc: 0.8912 - val_loss: 0.4001 - val_acc: 0.7833\n",
      "Epoch 50/100\n",
      "7/7 [==============================] - 2s 215ms/step - loss: 0.2333 - acc: 0.9158 - val_loss: 0.3815 - val_acc: 0.8000\n",
      "Epoch 51/100\n",
      "7/7 [==============================] - 2s 215ms/step - loss: 0.2416 - acc: 0.8886 - val_loss: 0.3774 - val_acc: 0.8000\n",
      "Epoch 52/100\n",
      "7/7 [==============================] - 2s 218ms/step - loss: 0.2304 - acc: 0.9203 - val_loss: 0.3713 - val_acc: 0.8167\n",
      "Epoch 53/100\n",
      "7/7 [==============================] - 2s 218ms/step - loss: 0.3150 - acc: 0.8372 - val_loss: 0.3810 - val_acc: 0.8000\n",
      "Epoch 54/100\n",
      "7/7 [==============================] - 1s 211ms/step - loss: 0.2752 - acc: 0.9022 - val_loss: 0.3729 - val_acc: 0.8000\n",
      "Epoch 55/100\n",
      "7/7 [==============================] - 2s 216ms/step - loss: 0.1963 - acc: 0.9320 - val_loss: 0.3773 - val_acc: 0.8000\n",
      "Epoch 56/100\n",
      "7/7 [==============================] - 1s 213ms/step - loss: 0.2151 - acc: 0.9048 - val_loss: 0.3787 - val_acc: 0.7833\n",
      "Epoch 57/100\n",
      "7/7 [==============================] - 2s 216ms/step - loss: 0.2249 - acc: 0.9275 - val_loss: 0.3648 - val_acc: 0.8000\n",
      "Epoch 58/100\n",
      "7/7 [==============================] - 2s 215ms/step - loss: 0.1828 - acc: 0.9230 - val_loss: 0.3674 - val_acc: 0.7833\n",
      "Epoch 59/100\n",
      "7/7 [==============================] - 2s 216ms/step - loss: 0.2317 - acc: 0.9022 - val_loss: 0.3708 - val_acc: 0.8000\n",
      "Epoch 60/100\n",
      "7/7 [==============================] - 2s 217ms/step - loss: 0.1908 - acc: 0.9139 - val_loss: 0.3539 - val_acc: 0.8167\n",
      "Epoch 61/100\n",
      "7/7 [==============================] - 2s 215ms/step - loss: 0.2083 - acc: 0.9203 - val_loss: 0.3718 - val_acc: 0.8000\n",
      "Epoch 62/100\n",
      "7/7 [==============================] - 2s 217ms/step - loss: 0.1796 - acc: 0.9502 - val_loss: 0.3695 - val_acc: 0.8000\n",
      "Epoch 63/100\n"
     ]
    },
    {
     "name": "stdout",
     "output_type": "stream",
     "text": [
      "7/7 [==============================] - 2s 223ms/step - loss: 0.1742 - acc: 0.9456 - val_loss: 0.3661 - val_acc: 0.8167\n",
      "Epoch 64/100\n",
      "7/7 [==============================] - 1s 214ms/step - loss: 0.1645 - acc: 0.9320 - val_loss: 0.3954 - val_acc: 0.8000\n",
      "Epoch 65/100\n",
      "7/7 [==============================] - 2s 216ms/step - loss: 0.1949 - acc: 0.9158 - val_loss: 0.3855 - val_acc: 0.8167\n",
      "Epoch 66/100\n",
      "7/7 [==============================] - 2s 218ms/step - loss: 0.1547 - acc: 0.9366 - val_loss: 0.3627 - val_acc: 0.8500\n",
      "Epoch 67/100\n",
      "7/7 [==============================] - 1s 213ms/step - loss: 0.2212 - acc: 0.9067 - val_loss: 0.3866 - val_acc: 0.8000\n",
      "Epoch 68/100\n",
      "7/7 [==============================] - 2s 238ms/step - loss: 0.2207 - acc: 0.8995 - val_loss: 0.3723 - val_acc: 0.8167\n",
      "Epoch 69/100\n",
      "7/7 [==============================] - 2s 222ms/step - loss: 0.2032 - acc: 0.9203 - val_loss: 0.3452 - val_acc: 0.8500\n",
      "Epoch 70/100\n",
      "7/7 [==============================] - 1s 214ms/step - loss: 0.1660 - acc: 0.9384 - val_loss: 0.3942 - val_acc: 0.8000\n",
      "Epoch 71/100\n",
      "7/7 [==============================] - 1s 213ms/step - loss: 0.1761 - acc: 0.9139 - val_loss: 0.3598 - val_acc: 0.8333\n",
      "Epoch 72/100\n",
      "7/7 [==============================] - 2s 237ms/step - loss: 0.1833 - acc: 0.9177 - val_loss: 0.3336 - val_acc: 0.8333\n",
      "Epoch 73/100\n",
      "7/7 [==============================] - 2s 222ms/step - loss: 0.1484 - acc: 0.9384 - val_loss: 0.3397 - val_acc: 0.8167\n",
      "Epoch 74/100\n",
      "7/7 [==============================] - 2s 242ms/step - loss: 0.1514 - acc: 0.9456 - val_loss: 0.3495 - val_acc: 0.8333\n",
      "Epoch 75/100\n",
      "7/7 [==============================] - 2s 221ms/step - loss: 0.1370 - acc: 0.9728 - val_loss: 0.3415 - val_acc: 0.8167\n",
      "Epoch 76/100\n",
      "7/7 [==============================] - 2s 219ms/step - loss: 0.1753 - acc: 0.9294 - val_loss: 0.3373 - val_acc: 0.8167\n",
      "Epoch 77/100\n",
      "7/7 [==============================] - 2s 214ms/step - loss: 0.1714 - acc: 0.9203 - val_loss: 0.3515 - val_acc: 0.8333\n",
      "Epoch 78/100\n",
      "7/7 [==============================] - 2s 216ms/step - loss: 0.1402 - acc: 0.9411 - val_loss: 0.3281 - val_acc: 0.8333\n",
      "Epoch 79/100\n",
      "7/7 [==============================] - 2s 226ms/step - loss: 0.1705 - acc: 0.9384 - val_loss: 0.3394 - val_acc: 0.8167\n",
      "Epoch 80/100\n",
      "7/7 [==============================] - 1s 211ms/step - loss: 0.1607 - acc: 0.9448 - val_loss: 0.3403 - val_acc: 0.8167\n",
      "Epoch 81/100\n",
      "7/7 [==============================] - 2s 218ms/step - loss: 0.1213 - acc: 0.9547 - val_loss: 0.3524 - val_acc: 0.8333\n",
      "Epoch 82/100\n",
      "7/7 [==============================] - 2s 222ms/step - loss: 0.1199 - acc: 0.9611 - val_loss: 0.3393 - val_acc: 0.8333\n",
      "Epoch 83/100\n",
      "7/7 [==============================] - 2s 219ms/step - loss: 0.1255 - acc: 0.9502 - val_loss: 0.3410 - val_acc: 0.8333\n",
      "Epoch 84/100\n",
      "7/7 [==============================] - 1s 214ms/step - loss: 0.1453 - acc: 0.9430 - val_loss: 0.3536 - val_acc: 0.8167\n",
      "Epoch 85/100\n",
      "7/7 [==============================] - 2s 233ms/step - loss: 0.1322 - acc: 0.9592 - val_loss: 0.3346 - val_acc: 0.8333\n",
      "Epoch 86/100\n",
      "7/7 [==============================] - 2s 222ms/step - loss: 0.1655 - acc: 0.9456 - val_loss: 0.3452 - val_acc: 0.8167\n",
      "Epoch 87/100\n",
      "7/7 [==============================] - 2s 240ms/step - loss: 0.1311 - acc: 0.9547 - val_loss: 0.3382 - val_acc: 0.8333\n",
      "Epoch 88/100\n",
      "7/7 [==============================] - 1s 210ms/step - loss: 0.1444 - acc: 0.9430 - val_loss: 0.3459 - val_acc: 0.8333\n",
      "Epoch 89/100\n",
      "7/7 [==============================] - 2s 217ms/step - loss: 0.1462 - acc: 0.9313 - val_loss: 0.3632 - val_acc: 0.8167\n",
      "Epoch 90/100\n",
      "7/7 [==============================] - 2s 224ms/step - loss: 0.1338 - acc: 0.9637 - val_loss: 0.3240 - val_acc: 0.8500\n",
      "Epoch 91/100\n",
      "7/7 [==============================] - 2s 221ms/step - loss: 0.1199 - acc: 0.9683 - val_loss: 0.3315 - val_acc: 0.8333\n",
      "Epoch 92/100\n",
      "7/7 [==============================] - 2s 240ms/step - loss: 0.1530 - acc: 0.9592 - val_loss: 0.3568 - val_acc: 0.8167\n",
      "Epoch 93/100\n",
      "7/7 [==============================] - 2s 236ms/step - loss: 0.1235 - acc: 0.9592 - val_loss: 0.3267 - val_acc: 0.8667\n",
      "Epoch 94/100\n",
      "7/7 [==============================] - 2s 219ms/step - loss: 0.1199 - acc: 0.9656 - val_loss: 0.3360 - val_acc: 0.8333\n",
      "Epoch 95/100\n",
      "7/7 [==============================] - 1s 211ms/step - loss: 0.1031 - acc: 0.9637 - val_loss: 0.3526 - val_acc: 0.8167\n",
      "Epoch 96/100\n",
      "7/7 [==============================] - 1s 212ms/step - loss: 0.1133 - acc: 0.9683 - val_loss: 0.3316 - val_acc: 0.8500\n",
      "Epoch 97/100\n",
      "7/7 [==============================] - 2s 232ms/step - loss: 0.1306 - acc: 0.9502 - val_loss: 0.3393 - val_acc: 0.8333\n",
      "Epoch 98/100\n",
      "7/7 [==============================] - 2s 226ms/step - loss: 0.0994 - acc: 0.9773 - val_loss: 0.3514 - val_acc: 0.8333\n",
      "Epoch 99/100\n",
      "7/7 [==============================] - 2s 223ms/step - loss: 0.0822 - acc: 0.9864 - val_loss: 0.3484 - val_acc: 0.8333\n",
      "Epoch 100/100\n",
      "7/7 [==============================] - 1s 212ms/step - loss: 0.0878 - acc: 0.9819 - val_loss: 0.3737 - val_acc: 0.8000\n"
     ]
    }
   ],
   "source": [
    "history = model.fit_generator(train_generator, epochs=epochs, verbose=1, validation_data=validation_generator)"
   ]
  },
  {
   "cell_type": "code",
   "execution_count": 17,
   "metadata": {},
   "outputs": [
    {
     "data": {
      "image/png": "[encoded data removed]",
      "text/plain": [
       "<Figure size 432x288 with 1 Axes>"
      ]
     },
     "metadata": {},
     "output_type": "display_data"
    }
   ],
   "source": [
    "plt.plot(range(1, epochs+1), history.history['acc'], label=\"training\")\n",
    "plt.plot(range(1, epochs+1), history.history['val_acc'], label=\"validation\")\n",
    "plt.xlabel('Epochs')\n",
    "plt.ylabel('Accuracy')\n",
    "plt.legend()\n",
    "plt.show()"
   ]
  },
  {
   "cell_type": "code",
   "execution_count": null,
   "metadata": {},
   "outputs": [],
   "source": []
  }
 ],
 "metadata": {
  "kernelspec": {
   "display_name": "Python 3",
   "language": "python",
   "name": "python3"
  },
  "language_info": {
   "codemirror_mode": {
    "name": "ipython",
    "version": 3
   },
   "file_extension": ".py",
   "mimetype": "text/x-python",
   "name": "python",
   "nbconvert_exporter": "python",
   "pygments_lexer": "ipython3",
   "version": "3.6.5"
  }
 },
 "nbformat": 4,
 "nbformat_minor": 2
}
